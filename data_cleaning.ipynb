{
 "cells": [
  {
   "cell_type": "code",
   "execution_count": 118,
   "metadata": {},
   "outputs": [],
   "source": [
    "import pandas as pd \n",
    "import matplotlib.pyplot as plt \n",
    "import seaborn as sns \n",
    "import numpy as np"
   ]
  },
  {
   "cell_type": "code",
   "execution_count": 258,
   "metadata": {},
   "outputs": [],
   "source": [
    "import re"
   ]
  },
  {
   "cell_type": "code",
   "execution_count": 119,
   "metadata": {},
   "outputs": [],
   "source": [
    "df = pd.read_csv('glassdoor_jobs.csv')"
   ]
  },
  {
   "cell_type": "code",
   "execution_count": 120,
   "metadata": {},
   "outputs": [
    {
     "data": {
      "text/html": [
       "<div>\n",
       "<style scoped>\n",
       "    .dataframe tbody tr th:only-of-type {\n",
       "        vertical-align: middle;\n",
       "    }\n",
       "\n",
       "    .dataframe tbody tr th {\n",
       "        vertical-align: top;\n",
       "    }\n",
       "\n",
       "    .dataframe thead th {\n",
       "        text-align: right;\n",
       "    }\n",
       "</style>\n",
       "<table border=\"1\" class=\"dataframe\">\n",
       "  <thead>\n",
       "    <tr style=\"text-align: right;\">\n",
       "      <th></th>\n",
       "      <th>Unnamed: 0</th>\n",
       "      <th>Job Title</th>\n",
       "      <th>Salary Estimate</th>\n",
       "      <th>Job Description</th>\n",
       "      <th>Rating</th>\n",
       "      <th>Company Name</th>\n",
       "      <th>Location</th>\n",
       "      <th>Headquarters</th>\n",
       "      <th>Size</th>\n",
       "      <th>Founded</th>\n",
       "      <th>Type of ownership</th>\n",
       "      <th>Industry</th>\n",
       "      <th>Sector</th>\n",
       "      <th>Revenue</th>\n",
       "      <th>Competitors</th>\n",
       "    </tr>\n",
       "  </thead>\n",
       "  <tbody>\n",
       "    <tr>\n",
       "      <th>0</th>\n",
       "      <td>0</td>\n",
       "      <td>Data Scientist</td>\n",
       "      <td>$53K-$91K (Glassdoor est.)</td>\n",
       "      <td>Data Scientist\\nLocation: Albuquerque, NM\\nEdu...</td>\n",
       "      <td>3.8</td>\n",
       "      <td>Tecolote Research\\n3.8</td>\n",
       "      <td>Albuquerque, NM</td>\n",
       "      <td>Goleta, CA</td>\n",
       "      <td>501 to 1000 employees</td>\n",
       "      <td>1973</td>\n",
       "      <td>Company - Private</td>\n",
       "      <td>Aerospace &amp; Defense</td>\n",
       "      <td>Aerospace &amp; Defense</td>\n",
       "      <td>$50 to $100 million (USD)</td>\n",
       "      <td>-1</td>\n",
       "    </tr>\n",
       "    <tr>\n",
       "      <th>1</th>\n",
       "      <td>1</td>\n",
       "      <td>Healthcare Data Scientist</td>\n",
       "      <td>$63K-$112K (Glassdoor est.)</td>\n",
       "      <td>What You Will Do:\\n\\nI. General Summary\\n\\nThe...</td>\n",
       "      <td>3.4</td>\n",
       "      <td>University of Maryland Medical System\\n3.4</td>\n",
       "      <td>Linthicum, MD</td>\n",
       "      <td>Baltimore, MD</td>\n",
       "      <td>10000+ employees</td>\n",
       "      <td>1984</td>\n",
       "      <td>Other Organization</td>\n",
       "      <td>Health Care Services &amp; Hospitals</td>\n",
       "      <td>Health Care</td>\n",
       "      <td>$2 to $5 billion (USD)</td>\n",
       "      <td>-1</td>\n",
       "    </tr>\n",
       "    <tr>\n",
       "      <th>2</th>\n",
       "      <td>2</td>\n",
       "      <td>Data Scientist</td>\n",
       "      <td>$80K-$90K (Glassdoor est.)</td>\n",
       "      <td>KnowBe4, Inc. is a high growth information sec...</td>\n",
       "      <td>4.8</td>\n",
       "      <td>KnowBe4\\n4.8</td>\n",
       "      <td>Clearwater, FL</td>\n",
       "      <td>Clearwater, FL</td>\n",
       "      <td>501 to 1000 employees</td>\n",
       "      <td>2010</td>\n",
       "      <td>Company - Private</td>\n",
       "      <td>Security Services</td>\n",
       "      <td>Business Services</td>\n",
       "      <td>$100 to $500 million (USD)</td>\n",
       "      <td>-1</td>\n",
       "    </tr>\n",
       "    <tr>\n",
       "      <th>3</th>\n",
       "      <td>3</td>\n",
       "      <td>Data Scientist</td>\n",
       "      <td>$56K-$97K (Glassdoor est.)</td>\n",
       "      <td>*Organization and Job ID**\\nJob ID: 310709\\n\\n...</td>\n",
       "      <td>3.8</td>\n",
       "      <td>PNNL\\n3.8</td>\n",
       "      <td>Richland, WA</td>\n",
       "      <td>Richland, WA</td>\n",
       "      <td>1001 to 5000 employees</td>\n",
       "      <td>1965</td>\n",
       "      <td>Government</td>\n",
       "      <td>Energy</td>\n",
       "      <td>Oil, Gas, Energy &amp; Utilities</td>\n",
       "      <td>$500 million to $1 billion (USD)</td>\n",
       "      <td>Oak Ridge National Laboratory, National Renewa...</td>\n",
       "    </tr>\n",
       "    <tr>\n",
       "      <th>4</th>\n",
       "      <td>4</td>\n",
       "      <td>Data Scientist</td>\n",
       "      <td>$86K-$143K (Glassdoor est.)</td>\n",
       "      <td>Data Scientist\\nAffinity Solutions / Marketing...</td>\n",
       "      <td>2.9</td>\n",
       "      <td>Affinity Solutions\\n2.9</td>\n",
       "      <td>New York, NY</td>\n",
       "      <td>New York, NY</td>\n",
       "      <td>51 to 200 employees</td>\n",
       "      <td>1998</td>\n",
       "      <td>Company - Private</td>\n",
       "      <td>Advertising &amp; Marketing</td>\n",
       "      <td>Business Services</td>\n",
       "      <td>Unknown / Non-Applicable</td>\n",
       "      <td>Commerce Signals, Cardlytics, Yodlee</td>\n",
       "    </tr>\n",
       "  </tbody>\n",
       "</table>\n",
       "</div>"
      ],
      "text/plain": [
       "   Unnamed: 0                  Job Title              Salary Estimate  \\\n",
       "0           0             Data Scientist   $53K-$91K (Glassdoor est.)   \n",
       "1           1  Healthcare Data Scientist  $63K-$112K (Glassdoor est.)   \n",
       "2           2             Data Scientist   $80K-$90K (Glassdoor est.)   \n",
       "3           3             Data Scientist   $56K-$97K (Glassdoor est.)   \n",
       "4           4             Data Scientist  $86K-$143K (Glassdoor est.)   \n",
       "\n",
       "                                     Job Description  Rating  \\\n",
       "0  Data Scientist\\nLocation: Albuquerque, NM\\nEdu...     3.8   \n",
       "1  What You Will Do:\\n\\nI. General Summary\\n\\nThe...     3.4   \n",
       "2  KnowBe4, Inc. is a high growth information sec...     4.8   \n",
       "3  *Organization and Job ID**\\nJob ID: 310709\\n\\n...     3.8   \n",
       "4  Data Scientist\\nAffinity Solutions / Marketing...     2.9   \n",
       "\n",
       "                                 Company Name         Location  \\\n",
       "0                      Tecolote Research\\n3.8  Albuquerque, NM   \n",
       "1  University of Maryland Medical System\\n3.4    Linthicum, MD   \n",
       "2                                KnowBe4\\n4.8   Clearwater, FL   \n",
       "3                                   PNNL\\n3.8     Richland, WA   \n",
       "4                     Affinity Solutions\\n2.9     New York, NY   \n",
       "\n",
       "     Headquarters                    Size  Founded   Type of ownership  \\\n",
       "0      Goleta, CA   501 to 1000 employees     1973   Company - Private   \n",
       "1   Baltimore, MD        10000+ employees     1984  Other Organization   \n",
       "2  Clearwater, FL   501 to 1000 employees     2010   Company - Private   \n",
       "3    Richland, WA  1001 to 5000 employees     1965          Government   \n",
       "4    New York, NY     51 to 200 employees     1998   Company - Private   \n",
       "\n",
       "                           Industry                        Sector  \\\n",
       "0               Aerospace & Defense           Aerospace & Defense   \n",
       "1  Health Care Services & Hospitals                   Health Care   \n",
       "2                 Security Services             Business Services   \n",
       "3                            Energy  Oil, Gas, Energy & Utilities   \n",
       "4           Advertising & Marketing             Business Services   \n",
       "\n",
       "                            Revenue  \\\n",
       "0         $50 to $100 million (USD)   \n",
       "1            $2 to $5 billion (USD)   \n",
       "2        $100 to $500 million (USD)   \n",
       "3  $500 million to $1 billion (USD)   \n",
       "4          Unknown / Non-Applicable   \n",
       "\n",
       "                                         Competitors  \n",
       "0                                                 -1  \n",
       "1                                                 -1  \n",
       "2                                                 -1  \n",
       "3  Oak Ridge National Laboratory, National Renewa...  \n",
       "4               Commerce Signals, Cardlytics, Yodlee  "
      ]
     },
     "execution_count": 120,
     "metadata": {},
     "output_type": "execute_result"
    }
   ],
   "source": [
    "df.head()"
   ]
  },
  {
   "cell_type": "code",
   "execution_count": 121,
   "metadata": {},
   "outputs": [
    {
     "data": {
      "text/plain": [
       "(956, 15)"
      ]
     },
     "execution_count": 121,
     "metadata": {},
     "output_type": "execute_result"
    }
   ],
   "source": [
    "df.shape"
   ]
  },
  {
   "cell_type": "code",
   "execution_count": 122,
   "metadata": {},
   "outputs": [],
   "source": [
    "df.drop('Unnamed: 0', inplace=True, axis=1)"
   ]
  },
  {
   "cell_type": "code",
   "execution_count": 123,
   "metadata": {},
   "outputs": [
    {
     "name": "stdout",
     "output_type": "stream",
     "text": [
      "<class 'pandas.core.frame.DataFrame'>\n",
      "RangeIndex: 956 entries, 0 to 955\n",
      "Data columns (total 14 columns):\n",
      " #   Column             Non-Null Count  Dtype  \n",
      "---  ------             --------------  -----  \n",
      " 0   Job Title          956 non-null    object \n",
      " 1   Salary Estimate    956 non-null    object \n",
      " 2   Job Description    956 non-null    object \n",
      " 3   Rating             956 non-null    float64\n",
      " 4   Company Name       956 non-null    object \n",
      " 5   Location           956 non-null    object \n",
      " 6   Headquarters       956 non-null    object \n",
      " 7   Size               956 non-null    object \n",
      " 8   Founded            956 non-null    int64  \n",
      " 9   Type of ownership  956 non-null    object \n",
      " 10  Industry           956 non-null    object \n",
      " 11  Sector             956 non-null    object \n",
      " 12  Revenue            956 non-null    object \n",
      " 13  Competitors        956 non-null    object \n",
      "dtypes: float64(1), int64(1), object(12)\n",
      "memory usage: 104.7+ KB\n"
     ]
    }
   ],
   "source": [
    "df.info()"
   ]
  },
  {
   "cell_type": "code",
   "execution_count": 144,
   "metadata": {},
   "outputs": [],
   "source": [
    "df = df[df['Salary Estimate'] != '-1']"
   ]
  },
  {
   "cell_type": "code",
   "execution_count": 145,
   "metadata": {},
   "outputs": [
    {
     "data": {
      "text/plain": [
       "array(['$53K-$91K (Glassdoor est.)', '$63K-$112K (Glassdoor est.)',\n",
       "       '$80K-$90K (Glassdoor est.)', '$56K-$97K (Glassdoor est.)',\n",
       "       '$86K-$143K (Glassdoor est.)', '$71K-$119K (Glassdoor est.)',\n",
       "       '$54K-$93K (Glassdoor est.)', '$86K-$142K (Glassdoor est.)',\n",
       "       '$38K-$84K (Glassdoor est.)', '$120K-$160K (Glassdoor est.)',\n",
       "       '$126K-$201K (Glassdoor est.)', '$64K-$106K (Glassdoor est.)',\n",
       "       '$106K-$172K (Glassdoor est.)', '$46K-$85K (Glassdoor est.)',\n",
       "       '$83K-$144K (Glassdoor est.)', '$102K-$190K (Glassdoor est.)',\n",
       "       '$67K-$137K (Glassdoor est.)', '$118K-$189K (Glassdoor est.)',\n",
       "       '$110K-$175K (Glassdoor est.)', '$64K-$111K (Glassdoor est.)',\n",
       "       '$81K-$130K (Glassdoor est.)', '$73K-$119K (Glassdoor est.)',\n",
       "       '$86K-$139K (Glassdoor est.)', '$63K-$105K (Glassdoor est.)',\n",
       "       '$109K-$177K (Glassdoor est.)', '$63K-$110K (Glassdoor est.)',\n",
       "       '$75K-$124K (Glassdoor est.)', '$34K-$61K (Glassdoor est.)',\n",
       "       '$72K-$120K (Glassdoor est.)', '$93K-$149K (Glassdoor est.)',\n",
       "       '$85K-$140K (Glassdoor est.)', '$77K-$135K (Glassdoor est.)',\n",
       "       '$82K-$132K (Glassdoor est.)', '$83K-$137K (Glassdoor est.)',\n",
       "       '$115K-$180K (Glassdoor est.)', '$74K-$138K (Glassdoor est.)',\n",
       "       '$64K-$112K (Glassdoor est.)', '$68K-$129K (Glassdoor est.)',\n",
       "       '$52K-$113K (Glassdoor est.)', '$110K-$150K(Employer est.)',\n",
       "       'Employer Provided Salary:$150K-$160K',\n",
       "       '$158K-$211K (Glassdoor est.)', '$20K-$39K (Glassdoor est.)',\n",
       "       '$56K-$117K (Glassdoor est.)', '$63K-$99K (Glassdoor est.)',\n",
       "       '$68K-$114K (Glassdoor est.)', '$41K-$95K (Glassdoor est.)',\n",
       "       '$86K-$144K (Glassdoor est.)', '$80K-$139K (Glassdoor est.)',\n",
       "       '$56K-$95K (Glassdoor est.)', '$120K-$189K (Glassdoor est.)',\n",
       "       '$111K-$176K (Glassdoor est.)', '$84K-$146K (Glassdoor est.)',\n",
       "       '$107K-$172K (Glassdoor est.)', '$49K-$85K (Glassdoor est.)',\n",
       "       '$61K-$109K (Glassdoor est.)', '$88K-$148K (Glassdoor est.)',\n",
       "       '$60K-$99K (Glassdoor est.)', '$41K-$72K (Glassdoor est.)',\n",
       "       '$96K-$161K (Glassdoor est.)', '$65K-$130K (Glassdoor est.)',\n",
       "       '$52K-$81K (Glassdoor est.)', '$139K-$220K (Glassdoor est.)',\n",
       "       '$50K-$102K (Glassdoor est.)', '$85K-$139K (Glassdoor est.)',\n",
       "       '$74K-$122K (Glassdoor est.)', '$99K-$157K (Glassdoor est.)',\n",
       "       '$79K-$222K (Glassdoor est.)', '$57K-$118K (Glassdoor est.)',\n",
       "       '$86K-$141K (Glassdoor est.)', '$94K-$154K (Glassdoor est.)',\n",
       "       '$37K-$76K (Glassdoor est.)', '$100K-$160K (Glassdoor est.)',\n",
       "       '$55K-$100K (Glassdoor est.)', '$60K-$114K (Glassdoor est.)',\n",
       "       '$39K-$68K (Glassdoor est.)', '$64K-$107K (Glassdoor est.)',\n",
       "       '$31K-$65K (Glassdoor est.)', '$34K-$62K (Glassdoor est.)',\n",
       "       '$117K-$231K (Glassdoor est.)', '$79K-$134K (Glassdoor est.)',\n",
       "       '$52K-$93K (Glassdoor est.)', '$55K-$116K (Glassdoor est.)',\n",
       "       '$72K-$123K (Glassdoor est.)', '$74K-$124K (Glassdoor est.)',\n",
       "       '$40K-$73K (Glassdoor est.)', '$102K-$164K (Glassdoor est.)',\n",
       "       '$89K-$153K (Glassdoor est.)', '$61K-$110K (Glassdoor est.)',\n",
       "       '$65K-$110K (Glassdoor est.)', '$200K-$275K(Employer est.)',\n",
       "       '$68K-$123K (Glassdoor est.)', '$80K-$129K (Glassdoor est.)',\n",
       "       '$39K-$71K (Glassdoor est.)', '$38K-$85K (Glassdoor est.)',\n",
       "       '$121K-$193K (Glassdoor est.)', '$54K-$102K (Glassdoor est.)',\n",
       "       '$102K-$163K (Glassdoor est.)', '$76K-$140K (Glassdoor est.)',\n",
       "       '$60K-$101K (Glassdoor est.)', '$82K-$133K (Glassdoor est.)',\n",
       "       '$65K-$125K (Glassdoor est.)', '$91K-$148K (Glassdoor est.)',\n",
       "       '$95K-$173K (Glassdoor est.)', '$77K-$124K (Glassdoor est.)',\n",
       "       '$80K-$135K (Glassdoor est.)', '$85K-$159K (Glassdoor est.)',\n",
       "       '$80K-$105K(Employer est.)', '$43K-$81K (Glassdoor est.)',\n",
       "       '$29K-$50K (Glassdoor est.)', '$26K-$55K (Glassdoor est.)',\n",
       "       '$61K-$118K (Glassdoor est.)', '$60K-$102K (Glassdoor est.)',\n",
       "       '$112K-$182K (Glassdoor est.)', '$51K-$112K (Glassdoor est.)',\n",
       "       '$113K-$223K (Glassdoor est.)', '$72K-$129K (Glassdoor est.)',\n",
       "       '$71K-$123K (Glassdoor est.)',\n",
       "       'Employer Provided Salary:$120K-$145K',\n",
       "       '$80K-$120K (Glassdoor est.)', '$80K-$130K (Glassdoor est.)',\n",
       "       '$59K-$115K (Glassdoor est.)', '$71K-$136K (Glassdoor est.)',\n",
       "       '$81K-$167K (Glassdoor est.)', '$71K-$204K (Glassdoor est.)',\n",
       "       '$75K-$125K (Glassdoor est.)', '$77K-$136K (Glassdoor est.)',\n",
       "       '$74K-$123K (Glassdoor est.)', '$44K-$78K (Glassdoor est.)',\n",
       "       '$65K-$148K (Glassdoor est.)', '$59K-$110K (Glassdoor est.)',\n",
       "       '$85K-$134K (Glassdoor est.)', '$124K-$204K (Glassdoor est.)',\n",
       "       '$131K-$207K (Glassdoor est.)', '$110K-$174K (Glassdoor est.)',\n",
       "       '$52K-$101K (Glassdoor est.)', '$81K-$133K (Glassdoor est.)',\n",
       "       '$132K-$211K (Glassdoor est.)', '$74K-$140K (Glassdoor est.)',\n",
       "       '$100K-$190K (Glassdoor est.)', '$43K-$80K (Glassdoor est.)',\n",
       "       '$17-$24 Per Hour(Glassdoor est.)', '$91K-$149K (Glassdoor est.)',\n",
       "       '$42K-$82K (Glassdoor est.)', '$116K-$185K (Glassdoor est.)',\n",
       "       '$59K-$116K (Glassdoor est.)', '$48K-$95K (Glassdoor est.)',\n",
       "       '$31K-$72K (Glassdoor est.)', '$105K-$198K (Glassdoor est.)',\n",
       "       '$98K-$182K (Glassdoor est.)', '$73K-$124K (Glassdoor est.)',\n",
       "       'Employer Provided Salary:$200K-$250K',\n",
       "       '$21-$34 Per Hour(Glassdoor est.)', '$117K-$206K (Glassdoor est.)',\n",
       "       '$111K-$183K (Glassdoor est.)', '$81K-$159K (Glassdoor est.)',\n",
       "       '$83K-$166K (Glassdoor est.)', '$114K-$182K (Glassdoor est.)',\n",
       "       '$42K-$76K (Glassdoor est.)', '$114K-$179K (Glassdoor est.)',\n",
       "       '$60K-$123K (Glassdoor est.)', '$100K-$166K (Glassdoor est.)',\n",
       "       '$108K-$173K (Glassdoor est.)', '$48K-$93K (Glassdoor est.)',\n",
       "       '$54K-$115K (Glassdoor est.)', '$60K-$127K (Glassdoor est.)',\n",
       "       '$90K-$179K (Glassdoor est.)', '$138K-$224K (Glassdoor est.)',\n",
       "       '$190K-$220K(Employer est.)', '$35K-$62K (Glassdoor est.)',\n",
       "       '$18-$25 Per Hour(Glassdoor est.)', '$39K-$66K (Glassdoor est.)',\n",
       "       '$42K-$86K (Glassdoor est.)', '$69K-$127K (Glassdoor est.)',\n",
       "       '$40K-$68K (Glassdoor est.)', '$49K-$113K (Glassdoor est.)',\n",
       "       '$75K-$140K (Glassdoor est.)', '$66K-$112K (Glassdoor est.)',\n",
       "       '$76K-$125K (Glassdoor est.)', '$44K-$86K (Glassdoor est.)',\n",
       "       '$15-$25 Per Hour(Glassdoor est.)', '$53K-$92K (Glassdoor est.)',\n",
       "       '$65K-$120K (Glassdoor est.)', '$60K-$103K (Glassdoor est.)',\n",
       "       '$53K-$105K (Glassdoor est.)', '$33K-$62K (Glassdoor est.)',\n",
       "       '$48K-$90K (Glassdoor est.)', '$34K-$64K (Glassdoor est.)',\n",
       "       '$66K-$111K (Glassdoor est.)', '$91K-$138K (Glassdoor est.)',\n",
       "       '$62K-$114K (Glassdoor est.)', '$71K-$129K (Glassdoor est.)',\n",
       "       '$74K-$119K (Glassdoor est.)', '$55K-$97K (Glassdoor est.)',\n",
       "       '$15K-$16K(Employer est.)', '$61K-$106K (Glassdoor est.)',\n",
       "       '$127K-$199K (Glassdoor est.)', '$74K-$126K (Glassdoor est.)',\n",
       "       '$33K-$72K (Glassdoor est.)', '$37K-$63K (Glassdoor est.)',\n",
       "       '$67K-$119K (Glassdoor est.)', '$72K-$117K (Glassdoor est.)',\n",
       "       '$78K-$126K (Glassdoor est.)', '$116K-$194K (Glassdoor est.)',\n",
       "       '$83K-$133K (Glassdoor est.)', '$45K-$82K (Glassdoor est.)',\n",
       "       '$83K-$135K (Glassdoor est.)', '$70K-$122K (Glassdoor est.)',\n",
       "       '$70K-$132K (Glassdoor est.)', '$54K-$101K (Glassdoor est.)',\n",
       "       '$68K-$112K (Glassdoor est.)', '$42K-$74K (Glassdoor est.)',\n",
       "       '$95K-$161K (Glassdoor est.)', '$76K-$126K (Glassdoor est.)',\n",
       "       '$108K-$176K (Glassdoor est.)', '$130K-$208K (Glassdoor est.)',\n",
       "       '$37K-$68K (Glassdoor est.)', '$52K-$99K (Glassdoor est.)',\n",
       "       '$105K-$173K (Glassdoor est.)', '$71K-$134K (Glassdoor est.)',\n",
       "       '$39K-$82K (Glassdoor est.)', '$88K-$162K (Glassdoor est.)',\n",
       "       '$55K-$99K (Glassdoor est.)', '$67K-$117K (Glassdoor est.)',\n",
       "       '$92K-$150K (Glassdoor est.)', '$116K-$209K (Glassdoor est.)',\n",
       "       '$38K-$82K (Glassdoor est.)', 'Employer Provided Salary:$85K-$90K',\n",
       "       '$62K-$119K (Glassdoor est.)', '$84K-$136K (Glassdoor est.)',\n",
       "       '$52K-$89K (Glassdoor est.)', '$65K-$119K (Glassdoor est.)',\n",
       "       '$63K-$101K (Glassdoor est.)', '$127K-$202K (Glassdoor est.)',\n",
       "       '$31K-$57K (Glassdoor est.)', '$75K-$143K (Glassdoor est.)',\n",
       "       '$105K-$194K (Glassdoor est.)', '$45K-$86K (Glassdoor est.)',\n",
       "       '$95K-$154K (Glassdoor est.)', '$80K-$148K (Glassdoor est.)',\n",
       "       '$36K-$62K (Glassdoor est.)', '$50K-$92K (Glassdoor est.)',\n",
       "       '$67K-$135K (Glassdoor est.)', '$42K-$80K (Glassdoor est.)',\n",
       "       '$68K-$139K (Glassdoor est.)', '$34K-$92K (Glassdoor est.)',\n",
       "       '$54K-$71K (Glassdoor est.)', '$65K-$124K (Glassdoor est.)',\n",
       "       '$109K-$200K (Glassdoor est.)', '$61K-$113K (Glassdoor est.)',\n",
       "       '$43K-$86K (Glassdoor est.)', '$74K-$149K (Glassdoor est.)',\n",
       "       '$113K-$196K (Glassdoor est.)', '$97K-$160K (Glassdoor est.)',\n",
       "       '$24-$39 Per Hour(Glassdoor est.)', '$102K-$172K (Glassdoor est.)',\n",
       "       '$108K-$171K (Glassdoor est.)', '$76K-$142K (Glassdoor est.)',\n",
       "       '$202K-$306K (Glassdoor est.)', '$49K-$97K (Glassdoor est.)',\n",
       "       '$65K-$134K (Glassdoor est.)', '$32K-$59K (Glassdoor est.)',\n",
       "       '$87K-$158K (Glassdoor est.)', '$107K-$173K (Glassdoor est.)',\n",
       "       '$56K-$99K (Glassdoor est.)',\n",
       "       'Employer Provided Salary:$25-$28 Per Hour',\n",
       "       '$80K-$155K (Glassdoor est.)', '$43K-$98K (Glassdoor est.)',\n",
       "       '$45K-$78K (Glassdoor est.)', '$44K-$96K (Glassdoor est.)',\n",
       "       '$50K-$110K (Glassdoor est.)', '$61K-$119K (Glassdoor est.)',\n",
       "       'Employer Provided Salary:$100K-$140K',\n",
       "       '$56K-$91K (Glassdoor est.)', '$101K-$158K (Glassdoor est.)',\n",
       "       '$125K-$210K (Glassdoor est.)', '$43K-$77K (Glassdoor est.)',\n",
       "       '$139K-$221K (Glassdoor est.)', '$78K-$147K (Glassdoor est.)',\n",
       "       '$37K-$66K (Glassdoor est.)', '$38K-$64K (Glassdoor est.)',\n",
       "       '$43K-$82K (Glassdoor est.)', '$90K-$110K(Employer est.)',\n",
       "       '$93K-$151K (Glassdoor est.)', '$40K-$101K (Glassdoor est.)',\n",
       "       '$97K-$180K (Glassdoor est.)', '$81K-$134K (Glassdoor est.)',\n",
       "       '$84K-$157K (Glassdoor est.)', '$121K-$203K (Glassdoor est.)',\n",
       "       '$52K-$85K (Glassdoor est.)', '$81K-$140K (Glassdoor est.)',\n",
       "       '$83K-$148K (Glassdoor est.)', '$31K-$55K (Glassdoor est.)',\n",
       "       '$102K-$178K (Glassdoor est.)',\n",
       "       'Employer Provided Salary:$110K-$130K',\n",
       "       '$48K-$85K (Glassdoor est.)', '$66K-$123K (Glassdoor est.)',\n",
       "       '$92K-$146K (Glassdoor est.)', '$21-$29 Per Hour(Glassdoor est.)',\n",
       "       '$10-$17 Per Hour(Glassdoor est.)', '$150K-$239K (Glassdoor est.)',\n",
       "       '$52K-$91K (Glassdoor est.)', '$82K-$129K(Employer est.)',\n",
       "       '$47K-$101K (Glassdoor est.)', '$49K-$76K (Glassdoor est.)',\n",
       "       '$43K-$88K (Glassdoor est.)', '$124K-$199K (Glassdoor est.)',\n",
       "       '$97K-$181K (Glassdoor est.)', '$100K-$173K (Glassdoor est.)',\n",
       "       '$53K-$96K (Glassdoor est.)', '$65K-$96K (Glassdoor est.)',\n",
       "       '$75K-$127K (Glassdoor est.)', '$94K-$139K (Glassdoor est.)',\n",
       "       '$176K-$289K (Glassdoor est.)', '$92K-$149K (Glassdoor est.)',\n",
       "       '$118K-$188K (Glassdoor est.)', '$108K-$146K (Glassdoor est.)',\n",
       "       '$65K-$106K (Glassdoor est.)', '$55K-$98K (Glassdoor est.)',\n",
       "       '$94K-$162K (Glassdoor est.)', '$63K-$120K (Glassdoor est.)',\n",
       "       '$126K-$228K (Glassdoor est.)', '$80K-$134K (Glassdoor est.)',\n",
       "       '$85K-$142K (Glassdoor est.)', '$87K-$140K (Glassdoor est.)',\n",
       "       '$76K-$127K (Glassdoor est.)', '$54K-$92K (Glassdoor est.)',\n",
       "       '$61K-$100K (Glassdoor est.)', '$112K-$179K (Glassdoor est.)',\n",
       "       '$63K-$111K (Glassdoor est.)', '$75K-$126K (Glassdoor est.)',\n",
       "       '$110K-$184K (Glassdoor est.)', '$76K-$145K (Glassdoor est.)',\n",
       "       '$70K-$118K (Glassdoor est.)', '$94K-$153K (Glassdoor est.)',\n",
       "       '$150K-$180K (Glassdoor est.)', '$42K-$77K (Glassdoor est.)',\n",
       "       '$47K-$85K (Glassdoor est.)', '$62K-$112K (Glassdoor est.)',\n",
       "       '$64K-$108K (Glassdoor est.)', '$89K-$144K (Glassdoor est.)',\n",
       "       '$55K-$105K (Glassdoor est.)', '$135K-$211K (Glassdoor est.)',\n",
       "       '$57K-$80K (Glassdoor est.)', '$129K-$215K (Glassdoor est.)',\n",
       "       '$63K-$127K (Glassdoor est.)', '$50K-$89K (Glassdoor est.)',\n",
       "       '$71K-$124K (Glassdoor est.)', '$69K-$121K (Glassdoor est.)',\n",
       "       '$150K-$238K (Glassdoor est.)', '$77K-$132K (Glassdoor est.)',\n",
       "       '$59K-$112K (Glassdoor est.)', '$35K-$65K (Glassdoor est.)',\n",
       "       '$79K-$147K (Glassdoor est.)', '$119K-$187K (Glassdoor est.)',\n",
       "       '$90K-$157K (Glassdoor est.)', '$32K-$62K (Glassdoor est.)',\n",
       "       '$116K-$208K (Glassdoor est.)', '$102K-$165K (Glassdoor est.)',\n",
       "       '$91K-$159K (Glassdoor est.)', '$80K-$133K (Glassdoor est.)',\n",
       "       '$39K-$69K (Glassdoor est.)', '$27K-$48K (Glassdoor est.)',\n",
       "       '$36K-$71K (Glassdoor est.)', '$130K-$206K (Glassdoor est.)',\n",
       "       '$99K-$178K (Glassdoor est.)', '$86K-$137K (Glassdoor est.)',\n",
       "       '$37K-$100K (Glassdoor est.)', '$58K-$111K (Glassdoor est.)',\n",
       "       '$72K-$133K (Glassdoor est.)', '$61K-$126K (Glassdoor est.)',\n",
       "       '$95K-$160K (Glassdoor est.)', '$33K-$61K (Glassdoor est.)',\n",
       "       '$69K-$119K (Glassdoor est.)', '$67K-$127K (Glassdoor est.)',\n",
       "       '$66K-$117K (Glassdoor est.)', '$50K-$98K (Glassdoor est.)',\n",
       "       '$90K-$153K (Glassdoor est.)',\n",
       "       'Employer Provided Salary:$100K-$135K',\n",
       "       '$42K-$79K (Glassdoor est.)', '$84K-$153K (Glassdoor est.)',\n",
       "       '$44K-$73K (Glassdoor est.)', '$40K-$87K (Glassdoor est.)',\n",
       "       '$72K-$142K (Glassdoor est.)', '$74K-$137K (Glassdoor est.)',\n",
       "       '$57K-$109K (Glassdoor est.)', '$136K-$208K (Glassdoor est.)',\n",
       "       '$171K-$272K (Glassdoor est.)', '$65K-$126K (Glassdoor est.)',\n",
       "       '$118K-$228K (Glassdoor est.)', '$113K-$182K (Glassdoor est.)',\n",
       "       '$58K-$104K (Glassdoor est.)', '$58K-$108K (Glassdoor est.)',\n",
       "       '$81K-$161K (Glassdoor est.)', '$115K-$220K (Glassdoor est.)',\n",
       "       '$71K-$144K (Glassdoor est.)', '$32K-$57K (Glassdoor est.)',\n",
       "       '$79K-$136K (Glassdoor est.)', '$48K-$113K (Glassdoor est.)',\n",
       "       '$27-$47 Per Hour(Glassdoor est.)', '$68K-$125K (Glassdoor est.)',\n",
       "       '$39K-$67K (Glassdoor est.)', '$71K-$135K (Glassdoor est.)',\n",
       "       '$61K-$123K (Glassdoor est.)', '$87K-$141K (Glassdoor est.)',\n",
       "       '$71K-$121K (Glassdoor est.)', '$72K-$121K (Glassdoor est.)',\n",
       "       '$51K-$88K (Glassdoor est.)', '$101K-$141K (Glassdoor est.)',\n",
       "       '$79K-$127K (Glassdoor est.)', '$81K-$132K (Glassdoor est.)',\n",
       "       'Employer Provided Salary:$120K-$140K',\n",
       "       '$65K-$113K (Glassdoor est.)', '$59K-$125K (Glassdoor est.)',\n",
       "       '$80K-$142K (Glassdoor est.)', '$62K-$113K (Glassdoor est.)'],\n",
       "      dtype=object)"
      ]
     },
     "execution_count": 145,
     "metadata": {},
     "output_type": "execute_result"
    }
   ],
   "source": [
    "df['Salary Estimate'].unique()"
   ]
  },
  {
   "cell_type": "code",
   "execution_count": 199,
   "metadata": {},
   "outputs": [
    {
     "data": {
      "text/html": [
       "<div>\n",
       "<style scoped>\n",
       "    .dataframe tbody tr th:only-of-type {\n",
       "        vertical-align: middle;\n",
       "    }\n",
       "\n",
       "    .dataframe tbody tr th {\n",
       "        vertical-align: top;\n",
       "    }\n",
       "\n",
       "    .dataframe thead th {\n",
       "        text-align: right;\n",
       "    }\n",
       "</style>\n",
       "<table border=\"1\" class=\"dataframe\">\n",
       "  <thead>\n",
       "    <tr style=\"text-align: right;\">\n",
       "      <th></th>\n",
       "      <th>Salary Estimate</th>\n",
       "    </tr>\n",
       "  </thead>\n",
       "  <tbody>\n",
       "    <tr>\n",
       "      <th>331</th>\n",
       "      <td>Employer Provided Salary:$200K-$250K</td>\n",
       "    </tr>\n",
       "    <tr>\n",
       "      <th>852</th>\n",
       "      <td>$61K-$113K (Glassdoor est.)</td>\n",
       "    </tr>\n",
       "    <tr>\n",
       "      <th>705</th>\n",
       "      <td>$86K-$137K (Glassdoor est.)</td>\n",
       "    </tr>\n",
       "    <tr>\n",
       "      <th>597</th>\n",
       "      <td>$94K-$153K (Glassdoor est.)</td>\n",
       "    </tr>\n",
       "    <tr>\n",
       "      <th>73</th>\n",
       "      <td>$60K-$99K (Glassdoor est.)</td>\n",
       "    </tr>\n",
       "  </tbody>\n",
       "</table>\n",
       "</div>"
      ],
      "text/plain": [
       "                          Salary Estimate\n",
       "331  Employer Provided Salary:$200K-$250K\n",
       "852           $61K-$113K (Glassdoor est.)\n",
       "705           $86K-$137K (Glassdoor est.)\n",
       "597           $94K-$153K (Glassdoor est.)\n",
       "73             $60K-$99K (Glassdoor est.)"
      ]
     },
     "execution_count": 199,
     "metadata": {},
     "output_type": "execute_result"
    }
   ],
   "source": [
    "df[['Salary Estimate']].sample(5)"
   ]
  },
  {
   "cell_type": "code",
   "execution_count": 200,
   "metadata": {},
   "outputs": [],
   "source": [
    "df['hourly'] = df['Salary Estimate'].apply(lambda x: 1 if 'per hour' in x.lower() else 0)\n",
    "df['employer_provided'] = df['Salary Estimate'].apply(lambda x: 1 if 'employer provided salary:' in x.lower() else 0)"
   ]
  },
  {
   "cell_type": "code",
   "execution_count": 201,
   "metadata": {},
   "outputs": [
    {
     "data": {
      "text/plain": [
       "(742, 16)"
      ]
     },
     "execution_count": 201,
     "metadata": {},
     "output_type": "execute_result"
    }
   ],
   "source": [
    "df.shape"
   ]
  },
  {
   "cell_type": "code",
   "execution_count": 202,
   "metadata": {},
   "outputs": [],
   "source": [
    "df['Salary Estimate'] = df['Salary Estimate'].str.split('(',n=1).str[0]\n",
    "#removing k and $\n",
    "df['Salary Estimate'] = df['Salary Estimate'].str.replace(r'\\$','').str.replace('K','000').str.strip()"
   ]
  },
  {
   "cell_type": "code",
   "execution_count": 32,
   "metadata": {},
   "outputs": [],
   "source": [
    "min_hr = df['Salary Estimate'].apply(lambda x: x.lower().replace('per hour','').replace('employer provided salary:',''))"
   ]
  },
  {
   "cell_type": "code",
   "execution_count": 203,
   "metadata": {},
   "outputs": [],
   "source": [
    "df['min_salary'] = df['Salary Estimate'].apply(lambda x: int(x.split('-')[0]))\n",
    "df['max_salary'] = df['Salary Estimate'].apply(lambda x: int(x.split('-')[1]))\n"
   ]
  },
  {
   "cell_type": "code",
   "execution_count": 204,
   "metadata": {},
   "outputs": [],
   "source": [
    "df['min_salary']=df.apply(lambda x: x['min_salary']*2080 if x['hourly']==1 else x['min_salary'],axis=1)\n",
    "df['max_salary']=df.apply(lambda x: x['max_salary']*2080 if x['hourly']==1 else x['max_salary'],axis=1)"
   ]
  },
  {
   "cell_type": "code",
   "execution_count": 205,
   "metadata": {},
   "outputs": [
    {
     "name": "stdout",
     "output_type": "stream",
     "text": [
      "[53000, 63000, 80000, 56000, 86000, 71000, 54000, 86000, 38000, 120000, 126000, 64000, 106000, 46000, 83000, 102000, 67000, 118000, 110000, 64000, 81000, 73000, 86000, 63000, 109000, 63000, 75000, 34000, 63000, 80000, 56000, 72000, 86000, 93000, 85000, 77000, 82000, 83000, 115000, 74000, 64000, 68000, 110000, 52000, 110000, 150000, 158000, 20000, 56000, 63000, 68000, 86000, 41000, 86000, 80000, 56000, 120000, 111000, 54000, 71000, 82000, 84000, 107000, 49000, 61000, 88000, 60000, 41000, 96000, 65000, 52000, 139000, 50000, 85000, 74000, 99000, 79000, 57000, 83000, 86000, 94000, 37000, 100000, 55000, 60000, 39000, 106000, 86000, 64000, 31000, 34000, 117000, 64000, 79000, 52000, 55000, 72000, 74000, 40000, 102000, 89000, 61000, 65000, 200000, 68000, 80000, 41000, 39000, 38000, 121000, 54000, 83000, 120000, 102000, 76000, 60000, 82000, 65000, 91000, 95000, 77000, 80000, 85000, 80000, 43000, 29000, 82000, 26000, 61000, 60000, 112000, 64000, 51000, 113000, 72000, 71000, 64000, 118000, 120000, 80000, 80000, 59000, 71000, 81000, 49000, 60000, 71000, 75000, 77000, 74000, 44000, 65000, 59000, 85000, 124000, 131000, 110000, 52000, 81000, 132000, 73000, 110000, 74000, 100000, 43000, 35360, 91000, 42000, 116000, 59000, 48000, 31000, 105000, 55000, 98000, 73000, 200000, 43680, 117000, 111000, 44000, 81000, 83000, 114000, 42000, 114000, 60000, 100000, 108000, 48000, 54000, 60000, 90000, 138000, 54000, 190000, 35000, 37440, 39000, 81000, 42000, 69000, 43680, 40000, 49000, 75000, 86000, 66000, 76000, 44000, 31200, 53000, 44000, 85000, 59000, 64000, 65000, 60000, 53000, 124000, 131000, 110000, 33000, 52000, 48000, 34000, 132000, 81000, 42000, 66000, 74000, 63000, 63000, 91000, 100000, 62000, 71000, 43000, 74000, 55000, 15000, 61000, 91000, 127000, 74000, 33000, 35360, 37000, 67000, 72000, 116000, 78000, 42000, 59000, 63000, 109000, 116000, 48000, 83000, 105000, 31000, 98000, 55000, 45000, 83000, 70000, 200000, 70000, 73000, 54000, 117000, 43680, 111000, 68000, 42000, 44000, 81000, 95000, 75000, 72000, 76000, 114000, 108000, 130000, 83000, 42000, 37000, 52000, 105000, 71000, 39000, 114000, 88000, 60000, 100000, 55000, 67000, 92000, 116000, 38000, 85000, 62000, 86000, 93000, 84000, 60000, 52000, 48000, 56000, 65000, 108000, 63000, 54000, 90000, 127000, 31000, 60000, 75000, 105000, 45000, 95000, 80000, 36000, 54000, 50000, 67000, 82000, 85000, 138000, 42000, 190000, 68000, 34000, 54000, 65000, 35000, 109000, 37440, 61000, 39000, 43000, 74000, 113000, 81000, 97000, 49920, 42000, 69000, 110000, 102000, 74000, 40000, 108000, 76000, 202000, 49000, 49000, 43680, 65000, 32000, 87000, 107000, 56000, 52000, 80000, 43000, 45000, 44000, 50000, 61000, 100000, 56000, 68000, 150000, 101000, 125000, 43000, 139000, 44000, 78000, 65000, 37000, 38000, 43000, 90000, 61000, 93000, 52000, 40000, 97000, 81000, 84000, 49000, 68000, 75000, 121000, 52000, 81000, 63000, 110000, 83000, 60000, 31000, 102000, 110000, 48000, 66000, 92000, 43680, 20800, 150000, 52000, 82000, 47000, 49000, 43000, 124000, 52000, 97000, 100000, 53000, 65000, 56000, 111000, 75000, 65000, 56000, 108000, 94000, 176000, 92000, 63000, 54000, 118000, 108000, 65000, 55000, 94000, 63000, 90000, 127000, 60000, 31000, 105000, 45000, 75000, 126000, 80000, 120000, 85000, 95000, 111000, 87000, 76000, 54000, 61000, 81000, 80000, 108000, 112000, 63000, 75000, 110000, 76000, 36000, 70000, 94000, 54000, 50000, 49000, 67000, 138000, 80000, 158000, 150000, 42000, 190000, 42000, 68000, 54000, 34000, 47000, 65000, 56000, 62000, 107000, 64000, 89000, 109000, 61000, 35000, 55000, 37440, 39000, 135000, 57000, 129000, 86000, 63000, 50000, 43000, 74000, 71000, 113000, 81000, 69000, 97000, 150000, 77000, 49920, 59000, 35000, 79000, 62000, 119000, 90000, 32000, 42000, 116000, 102000, 69000, 86000, 102000, 74000, 40000, 76000, 76000, 108000, 202000, 91000, 80000, 49000, 49000, 43680, 65000, 32000, 39000, 87000, 27000, 36000, 107000, 56000, 52000, 80000, 43000, 44000, 45000, 50000, 60000, 130000, 61000, 100000, 99000, 86000, 37000, 58000, 72000, 56000, 61000, 95000, 53000, 101000, 33000, 44000, 43000, 125000, 44000, 69000, 65000, 67000, 78000, 66000, 37000, 86000, 84000, 50000, 38000, 90000, 92000, 90000, 43000, 100000, 93000, 61000, 42000, 139000, 40000, 84000, 52000, 81000, 97000, 49000, 44000, 75000, 84000, 40000, 68000, 72000, 74000, 57000, 121000, 52000, 81000, 83000, 59000, 60000, 31000, 102000, 136000, 110000, 48000, 71000, 66000, 171000, 92000, 65000, 150000, 43680, 20800, 118000, 82000, 52000, 47000, 49000, 43000, 61000, 113000, 124000, 58000, 52000, 97000, 100000, 58000, 81000, 53000, 61000, 65000, 115000, 71000, 32000, 79000, 120000, 50000, 68000, 48000, 56160, 74000, 68000, 39000, 71000, 107000, 49000, 54000, 61000, 47000, 65000, 87000, 56000, 71000, 62000, 64000, 89000, 109000, 35000, 61000, 55000, 37440, 135000, 39000, 57000, 63000, 50000, 82000, 85000, 72000, 74000, 113000, 69000, 71000, 97000, 81000, 150000, 49920, 35000, 77000, 51000, 101000, 59000, 79000, 79000, 62000, 119000, 81000, 120000, 90000, 63000, 42000, 32000, 116000, 107000, 65000, 69000, 102000, 74000, 40000, 76000, 76000, 108000, 202000, 91000, 80000, 43680, 49000, 49000, 96000, 65000, 59000, 32000, 87000, 27000, 39000, 36000, 107000, 56000, 52000, 80000, 43000, 45000, 50000, 44000, 100000, 61000, 80000, 99000, 37000, 62000, 86000, 58000, 72000, 56000, 95000, 61000]\n"
     ]
    }
   ],
   "source": [
    "print(df['min_salary'].tolist())"
   ]
  },
  {
   "cell_type": "code",
   "execution_count": 217,
   "metadata": {},
   "outputs": [],
   "source": [
    "df['avg_salary'] = (df['min_salary'] + df['max_salary']) // 2"
   ]
  },
  {
   "cell_type": "code",
   "execution_count": 261,
   "metadata": {},
   "outputs": [],
   "source": [
    "labels = ['Low', 'Medium', 'High', 'Very High']    \n",
    "df['SalaryCategory'] = pd.cut(df['avg_salary'], bins=4, labels=labels, right=False)"
   ]
  },
  {
   "cell_type": "code",
   "execution_count": null,
   "metadata": {},
   "outputs": [],
   "source": [
    "#job description"
   ]
  },
  {
   "cell_type": "code",
   "execution_count": 252,
   "metadata": {},
   "outputs": [
    {
     "name": "stdout",
     "output_type": "stream",
     "text": [
      "What You Will Do:\n",
      "\n",
      "I. General Summary\n",
      "\n",
      "The Healthcare Data Scientist position will join our Advanced Analytics group at the University of Maryland Medical System (UMMS) in support of its strategic priority to become a data-driven and outcomes-oriented organization. The successful candidate will have 3+ years of experience with Machine Learning, Predictive Modeling, Statistical Analysis, Mathematical Optimization, Algorithm Development and a passion for working with healthcare data. Previous experience with various computational approaches along with an ability to demonstrate a portfolio of relevant prior projects is essential. This position will report to the UMMS Vice President for Enterprise Data and Analytics (ED&A).\n",
      "\n",
      "II. Principal Responsibilities and Tasks\n",
      "\n",
      "• Develops predictive and prescriptive analytic models in support of the organization’s clinical, operations and business initiatives and priorities.\n",
      "• Deploys solutions so that they provide actionable insights to the organization and are embedded or integrated with application systems\n",
      "• Supports and drives analytic efforts designed around organization’s strategic priorities and clinical/business problems\n",
      "• Works in a team to drive disruptive innovation, which may translate into improved quality of care, clinical outcomes, reduced costs, temporal efficiencies and process improvements.\n",
      "• Builds and extends our analytics portfolio supported by robust documentation\n",
      "• Works with autonomy to find solutions to complex problems using open source tools and in-house development\n",
      "• Stays abreast of state-of-the-art literature in the fields of operations research, statistical modeling, statistical process control and mathematical optimization\n",
      "• Creates, communicates, and manages the project plans and other required project documentation and provides updates to leadership as necessary\n",
      "• Develops and maintains relationships with business, IT and clinical leaders and stakeholders across the enterprise to facilitate collaboration and effective communication\n",
      "• Works with the analytics team and clinical/business stakeholders to develop pilots so that they may be tested and validated in pilot settings\n",
      "• Performs analysis to evaluate primary and secondary objectives from such pilots\n",
      "• Assists leadership with strategies for scaling successful projects across the organization and enhances the analytics applications based on feedback from end-users and clinical/business consumers\n",
      "• Assists leadership with dissemination of success stories (and failures) in an effort to increase analytics literacy and adoption across the organization.\n",
      "\n",
      "What You Need to Be Successful:\n",
      "\n",
      "III. Education and Experience\n",
      "\n",
      "• Master’s or higher degree (may be substituted by relevant work experience) in applied mathematics, physics, computer science, engineering, statistics or a related field\n",
      "• 3+ years of Mathematical Optimization, Machine Learning, Predictive Analytics and Algorithm Development experience (experience with tools such as WEKA, RapidMiner, R. Python or other open source tools strongly desired)\n",
      "• Strong development skills in two or more of the following: C/C++, C#, Python, Java\n",
      "• Combining analytic methods with advanced data visualizations\n",
      "• Expert ability to breakdown and clearly define problems\n",
      "• Experience with Natural Language Processing preferred\n",
      "\n",
      "IV. Knowledge, Skills and Abilities\n",
      "\n",
      "• Proven communications skills – Effective at working independently and in collaboration with other staff members. Capable of clearly presenting findings orally, in writing, or through graphics.\n",
      "• Proven analytical skills – Able to compare, contrast, and validate work with keen attention to detail. Skilled in working with “real world” data including scrubbing, transformation, and imputation.\n",
      "• Proven problem solving skills – Able to plan work, set clear direction, and coordinate own tasks in a fast-paced multidisciplinary environment. Expert at triaging issues, identifying data anomalies, and debugging software.\n",
      "• Design and prototype new application functionality for our products.\n",
      "• Change oriented – actively generates process improvements; supports and drives change, and confronts difficult circumstances in creative ways\n",
      "• Effective communicator and change agent\n",
      "• Ability to prioritize the tasks of the project timeline to achieve the desired results\n",
      "• Strong analytic and problem solving skills\n",
      "• Ability to cooperatively and effectively work with people from various organization levels\n",
      "\n",
      "We are an Equal Opportunity Employer and do not discriminate against any employee or applicant for employment because of race, color, sex, age, national origin, religion, sexual orientation, gender identity, status as a veteran, and basis of disability or any other federal, state or local protected class.\n"
     ]
    }
   ],
   "source": [
    "print(df['Job Description'].iloc[1])"
   ]
  },
  {
   "cell_type": "code",
   "execution_count": 253,
   "metadata": {},
   "outputs": [],
   "source": [
    "def extract_skills(description):\n",
    "    # List of skills to look for in the job description\n",
    "    skills = ['Python', 'R', 'SQL', 'Java', 'C++', 'Scala', 'Julia']\n",
    "    # Return a list of skills found in the description, case insensitive\n",
    "    return [skill for skill in skills if skill.lower() in description.lower()]"
   ]
  },
  {
   "cell_type": "code",
   "execution_count": 254,
   "metadata": {},
   "outputs": [],
   "source": [
    "def extract_education(description):\n",
    "    # List of educational qualifications to look for\n",
    "    education_levels = ['Bachelor', 'Master', 'PhD', 'Doctorate']\n",
    "    # Return a list of education levels found in the description, case insensitive\n",
    "    return [level for level in education_levels if level.lower() in description.lower()]"
   ]
  },
  {
   "cell_type": "code",
   "execution_count": 255,
   "metadata": {},
   "outputs": [],
   "source": [
    "def extract_experience(description):\n",
    "    # Regular expression to search for years of experience (e.g., \"3 years\", \"5yr\")\n",
    "    experience = re.search(r'(\\d+)\\+?\\s*(?:year|yr)s?', description, re.IGNORECASE)\n",
    "    # Return the number of years as an integer, or NaN if not found\n",
    "    return int(experience.group(1)) if experience else np.nan"
   ]
  },
  {
   "cell_type": "code",
   "execution_count": 256,
   "metadata": {},
   "outputs": [],
   "source": [
    "df['Skills'] = df['Job Description'].apply(extract_skills)         # Extract skills\n",
    "df['Education'] = df['Job Description'].apply(extract_education)   # Extract education levels\n",
    "df['Years_Experience'] = df['Job Description'].apply(extract_experience)  # Extract years of experience"
   ]
  },
  {
   "cell_type": "code",
   "execution_count": 257,
   "metadata": {},
   "outputs": [
    {
     "data": {
      "text/html": [
       "<div>\n",
       "<style scoped>\n",
       "    .dataframe tbody tr th:only-of-type {\n",
       "        vertical-align: middle;\n",
       "    }\n",
       "\n",
       "    .dataframe tbody tr th {\n",
       "        vertical-align: top;\n",
       "    }\n",
       "\n",
       "    .dataframe thead th {\n",
       "        text-align: right;\n",
       "    }\n",
       "</style>\n",
       "<table border=\"1\" class=\"dataframe\">\n",
       "  <thead>\n",
       "    <tr style=\"text-align: right;\">\n",
       "      <th></th>\n",
       "      <th>Job Title</th>\n",
       "      <th>Salary Estimate</th>\n",
       "      <th>Job Description</th>\n",
       "      <th>Rating</th>\n",
       "      <th>Company Name</th>\n",
       "      <th>Location</th>\n",
       "      <th>Headquarters</th>\n",
       "      <th>Size</th>\n",
       "      <th>Founded</th>\n",
       "      <th>Type of ownership</th>\n",
       "      <th>...</th>\n",
       "      <th>avg_salary</th>\n",
       "      <th>state</th>\n",
       "      <th>City</th>\n",
       "      <th>Age</th>\n",
       "      <th>AverageRevenue</th>\n",
       "      <th>num_competitors</th>\n",
       "      <th>Experience_Level</th>\n",
       "      <th>Skills</th>\n",
       "      <th>Education</th>\n",
       "      <th>Years_Experience</th>\n",
       "    </tr>\n",
       "  </thead>\n",
       "  <tbody>\n",
       "    <tr>\n",
       "      <th>0</th>\n",
       "      <td>Data Scientist</td>\n",
       "      <td>53000-91000</td>\n",
       "      <td>Data Scientist\\nLocation: Albuquerque, NM\\nEdu...</td>\n",
       "      <td>3.8</td>\n",
       "      <td>Tecolote Research</td>\n",
       "      <td>Albuquerque, NM</td>\n",
       "      <td>Goleta, CA</td>\n",
       "      <td>501-1000</td>\n",
       "      <td>1973</td>\n",
       "      <td>Private</td>\n",
       "      <td>...</td>\n",
       "      <td>72000</td>\n",
       "      <td>NM</td>\n",
       "      <td>Albuquerque</td>\n",
       "      <td>51.0</td>\n",
       "      <td>7.500000e+07</td>\n",
       "      <td>1</td>\n",
       "      <td>Mid-level</td>\n",
       "      <td>[Python, R]</td>\n",
       "      <td>[Bachelor, Master]</td>\n",
       "      <td>NaN</td>\n",
       "    </tr>\n",
       "    <tr>\n",
       "      <th>1</th>\n",
       "      <td>Healthcare Data Scientist</td>\n",
       "      <td>63000-112000</td>\n",
       "      <td>What You Will Do:\\n\\nI. General Summary\\n\\nThe...</td>\n",
       "      <td>3.4</td>\n",
       "      <td>University of Maryland Medical System</td>\n",
       "      <td>Linthicum, MD</td>\n",
       "      <td>Baltimore, MD</td>\n",
       "      <td>10000++</td>\n",
       "      <td>1984</td>\n",
       "      <td>Other Organization</td>\n",
       "      <td>...</td>\n",
       "      <td>87500</td>\n",
       "      <td>MD</td>\n",
       "      <td>Linthicum</td>\n",
       "      <td>40.0</td>\n",
       "      <td>3.500000e+09</td>\n",
       "      <td>1</td>\n",
       "      <td>Mid-level</td>\n",
       "      <td>[Python, R, Java, C++]</td>\n",
       "      <td>[Master]</td>\n",
       "      <td>3.0</td>\n",
       "    </tr>\n",
       "    <tr>\n",
       "      <th>2</th>\n",
       "      <td>Data Scientist</td>\n",
       "      <td>80000-90000</td>\n",
       "      <td>KnowBe4, Inc. is a high growth information sec...</td>\n",
       "      <td>4.8</td>\n",
       "      <td>KnowBe4</td>\n",
       "      <td>Clearwater, FL</td>\n",
       "      <td>Clearwater, FL</td>\n",
       "      <td>501-1000</td>\n",
       "      <td>2010</td>\n",
       "      <td>Private</td>\n",
       "      <td>...</td>\n",
       "      <td>85000</td>\n",
       "      <td>FL</td>\n",
       "      <td>Clearwater</td>\n",
       "      <td>14.0</td>\n",
       "      <td>3.000000e+08</td>\n",
       "      <td>1</td>\n",
       "      <td>Mid-level</td>\n",
       "      <td>[Python, R, SQL]</td>\n",
       "      <td>[Master, PhD]</td>\n",
       "      <td>3.0</td>\n",
       "    </tr>\n",
       "    <tr>\n",
       "      <th>3</th>\n",
       "      <td>Data Scientist</td>\n",
       "      <td>56000-97000</td>\n",
       "      <td>*Organization and Job ID**\\nJob ID: 310709\\n\\n...</td>\n",
       "      <td>3.8</td>\n",
       "      <td>PNNL</td>\n",
       "      <td>Richland, WA</td>\n",
       "      <td>Richland, WA</td>\n",
       "      <td>1001-5000</td>\n",
       "      <td>1965</td>\n",
       "      <td>Government</td>\n",
       "      <td>...</td>\n",
       "      <td>76500</td>\n",
       "      <td>WA</td>\n",
       "      <td>Richland</td>\n",
       "      <td>59.0</td>\n",
       "      <td>2.505000e+08</td>\n",
       "      <td>3</td>\n",
       "      <td>Mid-level</td>\n",
       "      <td>[Python, R]</td>\n",
       "      <td>[]</td>\n",
       "      <td>1.0</td>\n",
       "    </tr>\n",
       "    <tr>\n",
       "      <th>4</th>\n",
       "      <td>Data Scientist</td>\n",
       "      <td>86000-143000</td>\n",
       "      <td>Data Scientist\\nAffinity Solutions / Marketing...</td>\n",
       "      <td>2.9</td>\n",
       "      <td>Affinity Solutions</td>\n",
       "      <td>New York, NY</td>\n",
       "      <td>New York, NY</td>\n",
       "      <td>51-200</td>\n",
       "      <td>1998</td>\n",
       "      <td>Private</td>\n",
       "      <td>...</td>\n",
       "      <td>114500</td>\n",
       "      <td>NY</td>\n",
       "      <td>New York</td>\n",
       "      <td>26.0</td>\n",
       "      <td>NaN</td>\n",
       "      <td>3</td>\n",
       "      <td>Mid-level</td>\n",
       "      <td>[Python, R, SQL]</td>\n",
       "      <td>[]</td>\n",
       "      <td>NaN</td>\n",
       "    </tr>\n",
       "  </tbody>\n",
       "</table>\n",
       "<p>5 rows × 26 columns</p>\n",
       "</div>"
      ],
      "text/plain": [
       "                   Job Title Salary Estimate  \\\n",
       "0             Data Scientist    53000-91000    \n",
       "1  Healthcare Data Scientist   63000-112000    \n",
       "2             Data Scientist    80000-90000    \n",
       "3             Data Scientist    56000-97000    \n",
       "4             Data Scientist   86000-143000    \n",
       "\n",
       "                                     Job Description  Rating  \\\n",
       "0  Data Scientist\\nLocation: Albuquerque, NM\\nEdu...     3.8   \n",
       "1  What You Will Do:\\n\\nI. General Summary\\n\\nThe...     3.4   \n",
       "2  KnowBe4, Inc. is a high growth information sec...     4.8   \n",
       "3  *Organization and Job ID**\\nJob ID: 310709\\n\\n...     3.8   \n",
       "4  Data Scientist\\nAffinity Solutions / Marketing...     2.9   \n",
       "\n",
       "                            Company Name         Location    Headquarters  \\\n",
       "0                      Tecolote Research  Albuquerque, NM      Goleta, CA   \n",
       "1  University of Maryland Medical System    Linthicum, MD   Baltimore, MD   \n",
       "2                                KnowBe4   Clearwater, FL  Clearwater, FL   \n",
       "3                                   PNNL     Richland, WA    Richland, WA   \n",
       "4                     Affinity Solutions     New York, NY    New York, NY   \n",
       "\n",
       "        Size  Founded   Type of ownership  ... avg_salary state         City  \\\n",
       "0   501-1000     1973             Private  ...      72000    NM  Albuquerque   \n",
       "1    10000++     1984  Other Organization  ...      87500    MD    Linthicum   \n",
       "2   501-1000     2010             Private  ...      85000    FL   Clearwater   \n",
       "3  1001-5000     1965          Government  ...      76500    WA     Richland   \n",
       "4     51-200     1998             Private  ...     114500    NY     New York   \n",
       "\n",
       "    Age  AverageRevenue  num_competitors  Experience_Level  \\\n",
       "0  51.0    7.500000e+07                1         Mid-level   \n",
       "1  40.0    3.500000e+09                1         Mid-level   \n",
       "2  14.0    3.000000e+08                1         Mid-level   \n",
       "3  59.0    2.505000e+08                3         Mid-level   \n",
       "4  26.0             NaN                3         Mid-level   \n",
       "\n",
       "                   Skills           Education  Years_Experience  \n",
       "0             [Python, R]  [Bachelor, Master]               NaN  \n",
       "1  [Python, R, Java, C++]            [Master]               3.0  \n",
       "2        [Python, R, SQL]       [Master, PhD]               3.0  \n",
       "3             [Python, R]                  []               1.0  \n",
       "4        [Python, R, SQL]                  []               NaN  \n",
       "\n",
       "[5 rows x 26 columns]"
      ]
     },
     "execution_count": 257,
     "metadata": {},
     "output_type": "execute_result"
    }
   ],
   "source": [
    "df.head()"
   ]
  },
  {
   "cell_type": "code",
   "execution_count": null,
   "metadata": {},
   "outputs": [],
   "source": [
    "#company name text only(as it contains rating )"
   ]
  },
  {
   "cell_type": "code",
   "execution_count": 209,
   "metadata": {},
   "outputs": [],
   "source": [
    "df['Company Name'] = df['Company Name'].str.split('\\n').str[0]"
   ]
  },
  {
   "cell_type": "code",
   "execution_count": 213,
   "metadata": {},
   "outputs": [],
   "source": [
    "df.drop(['hourly','employer_provided'],inplace=True,axis=1)"
   ]
  },
  {
   "cell_type": "code",
   "execution_count": 218,
   "metadata": {},
   "outputs": [
    {
     "data": {
      "text/html": [
       "<div>\n",
       "<style scoped>\n",
       "    .dataframe tbody tr th:only-of-type {\n",
       "        vertical-align: middle;\n",
       "    }\n",
       "\n",
       "    .dataframe tbody tr th {\n",
       "        vertical-align: top;\n",
       "    }\n",
       "\n",
       "    .dataframe thead th {\n",
       "        text-align: right;\n",
       "    }\n",
       "</style>\n",
       "<table border=\"1\" class=\"dataframe\">\n",
       "  <thead>\n",
       "    <tr style=\"text-align: right;\">\n",
       "      <th></th>\n",
       "      <th>Job Title</th>\n",
       "      <th>Salary Estimate</th>\n",
       "      <th>Job Description</th>\n",
       "      <th>Rating</th>\n",
       "      <th>Company Name</th>\n",
       "      <th>Location</th>\n",
       "      <th>Headquarters</th>\n",
       "      <th>Size</th>\n",
       "      <th>Founded</th>\n",
       "      <th>Type of ownership</th>\n",
       "      <th>Industry</th>\n",
       "      <th>Sector</th>\n",
       "      <th>Revenue</th>\n",
       "      <th>Competitors</th>\n",
       "      <th>min_salary</th>\n",
       "      <th>max_salary</th>\n",
       "      <th>avg_salary</th>\n",
       "    </tr>\n",
       "  </thead>\n",
       "  <tbody>\n",
       "    <tr>\n",
       "      <th>0</th>\n",
       "      <td>Data Scientist</td>\n",
       "      <td>53000-91000</td>\n",
       "      <td>Data Scientist\\nLocation: Albuquerque, NM\\nEdu...</td>\n",
       "      <td>3.8</td>\n",
       "      <td>Tecolote Research</td>\n",
       "      <td>Albuquerque, NM</td>\n",
       "      <td>Goleta, CA</td>\n",
       "      <td>501 to 1000 employees</td>\n",
       "      <td>1973</td>\n",
       "      <td>Company - Private</td>\n",
       "      <td>Aerospace &amp; Defense</td>\n",
       "      <td>Aerospace &amp; Defense</td>\n",
       "      <td>$50 to $100 million (USD)</td>\n",
       "      <td>-1</td>\n",
       "      <td>53000</td>\n",
       "      <td>91000</td>\n",
       "      <td>72000</td>\n",
       "    </tr>\n",
       "    <tr>\n",
       "      <th>1</th>\n",
       "      <td>Healthcare Data Scientist</td>\n",
       "      <td>63000-112000</td>\n",
       "      <td>What You Will Do:\\n\\nI. General Summary\\n\\nThe...</td>\n",
       "      <td>3.4</td>\n",
       "      <td>University of Maryland Medical System</td>\n",
       "      <td>Linthicum, MD</td>\n",
       "      <td>Baltimore, MD</td>\n",
       "      <td>10000+ employees</td>\n",
       "      <td>1984</td>\n",
       "      <td>Other Organization</td>\n",
       "      <td>Health Care Services &amp; Hospitals</td>\n",
       "      <td>Health Care</td>\n",
       "      <td>$2 to $5 billion (USD)</td>\n",
       "      <td>-1</td>\n",
       "      <td>63000</td>\n",
       "      <td>112000</td>\n",
       "      <td>87500</td>\n",
       "    </tr>\n",
       "    <tr>\n",
       "      <th>2</th>\n",
       "      <td>Data Scientist</td>\n",
       "      <td>80000-90000</td>\n",
       "      <td>KnowBe4, Inc. is a high growth information sec...</td>\n",
       "      <td>4.8</td>\n",
       "      <td>KnowBe4</td>\n",
       "      <td>Clearwater, FL</td>\n",
       "      <td>Clearwater, FL</td>\n",
       "      <td>501 to 1000 employees</td>\n",
       "      <td>2010</td>\n",
       "      <td>Company - Private</td>\n",
       "      <td>Security Services</td>\n",
       "      <td>Business Services</td>\n",
       "      <td>$100 to $500 million (USD)</td>\n",
       "      <td>-1</td>\n",
       "      <td>80000</td>\n",
       "      <td>90000</td>\n",
       "      <td>85000</td>\n",
       "    </tr>\n",
       "    <tr>\n",
       "      <th>3</th>\n",
       "      <td>Data Scientist</td>\n",
       "      <td>56000-97000</td>\n",
       "      <td>*Organization and Job ID**\\nJob ID: 310709\\n\\n...</td>\n",
       "      <td>3.8</td>\n",
       "      <td>PNNL</td>\n",
       "      <td>Richland, WA</td>\n",
       "      <td>Richland, WA</td>\n",
       "      <td>1001 to 5000 employees</td>\n",
       "      <td>1965</td>\n",
       "      <td>Government</td>\n",
       "      <td>Energy</td>\n",
       "      <td>Oil, Gas, Energy &amp; Utilities</td>\n",
       "      <td>$500 million to $1 billion (USD)</td>\n",
       "      <td>Oak Ridge National Laboratory, National Renewa...</td>\n",
       "      <td>56000</td>\n",
       "      <td>97000</td>\n",
       "      <td>76500</td>\n",
       "    </tr>\n",
       "    <tr>\n",
       "      <th>4</th>\n",
       "      <td>Data Scientist</td>\n",
       "      <td>86000-143000</td>\n",
       "      <td>Data Scientist\\nAffinity Solutions / Marketing...</td>\n",
       "      <td>2.9</td>\n",
       "      <td>Affinity Solutions</td>\n",
       "      <td>New York, NY</td>\n",
       "      <td>New York, NY</td>\n",
       "      <td>51 to 200 employees</td>\n",
       "      <td>1998</td>\n",
       "      <td>Company - Private</td>\n",
       "      <td>Advertising &amp; Marketing</td>\n",
       "      <td>Business Services</td>\n",
       "      <td>Unknown / Non-Applicable</td>\n",
       "      <td>Commerce Signals, Cardlytics, Yodlee</td>\n",
       "      <td>86000</td>\n",
       "      <td>143000</td>\n",
       "      <td>114500</td>\n",
       "    </tr>\n",
       "  </tbody>\n",
       "</table>\n",
       "</div>"
      ],
      "text/plain": [
       "                   Job Title Salary Estimate  \\\n",
       "0             Data Scientist    53000-91000    \n",
       "1  Healthcare Data Scientist   63000-112000    \n",
       "2             Data Scientist    80000-90000    \n",
       "3             Data Scientist    56000-97000    \n",
       "4             Data Scientist   86000-143000    \n",
       "\n",
       "                                     Job Description  Rating  \\\n",
       "0  Data Scientist\\nLocation: Albuquerque, NM\\nEdu...     3.8   \n",
       "1  What You Will Do:\\n\\nI. General Summary\\n\\nThe...     3.4   \n",
       "2  KnowBe4, Inc. is a high growth information sec...     4.8   \n",
       "3  *Organization and Job ID**\\nJob ID: 310709\\n\\n...     3.8   \n",
       "4  Data Scientist\\nAffinity Solutions / Marketing...     2.9   \n",
       "\n",
       "                            Company Name         Location    Headquarters  \\\n",
       "0                      Tecolote Research  Albuquerque, NM      Goleta, CA   \n",
       "1  University of Maryland Medical System    Linthicum, MD   Baltimore, MD   \n",
       "2                                KnowBe4   Clearwater, FL  Clearwater, FL   \n",
       "3                                   PNNL     Richland, WA    Richland, WA   \n",
       "4                     Affinity Solutions     New York, NY    New York, NY   \n",
       "\n",
       "                     Size  Founded   Type of ownership  \\\n",
       "0   501 to 1000 employees     1973   Company - Private   \n",
       "1        10000+ employees     1984  Other Organization   \n",
       "2   501 to 1000 employees     2010   Company - Private   \n",
       "3  1001 to 5000 employees     1965          Government   \n",
       "4     51 to 200 employees     1998   Company - Private   \n",
       "\n",
       "                           Industry                        Sector  \\\n",
       "0               Aerospace & Defense           Aerospace & Defense   \n",
       "1  Health Care Services & Hospitals                   Health Care   \n",
       "2                 Security Services             Business Services   \n",
       "3                            Energy  Oil, Gas, Energy & Utilities   \n",
       "4           Advertising & Marketing             Business Services   \n",
       "\n",
       "                            Revenue  \\\n",
       "0         $50 to $100 million (USD)   \n",
       "1            $2 to $5 billion (USD)   \n",
       "2        $100 to $500 million (USD)   \n",
       "3  $500 million to $1 billion (USD)   \n",
       "4          Unknown / Non-Applicable   \n",
       "\n",
       "                                         Competitors  min_salary  max_salary  \\\n",
       "0                                                 -1       53000       91000   \n",
       "1                                                 -1       63000      112000   \n",
       "2                                                 -1       80000       90000   \n",
       "3  Oak Ridge National Laboratory, National Renewa...       56000       97000   \n",
       "4               Commerce Signals, Cardlytics, Yodlee       86000      143000   \n",
       "\n",
       "   avg_salary  \n",
       "0       72000  \n",
       "1       87500  \n",
       "2       85000  \n",
       "3       76500  \n",
       "4      114500  "
      ]
     },
     "execution_count": 218,
     "metadata": {},
     "output_type": "execute_result"
    }
   ],
   "source": [
    "df.head()"
   ]
  },
  {
   "cell_type": "code",
   "execution_count": null,
   "metadata": {},
   "outputs": [],
   "source": [
    "#city and state"
   ]
  },
  {
   "cell_type": "code",
   "execution_count": 219,
   "metadata": {},
   "outputs": [
    {
     "data": {
      "text/html": [
       "<div>\n",
       "<style scoped>\n",
       "    .dataframe tbody tr th:only-of-type {\n",
       "        vertical-align: middle;\n",
       "    }\n",
       "\n",
       "    .dataframe tbody tr th {\n",
       "        vertical-align: top;\n",
       "    }\n",
       "\n",
       "    .dataframe thead th {\n",
       "        text-align: right;\n",
       "    }\n",
       "</style>\n",
       "<table border=\"1\" class=\"dataframe\">\n",
       "  <thead>\n",
       "    <tr style=\"text-align: right;\">\n",
       "      <th></th>\n",
       "      <th>Location</th>\n",
       "    </tr>\n",
       "  </thead>\n",
       "  <tbody>\n",
       "    <tr>\n",
       "      <th>267</th>\n",
       "      <td>Boston, MA</td>\n",
       "    </tr>\n",
       "    <tr>\n",
       "      <th>522</th>\n",
       "      <td>Omaha, NE</td>\n",
       "    </tr>\n",
       "    <tr>\n",
       "      <th>464</th>\n",
       "      <td>Cambridge, MA</td>\n",
       "    </tr>\n",
       "    <tr>\n",
       "      <th>0</th>\n",
       "      <td>Albuquerque, NM</td>\n",
       "    </tr>\n",
       "    <tr>\n",
       "      <th>353</th>\n",
       "      <td>Palo Alto, CA</td>\n",
       "    </tr>\n",
       "  </tbody>\n",
       "</table>\n",
       "</div>"
      ],
      "text/plain": [
       "            Location\n",
       "267       Boston, MA\n",
       "522        Omaha, NE\n",
       "464    Cambridge, MA\n",
       "0    Albuquerque, NM\n",
       "353    Palo Alto, CA"
      ]
     },
     "execution_count": 219,
     "metadata": {},
     "output_type": "execute_result"
    }
   ],
   "source": [
    "df[['Location']].sample(5)"
   ]
  },
  {
   "cell_type": "code",
   "execution_count": 220,
   "metadata": {},
   "outputs": [],
   "source": [
    "df['state']=df['Location'].str.split(', ').str[-1]"
   ]
  },
  {
   "cell_type": "code",
   "execution_count": 221,
   "metadata": {},
   "outputs": [],
   "source": [
    "df['City'] = df['Location'].str.split(', ').str[0]"
   ]
  },
  {
   "cell_type": "code",
   "execution_count": null,
   "metadata": {},
   "outputs": [],
   "source": [
    "#company size "
   ]
  },
  {
   "cell_type": "code",
   "execution_count": 224,
   "metadata": {},
   "outputs": [
    {
     "data": {
      "text/html": [
       "<div>\n",
       "<style scoped>\n",
       "    .dataframe tbody tr th:only-of-type {\n",
       "        vertical-align: middle;\n",
       "    }\n",
       "\n",
       "    .dataframe tbody tr th {\n",
       "        vertical-align: top;\n",
       "    }\n",
       "\n",
       "    .dataframe thead th {\n",
       "        text-align: right;\n",
       "    }\n",
       "</style>\n",
       "<table border=\"1\" class=\"dataframe\">\n",
       "  <thead>\n",
       "    <tr style=\"text-align: right;\">\n",
       "      <th></th>\n",
       "      <th>Size</th>\n",
       "    </tr>\n",
       "  </thead>\n",
       "  <tbody>\n",
       "    <tr>\n",
       "      <th>550</th>\n",
       "      <td>1001 to 5000 employees</td>\n",
       "    </tr>\n",
       "    <tr>\n",
       "      <th>829</th>\n",
       "      <td>1001 to 5000 employees</td>\n",
       "    </tr>\n",
       "    <tr>\n",
       "      <th>836</th>\n",
       "      <td>501 to 1000 employees</td>\n",
       "    </tr>\n",
       "    <tr>\n",
       "      <th>17</th>\n",
       "      <td>201 to 500 employees</td>\n",
       "    </tr>\n",
       "    <tr>\n",
       "      <th>743</th>\n",
       "      <td>51 to 200 employees</td>\n",
       "    </tr>\n",
       "  </tbody>\n",
       "</table>\n",
       "</div>"
      ],
      "text/plain": [
       "                       Size\n",
       "550  1001 to 5000 employees\n",
       "829  1001 to 5000 employees\n",
       "836   501 to 1000 employees\n",
       "17     201 to 500 employees\n",
       "743     51 to 200 employees"
      ]
     },
     "execution_count": 224,
     "metadata": {},
     "output_type": "execute_result"
    }
   ],
   "source": [
    "df[['Size']].sample(5)"
   ]
  },
  {
   "cell_type": "code",
   "execution_count": 226,
   "metadata": {},
   "outputs": [],
   "source": [
    "def standardize_size(size):\n",
    "    if pd.isna(size) or size == '-1':  \n",
    "        return np.nan  \n",
    "    if '+' in size:  \n",
    "        return f\"{size.split()[0]}+\"  # Convert to '10000+' format\n",
    "    \n",
    "    if 'to' in size:  \n",
    "        return f\"{size.split()[0]}-{size.split()[2]}\"  # Convert to '51-200'\n",
    "\n",
    "    return size"
   ]
  },
  {
   "cell_type": "code",
   "execution_count": 227,
   "metadata": {},
   "outputs": [],
   "source": [
    "df['Size'] = df['Size'].apply(standardize_size)"
   ]
  },
  {
   "cell_type": "code",
   "execution_count": 228,
   "metadata": {},
   "outputs": [
    {
     "data": {
      "text/html": [
       "<div>\n",
       "<style scoped>\n",
       "    .dataframe tbody tr th:only-of-type {\n",
       "        vertical-align: middle;\n",
       "    }\n",
       "\n",
       "    .dataframe tbody tr th {\n",
       "        vertical-align: top;\n",
       "    }\n",
       "\n",
       "    .dataframe thead th {\n",
       "        text-align: right;\n",
       "    }\n",
       "</style>\n",
       "<table border=\"1\" class=\"dataframe\">\n",
       "  <thead>\n",
       "    <tr style=\"text-align: right;\">\n",
       "      <th></th>\n",
       "      <th>Size</th>\n",
       "    </tr>\n",
       "  </thead>\n",
       "  <tbody>\n",
       "    <tr>\n",
       "      <th>62</th>\n",
       "      <td>501-1000</td>\n",
       "    </tr>\n",
       "    <tr>\n",
       "      <th>587</th>\n",
       "      <td>1-50</td>\n",
       "    </tr>\n",
       "    <tr>\n",
       "      <th>139</th>\n",
       "      <td>1001-5000</td>\n",
       "    </tr>\n",
       "    <tr>\n",
       "      <th>926</th>\n",
       "      <td>5001-10000</td>\n",
       "    </tr>\n",
       "    <tr>\n",
       "      <th>914</th>\n",
       "      <td>1001-5000</td>\n",
       "    </tr>\n",
       "  </tbody>\n",
       "</table>\n",
       "</div>"
      ],
      "text/plain": [
       "           Size\n",
       "62     501-1000\n",
       "587        1-50\n",
       "139   1001-5000\n",
       "926  5001-10000\n",
       "914   1001-5000"
      ]
     },
     "execution_count": 228,
     "metadata": {},
     "output_type": "execute_result"
    }
   ],
   "source": [
    "df[['Size']].sample(5)"
   ]
  },
  {
   "cell_type": "code",
   "execution_count": null,
   "metadata": {},
   "outputs": [],
   "source": [
    "#age of company()"
   ]
  },
  {
   "cell_type": "code",
   "execution_count": null,
   "metadata": {},
   "outputs": [
    {
     "data": {
      "text/html": [
       "<div>\n",
       "<style scoped>\n",
       "    .dataframe tbody tr th:only-of-type {\n",
       "        vertical-align: middle;\n",
       "    }\n",
       "\n",
       "    .dataframe tbody tr th {\n",
       "        vertical-align: top;\n",
       "    }\n",
       "\n",
       "    .dataframe thead th {\n",
       "        text-align: right;\n",
       "    }\n",
       "</style>\n",
       "<table border=\"1\" class=\"dataframe\">\n",
       "  <thead>\n",
       "    <tr style=\"text-align: right;\">\n",
       "      <th></th>\n",
       "      <th>Founded</th>\n",
       "    </tr>\n",
       "  </thead>\n",
       "  <tbody>\n",
       "    <tr>\n",
       "      <th>0</th>\n",
       "      <td>1973</td>\n",
       "    </tr>\n",
       "    <tr>\n",
       "      <th>1</th>\n",
       "      <td>1984</td>\n",
       "    </tr>\n",
       "    <tr>\n",
       "      <th>2</th>\n",
       "      <td>2010</td>\n",
       "    </tr>\n",
       "    <tr>\n",
       "      <th>3</th>\n",
       "      <td>1965</td>\n",
       "    </tr>\n",
       "    <tr>\n",
       "      <th>4</th>\n",
       "      <td>1998</td>\n",
       "    </tr>\n",
       "  </tbody>\n",
       "</table>\n",
       "</div>"
      ],
      "text/plain": [
       "   Founded\n",
       "0     1973\n",
       "1     1984\n",
       "2     2010\n",
       "3     1965\n",
       "4     1998"
      ]
     },
     "execution_count": 269,
     "metadata": {},
     "output_type": "execute_result"
    }
   ],
   "source": [
    "df[['Founded']].sample(5)\n"
   ]
  },
  {
   "cell_type": "code",
   "execution_count": 229,
   "metadata": {},
   "outputs": [],
   "source": [
    "current_year = 2024  \n",
    "df['Age'] = current_year - df['Founded']\n",
    "#Replace any instance of 'Age' that equals current_year + 1 with NaN\n",
    "df['Age'] = df['Age'].replace(current_year + 1, np.nan)"
   ]
  },
  {
   "cell_type": "code",
   "execution_count": 231,
   "metadata": {},
   "outputs": [
    {
     "data": {
      "text/html": [
       "<div>\n",
       "<style scoped>\n",
       "    .dataframe tbody tr th:only-of-type {\n",
       "        vertical-align: middle;\n",
       "    }\n",
       "\n",
       "    .dataframe tbody tr th {\n",
       "        vertical-align: top;\n",
       "    }\n",
       "\n",
       "    .dataframe thead th {\n",
       "        text-align: right;\n",
       "    }\n",
       "</style>\n",
       "<table border=\"1\" class=\"dataframe\">\n",
       "  <thead>\n",
       "    <tr style=\"text-align: right;\">\n",
       "      <th></th>\n",
       "      <th>Age</th>\n",
       "    </tr>\n",
       "  </thead>\n",
       "  <tbody>\n",
       "    <tr>\n",
       "      <th>543</th>\n",
       "      <td>173.0</td>\n",
       "    </tr>\n",
       "    <tr>\n",
       "      <th>179</th>\n",
       "      <td>19.0</td>\n",
       "    </tr>\n",
       "    <tr>\n",
       "      <th>676</th>\n",
       "      <td>49.0</td>\n",
       "    </tr>\n",
       "    <tr>\n",
       "      <th>733</th>\n",
       "      <td>13.0</td>\n",
       "    </tr>\n",
       "    <tr>\n",
       "      <th>780</th>\n",
       "      <td>30.0</td>\n",
       "    </tr>\n",
       "  </tbody>\n",
       "</table>\n",
       "</div>"
      ],
      "text/plain": [
       "       Age\n",
       "543  173.0\n",
       "179   19.0\n",
       "676   49.0\n",
       "733   13.0\n",
       "780   30.0"
      ]
     },
     "execution_count": 231,
     "metadata": {},
     "output_type": "execute_result"
    }
   ],
   "source": [
    "df[['Age']].sample(5)"
   ]
  },
  {
   "cell_type": "code",
   "execution_count": null,
   "metadata": {},
   "outputs": [],
   "source": [
    "#Type of ownership"
   ]
  },
  {
   "cell_type": "code",
   "execution_count": 232,
   "metadata": {},
   "outputs": [
    {
     "data": {
      "text/html": [
       "<div>\n",
       "<style scoped>\n",
       "    .dataframe tbody tr th:only-of-type {\n",
       "        vertical-align: middle;\n",
       "    }\n",
       "\n",
       "    .dataframe tbody tr th {\n",
       "        vertical-align: top;\n",
       "    }\n",
       "\n",
       "    .dataframe thead th {\n",
       "        text-align: right;\n",
       "    }\n",
       "</style>\n",
       "<table border=\"1\" class=\"dataframe\">\n",
       "  <thead>\n",
       "    <tr style=\"text-align: right;\">\n",
       "      <th></th>\n",
       "      <th>Type of ownership</th>\n",
       "    </tr>\n",
       "  </thead>\n",
       "  <tbody>\n",
       "    <tr>\n",
       "      <th>223</th>\n",
       "      <td>Company - Public</td>\n",
       "    </tr>\n",
       "    <tr>\n",
       "      <th>192</th>\n",
       "      <td>Nonprofit Organization</td>\n",
       "    </tr>\n",
       "    <tr>\n",
       "      <th>49</th>\n",
       "      <td>Company - Public</td>\n",
       "    </tr>\n",
       "    <tr>\n",
       "      <th>216</th>\n",
       "      <td>Company - Private</td>\n",
       "    </tr>\n",
       "    <tr>\n",
       "      <th>653</th>\n",
       "      <td>Company - Private</td>\n",
       "    </tr>\n",
       "  </tbody>\n",
       "</table>\n",
       "</div>"
      ],
      "text/plain": [
       "          Type of ownership\n",
       "223        Company - Public\n",
       "192  Nonprofit Organization\n",
       "49         Company - Public\n",
       "216       Company - Private\n",
       "653       Company - Private"
      ]
     },
     "execution_count": 232,
     "metadata": {},
     "output_type": "execute_result"
    }
   ],
   "source": [
    "df[['Type of ownership']].sample(5)"
   ]
  },
  {
   "cell_type": "code",
   "execution_count": 233,
   "metadata": {},
   "outputs": [],
   "source": [
    "df['Type of ownership'] = df['Type of ownership'].str.replace('Company - ', '')"
   ]
  },
  {
   "cell_type": "code",
   "execution_count": null,
   "metadata": {},
   "outputs": [],
   "source": [
    "# Standardize 'Industry' and 'Sector' columns"
   ]
  },
  {
   "cell_type": "code",
   "execution_count": 234,
   "metadata": {},
   "outputs": [],
   "source": [
    "df['Industry'] = df['Industry'].str.title()\n",
    "df['Sector'] = df['Sector'].str.title()"
   ]
  },
  {
   "cell_type": "code",
   "execution_count": 270,
   "metadata": {},
   "outputs": [
    {
     "data": {
      "text/html": [
       "<div>\n",
       "<style scoped>\n",
       "    .dataframe tbody tr th:only-of-type {\n",
       "        vertical-align: middle;\n",
       "    }\n",
       "\n",
       "    .dataframe tbody tr th {\n",
       "        vertical-align: top;\n",
       "    }\n",
       "\n",
       "    .dataframe thead th {\n",
       "        text-align: right;\n",
       "    }\n",
       "</style>\n",
       "<table border=\"1\" class=\"dataframe\">\n",
       "  <thead>\n",
       "    <tr style=\"text-align: right;\">\n",
       "      <th></th>\n",
       "      <th>Industry</th>\n",
       "    </tr>\n",
       "  </thead>\n",
       "  <tbody>\n",
       "    <tr>\n",
       "      <th>0</th>\n",
       "      <td>Aerospace &amp; Defense</td>\n",
       "    </tr>\n",
       "    <tr>\n",
       "      <th>1</th>\n",
       "      <td>Health Care Services &amp; Hospitals</td>\n",
       "    </tr>\n",
       "    <tr>\n",
       "      <th>2</th>\n",
       "      <td>Security Services</td>\n",
       "    </tr>\n",
       "    <tr>\n",
       "      <th>3</th>\n",
       "      <td>Energy</td>\n",
       "    </tr>\n",
       "    <tr>\n",
       "      <th>4</th>\n",
       "      <td>Advertising &amp; Marketing</td>\n",
       "    </tr>\n",
       "  </tbody>\n",
       "</table>\n",
       "</div>"
      ],
      "text/plain": [
       "                           Industry\n",
       "0               Aerospace & Defense\n",
       "1  Health Care Services & Hospitals\n",
       "2                 Security Services\n",
       "3                            Energy\n",
       "4           Advertising & Marketing"
      ]
     },
     "execution_count": 270,
     "metadata": {},
     "output_type": "execute_result"
    }
   ],
   "source": [
    "df[['Industry']].head(5)"
   ]
  },
  {
   "cell_type": "code",
   "execution_count": null,
   "metadata": {},
   "outputs": [],
   "source": [
    "#cleaning of revenue"
   ]
  },
  {
   "cell_type": "code",
   "execution_count": 235,
   "metadata": {},
   "outputs": [
    {
     "data": {
      "text/html": [
       "<div>\n",
       "<style scoped>\n",
       "    .dataframe tbody tr th:only-of-type {\n",
       "        vertical-align: middle;\n",
       "    }\n",
       "\n",
       "    .dataframe tbody tr th {\n",
       "        vertical-align: top;\n",
       "    }\n",
       "\n",
       "    .dataframe thead th {\n",
       "        text-align: right;\n",
       "    }\n",
       "</style>\n",
       "<table border=\"1\" class=\"dataframe\">\n",
       "  <thead>\n",
       "    <tr style=\"text-align: right;\">\n",
       "      <th></th>\n",
       "      <th>Revenue</th>\n",
       "    </tr>\n",
       "  </thead>\n",
       "  <tbody>\n",
       "    <tr>\n",
       "      <th>302</th>\n",
       "      <td>$10+ billion (USD)</td>\n",
       "    </tr>\n",
       "    <tr>\n",
       "      <th>603</th>\n",
       "      <td>$10 to $25 million (USD)</td>\n",
       "    </tr>\n",
       "    <tr>\n",
       "      <th>841</th>\n",
       "      <td>$25 to $50 million (USD)</td>\n",
       "    </tr>\n",
       "    <tr>\n",
       "      <th>617</th>\n",
       "      <td>Unknown / Non-Applicable</td>\n",
       "    </tr>\n",
       "    <tr>\n",
       "      <th>671</th>\n",
       "      <td>Unknown / Non-Applicable</td>\n",
       "    </tr>\n",
       "  </tbody>\n",
       "</table>\n",
       "</div>"
      ],
      "text/plain": [
       "                      Revenue\n",
       "302        $10+ billion (USD)\n",
       "603  $10 to $25 million (USD)\n",
       "841  $25 to $50 million (USD)\n",
       "617  Unknown / Non-Applicable\n",
       "671  Unknown / Non-Applicable"
      ]
     },
     "execution_count": 235,
     "metadata": {},
     "output_type": "execute_result"
    }
   ],
   "source": [
    "df[['Revenue']].sample(5)"
   ]
  },
  {
   "cell_type": "code",
   "execution_count": 236,
   "metadata": {},
   "outputs": [],
   "source": [
    "import re\n",
    "def clean_revenue(revenue):\n",
    "    if pd.isna(revenue) or revenue == '-1':\n",
    "        return np.nan  # Return NaN for missing or invalid values\n",
    "    # Find all numerical values in the revenue string\n",
    "    numbers = re.findall(r'\\d+', revenue)\n",
    "    # Check if 'million' is mentioned in the revenue string\n",
    "    if 'million' in revenue.lower():\n",
    "        bounds = [float(num) * 1e6 for num in numbers]\n",
    "    # Check if 'billion' is mentioned in the revenue string\n",
    "    elif 'billion' in revenue.lower():\n",
    "        bounds = [float(num) * 1e9 for num in numbers]\n",
    "    else:\n",
    "        return np.nan  \n",
    "    \n",
    "    # If there are two numbers (indicating a revenue range), calculate the average\n",
    "    if len(bounds) == 2:\n",
    "        return np.mean(bounds) \n",
    "    elif len(bounds) == 1:\n",
    "        return bounds[0] \n",
    "    \n",
    "    return np.nan  \n"
   ]
  },
  {
   "cell_type": "code",
   "execution_count": 237,
   "metadata": {},
   "outputs": [],
   "source": [
    "df['AverageRevenue'] = df['Revenue'].apply(clean_revenue)"
   ]
  },
  {
   "cell_type": "code",
   "execution_count": 238,
   "metadata": {},
   "outputs": [
    {
     "data": {
      "text/html": [
       "<div>\n",
       "<style scoped>\n",
       "    .dataframe tbody tr th:only-of-type {\n",
       "        vertical-align: middle;\n",
       "    }\n",
       "\n",
       "    .dataframe tbody tr th {\n",
       "        vertical-align: top;\n",
       "    }\n",
       "\n",
       "    .dataframe thead th {\n",
       "        text-align: right;\n",
       "    }\n",
       "</style>\n",
       "<table border=\"1\" class=\"dataframe\">\n",
       "  <thead>\n",
       "    <tr style=\"text-align: right;\">\n",
       "      <th></th>\n",
       "      <th>AverageRevenue</th>\n",
       "    </tr>\n",
       "  </thead>\n",
       "  <tbody>\n",
       "    <tr>\n",
       "      <th>632</th>\n",
       "      <td>7.500000e+07</td>\n",
       "    </tr>\n",
       "    <tr>\n",
       "      <th>750</th>\n",
       "      <td>1.750000e+07</td>\n",
       "    </tr>\n",
       "    <tr>\n",
       "      <th>255</th>\n",
       "      <td>1.500000e+09</td>\n",
       "    </tr>\n",
       "    <tr>\n",
       "      <th>30</th>\n",
       "      <td>3.000000e+08</td>\n",
       "    </tr>\n",
       "    <tr>\n",
       "      <th>94</th>\n",
       "      <td>1.000000e+10</td>\n",
       "    </tr>\n",
       "  </tbody>\n",
       "</table>\n",
       "</div>"
      ],
      "text/plain": [
       "     AverageRevenue\n",
       "632    7.500000e+07\n",
       "750    1.750000e+07\n",
       "255    1.500000e+09\n",
       "30     3.000000e+08\n",
       "94     1.000000e+10"
      ]
     },
     "execution_count": 238,
     "metadata": {},
     "output_type": "execute_result"
    }
   ],
   "source": [
    "df[['AverageRevenue']].sample(5)"
   ]
  },
  {
   "cell_type": "code",
   "execution_count": null,
   "metadata": {},
   "outputs": [],
   "source": [
    "#competitors"
   ]
  },
  {
   "cell_type": "code",
   "execution_count": 239,
   "metadata": {},
   "outputs": [
    {
     "data": {
      "text/html": [
       "<div>\n",
       "<style scoped>\n",
       "    .dataframe tbody tr th:only-of-type {\n",
       "        vertical-align: middle;\n",
       "    }\n",
       "\n",
       "    .dataframe tbody tr th {\n",
       "        vertical-align: top;\n",
       "    }\n",
       "\n",
       "    .dataframe thead th {\n",
       "        text-align: right;\n",
       "    }\n",
       "</style>\n",
       "<table border=\"1\" class=\"dataframe\">\n",
       "  <thead>\n",
       "    <tr style=\"text-align: right;\">\n",
       "      <th></th>\n",
       "      <th>Competitors</th>\n",
       "    </tr>\n",
       "  </thead>\n",
       "  <tbody>\n",
       "    <tr>\n",
       "      <th>311</th>\n",
       "      <td>-1</td>\n",
       "    </tr>\n",
       "    <tr>\n",
       "      <th>296</th>\n",
       "      <td>-1</td>\n",
       "    </tr>\n",
       "    <tr>\n",
       "      <th>748</th>\n",
       "      <td>-1</td>\n",
       "    </tr>\n",
       "    <tr>\n",
       "      <th>204</th>\n",
       "      <td>Novartis, Baxter, Pfizer</td>\n",
       "    </tr>\n",
       "    <tr>\n",
       "      <th>769</th>\n",
       "      <td>Oak Ridge National Laboratory, National Renewa...</td>\n",
       "    </tr>\n",
       "  </tbody>\n",
       "</table>\n",
       "</div>"
      ],
      "text/plain": [
       "                                           Competitors\n",
       "311                                                 -1\n",
       "296                                                 -1\n",
       "748                                                 -1\n",
       "204                           Novartis, Baxter, Pfizer\n",
       "769  Oak Ridge National Laboratory, National Renewa..."
      ]
     },
     "execution_count": 239,
     "metadata": {},
     "output_type": "execute_result"
    }
   ],
   "source": [
    "df[['Competitors']].sample(5)"
   ]
  },
  {
   "cell_type": "code",
   "execution_count": 240,
   "metadata": {},
   "outputs": [],
   "source": [
    "df['Competitors']=df['Competitors'].fillna('')"
   ]
  },
  {
   "cell_type": "code",
   "execution_count": 241,
   "metadata": {},
   "outputs": [],
   "source": [
    "df['num_competitors']=df['Competitors'].apply(lambda x: len(x.split(',')) if x else 0)"
   ]
  },
  {
   "cell_type": "code",
   "execution_count": null,
   "metadata": {},
   "outputs": [],
   "source": [
    "#job title"
   ]
  },
  {
   "cell_type": "code",
   "execution_count": 242,
   "metadata": {},
   "outputs": [
    {
     "data": {
      "text/html": [
       "<div>\n",
       "<style scoped>\n",
       "    .dataframe tbody tr th:only-of-type {\n",
       "        vertical-align: middle;\n",
       "    }\n",
       "\n",
       "    .dataframe tbody tr th {\n",
       "        vertical-align: top;\n",
       "    }\n",
       "\n",
       "    .dataframe thead th {\n",
       "        text-align: right;\n",
       "    }\n",
       "</style>\n",
       "<table border=\"1\" class=\"dataframe\">\n",
       "  <thead>\n",
       "    <tr style=\"text-align: right;\">\n",
       "      <th></th>\n",
       "      <th>Job Title</th>\n",
       "    </tr>\n",
       "  </thead>\n",
       "  <tbody>\n",
       "    <tr>\n",
       "      <th>414</th>\n",
       "      <td>Staff Machine Learning Engineer</td>\n",
       "    </tr>\n",
       "    <tr>\n",
       "      <th>175</th>\n",
       "      <td>Senior Data Scientist Statistics</td>\n",
       "    </tr>\n",
       "    <tr>\n",
       "      <th>743</th>\n",
       "      <td>Data Engineer</td>\n",
       "    </tr>\n",
       "    <tr>\n",
       "      <th>335</th>\n",
       "      <td>Sr. Scientist, Quantitative Translational Scie...</td>\n",
       "    </tr>\n",
       "    <tr>\n",
       "      <th>829</th>\n",
       "      <td>Data Scientist in Artificial Intelligence Earl...</td>\n",
       "    </tr>\n",
       "  </tbody>\n",
       "</table>\n",
       "</div>"
      ],
      "text/plain": [
       "                                             Job Title\n",
       "414                    Staff Machine Learning Engineer\n",
       "175                   Senior Data Scientist Statistics\n",
       "743                                      Data Engineer\n",
       "335  Sr. Scientist, Quantitative Translational Scie...\n",
       "829  Data Scientist in Artificial Intelligence Earl..."
      ]
     },
     "execution_count": 242,
     "metadata": {},
     "output_type": "execute_result"
    }
   ],
   "source": [
    "df[['Job Title']].sample(5)"
   ]
  },
  {
   "cell_type": "code",
   "execution_count": 262,
   "metadata": {},
   "outputs": [],
   "source": [
    "def title_simplifier(title):\n",
    "    title = title.lower()\n",
    "\n",
    "    # mapping of job title keywords to simplified titles\n",
    "    title_mappings = {\n",
    "        'data scientist': 'data scientist',  # Maps 'data scientist' to itself\n",
    "        'data engineer': 'data engineer',    # Maps 'data engineer' to itself\n",
    "        'analyst': 'analyst',                # Maps 'analyst' to itself\n",
    "        'machine learning': 'mle',           # Maps 'machine learning' to 'mle' (Machine Learning Engineer)\n",
    "        'manager': 'manager',                # Maps 'manager' to itself\n",
    "        'director': 'director',              # Maps 'director' to itself\n",
    "    }\n",
    "\n",
    "    for key, simplified_title in title_mappings.items():#{key}:{value} pairs in title_mappings\n",
    "        if key in title:  \n",
    "            return simplified_title  \n",
    "\n",
    "    return 'Other'"
   ]
  },
  {
   "cell_type": "code",
   "execution_count": 263,
   "metadata": {},
   "outputs": [],
   "source": [
    "df['Job Title'] = df['Job Title'].apply(title_simplifier)"
   ]
  },
  {
   "cell_type": "code",
   "execution_count": 243,
   "metadata": {},
   "outputs": [],
   "source": [
    "def get_experience_level(title):\n",
    "    # if the title has 'senior' or 'lead'\n",
    "    if 'senior' in title.lower() or 'lead' in title.lower():\n",
    "        return 'Senior' \n",
    "    # if the title has 'junior'\n",
    "    elif 'junior' in title.lower():\n",
    "        return 'Junior'  \n",
    "    else:\n",
    "        return 'Mid-level'  \n",
    "\n"
   ]
  },
  {
   "cell_type": "code",
   "execution_count": 244,
   "metadata": {},
   "outputs": [],
   "source": [
    "df['Experience_Level'] = df['Job Title'].apply(get_experience_level)"
   ]
  },
  {
   "cell_type": "code",
   "execution_count": null,
   "metadata": {},
   "outputs": [],
   "source": [
    "#rating"
   ]
  },
  {
   "cell_type": "code",
   "execution_count": 247,
   "metadata": {},
   "outputs": [
    {
     "data": {
      "text/html": [
       "<div>\n",
       "<style scoped>\n",
       "    .dataframe tbody tr th:only-of-type {\n",
       "        vertical-align: middle;\n",
       "    }\n",
       "\n",
       "    .dataframe tbody tr th {\n",
       "        vertical-align: top;\n",
       "    }\n",
       "\n",
       "    .dataframe thead th {\n",
       "        text-align: right;\n",
       "    }\n",
       "</style>\n",
       "<table border=\"1\" class=\"dataframe\">\n",
       "  <thead>\n",
       "    <tr style=\"text-align: right;\">\n",
       "      <th></th>\n",
       "      <th>Rating</th>\n",
       "    </tr>\n",
       "  </thead>\n",
       "  <tbody>\n",
       "    <tr>\n",
       "      <th>459</th>\n",
       "      <td>3.3</td>\n",
       "    </tr>\n",
       "    <tr>\n",
       "      <th>433</th>\n",
       "      <td>3.7</td>\n",
       "    </tr>\n",
       "    <tr>\n",
       "      <th>145</th>\n",
       "      <td>3.6</td>\n",
       "    </tr>\n",
       "    <tr>\n",
       "      <th>369</th>\n",
       "      <td>3.0</td>\n",
       "    </tr>\n",
       "    <tr>\n",
       "      <th>320</th>\n",
       "      <td>3.9</td>\n",
       "    </tr>\n",
       "  </tbody>\n",
       "</table>\n",
       "</div>"
      ],
      "text/plain": [
       "     Rating\n",
       "459     3.3\n",
       "433     3.7\n",
       "145     3.6\n",
       "369     3.0\n",
       "320     3.9"
      ]
     },
     "execution_count": 247,
     "metadata": {},
     "output_type": "execute_result"
    }
   ],
   "source": [
    "df[['Rating']].sample(5)"
   ]
  },
  {
   "cell_type": "code",
   "execution_count": 245,
   "metadata": {},
   "outputs": [],
   "source": [
    "df['Rating'] = df['Rating'].astype('float')\n",
    "df['Founded'] = df['Founded'].astype('int')"
   ]
  },
  {
   "cell_type": "code",
   "execution_count": 248,
   "metadata": {},
   "outputs": [],
   "source": [
    "categorical_columns = ['Job Title', 'Company Name', 'Location', 'Type of ownership', 'Industry', 'Sector']\n",
    "for col in categorical_columns:\n",
    "    df[col] = df[col].astype('category') "
   ]
  },
  {
   "cell_type": "code",
   "execution_count": 264,
   "metadata": {},
   "outputs": [
    {
     "data": {
      "text/plain": [
       "Index(['Job Title', 'Salary Estimate', 'Job Description', 'Rating',\n",
       "       'Company Name', 'Location', 'Headquarters', 'Size', 'Founded',\n",
       "       'Type of ownership', 'Industry', 'Sector', 'Revenue', 'Competitors',\n",
       "       'min_salary', 'max_salary', 'avg_salary', 'state', 'City', 'Age',\n",
       "       'AverageRevenue', 'num_competitors', 'Experience_Level', 'Skills',\n",
       "       'Education', 'Years_Experience', 'SalaryCategory'],\n",
       "      dtype='object')"
      ]
     },
     "execution_count": 264,
     "metadata": {},
     "output_type": "execute_result"
    }
   ],
   "source": [
    "df.columns"
   ]
  },
  {
   "cell_type": "code",
   "execution_count": 265,
   "metadata": {},
   "outputs": [],
   "source": [
    "df.drop(['Job Description','Location', 'Headquarters','Revenue','Competitors'],axis=1,inplace=True)"
   ]
  },
  {
   "cell_type": "code",
   "execution_count": 266,
   "metadata": {},
   "outputs": [
    {
     "data": {
      "text/plain": [
       "Index(['Job Title', 'Salary Estimate', 'Rating', 'Company Name', 'Size',\n",
       "       'Founded', 'Type of ownership', 'Industry', 'Sector', 'min_salary',\n",
       "       'max_salary', 'avg_salary', 'state', 'City', 'Age', 'AverageRevenue',\n",
       "       'num_competitors', 'Experience_Level', 'Skills', 'Education',\n",
       "       'Years_Experience', 'SalaryCategory'],\n",
       "      dtype='object')"
      ]
     },
     "execution_count": 266,
     "metadata": {},
     "output_type": "execute_result"
    }
   ],
   "source": [
    "df.columns"
   ]
  },
  {
   "cell_type": "code",
   "execution_count": 274,
   "metadata": {},
   "outputs": [
    {
     "ename": "SyntaxError",
     "evalue": "invalid syntax (2517737959.py, line 20)",
     "output_type": "error",
     "traceback": [
      "\u001b[1;36m  Cell \u001b[1;32mIn[274], line 20\u001b[1;36m\u001b[0m\n\u001b[1;33m    'Skills': 'RequiredSkills',\u001b[0m\n\u001b[1;37m            ^\u001b[0m\n\u001b[1;31mSyntaxError\u001b[0m\u001b[1;31m:\u001b[0m invalid syntax\n"
     ]
    }
   ],
   "source": [
    "df.rename(columns={\n",
    "    'Job Title': 'JobTitle',\n",
    "    'Salary Estimate': 'SalaryEstimate',\n",
    "    'Rating': 'Rating',\n",
    "    'Company Name': 'CompanyName',\n",
    "    'Size': 'CompanySize',\n",
    "    'Founded': 'FoundedYear',\n",
    "    'Type of ownership': 'OwnershipType',\n",
    "    'Industry': 'Industry',\n",
    "    'Sector': 'Sector',\n",
    "    'min_salary': 'MinSalary',\n",
    "    'max_salary': 'MaxSalary',\n",
    "    'avg_salary': 'AverageSalary',\n",
    "    'State': 'State',\n",
    "    'City': 'City',\n",
    "    'Age': 'CompanyAge',\n",
    "    \n",
    "    'num_competitors': 'NumberOfCompetitors',\n",
    "    'Experience_Level':'ExperienceLevel'\n",
    "    'Skills': 'RequiredSkills',\n",
    "    'Education': 'EducationLevel',\n",
    "    'Years_Experience': 'YearsofExperience',\n",
    "}, inplace=True)"
   ]
  },
  {
   "cell_type": "code",
   "execution_count": 272,
   "metadata": {},
   "outputs": [
    {
     "data": {
      "text/html": [
       "<div>\n",
       "<style scoped>\n",
       "    .dataframe tbody tr th:only-of-type {\n",
       "        vertical-align: middle;\n",
       "    }\n",
       "\n",
       "    .dataframe tbody tr th {\n",
       "        vertical-align: top;\n",
       "    }\n",
       "\n",
       "    .dataframe thead th {\n",
       "        text-align: right;\n",
       "    }\n",
       "</style>\n",
       "<table border=\"1\" class=\"dataframe\">\n",
       "  <thead>\n",
       "    <tr style=\"text-align: right;\">\n",
       "      <th></th>\n",
       "      <th>JobTitle</th>\n",
       "      <th>SalaryEstimate</th>\n",
       "      <th>Rating</th>\n",
       "      <th>CompanyName</th>\n",
       "      <th>CompanySize</th>\n",
       "      <th>FoundedYear</th>\n",
       "      <th>OwnershipType</th>\n",
       "      <th>Industry</th>\n",
       "      <th>Sector</th>\n",
       "      <th>MinSalary</th>\n",
       "      <th>...</th>\n",
       "      <th>state</th>\n",
       "      <th>City</th>\n",
       "      <th>CompanyAge</th>\n",
       "      <th>AverageRevenue</th>\n",
       "      <th>NumberOfCompetitors</th>\n",
       "      <th>Experience_Level</th>\n",
       "      <th>RequiredSkills</th>\n",
       "      <th>EducationLevel</th>\n",
       "      <th>YearsofExperience</th>\n",
       "      <th>SalaryCategory</th>\n",
       "    </tr>\n",
       "  </thead>\n",
       "  <tbody>\n",
       "    <tr>\n",
       "      <th>0</th>\n",
       "      <td>data scientist</td>\n",
       "      <td>53000-91000</td>\n",
       "      <td>3.8</td>\n",
       "      <td>Tecolote Research</td>\n",
       "      <td>501-1000</td>\n",
       "      <td>1973</td>\n",
       "      <td>Private</td>\n",
       "      <td>Aerospace &amp; Defense</td>\n",
       "      <td>Aerospace &amp; Defense</td>\n",
       "      <td>53000</td>\n",
       "      <td>...</td>\n",
       "      <td>NM</td>\n",
       "      <td>Albuquerque</td>\n",
       "      <td>51.0</td>\n",
       "      <td>7.500000e+07</td>\n",
       "      <td>1</td>\n",
       "      <td>Mid-level</td>\n",
       "      <td>[Python, R]</td>\n",
       "      <td>[Bachelor, Master]</td>\n",
       "      <td>NaN</td>\n",
       "      <td>Low</td>\n",
       "    </tr>\n",
       "    <tr>\n",
       "      <th>1</th>\n",
       "      <td>data scientist</td>\n",
       "      <td>63000-112000</td>\n",
       "      <td>3.4</td>\n",
       "      <td>University of Maryland Medical System</td>\n",
       "      <td>10000++</td>\n",
       "      <td>1984</td>\n",
       "      <td>Other Organization</td>\n",
       "      <td>Health Care Services &amp; Hospitals</td>\n",
       "      <td>Health Care</td>\n",
       "      <td>63000</td>\n",
       "      <td>...</td>\n",
       "      <td>MD</td>\n",
       "      <td>Linthicum</td>\n",
       "      <td>40.0</td>\n",
       "      <td>3.500000e+09</td>\n",
       "      <td>1</td>\n",
       "      <td>Mid-level</td>\n",
       "      <td>[Python, R, Java, C++]</td>\n",
       "      <td>[Master]</td>\n",
       "      <td>3.0</td>\n",
       "      <td>Medium</td>\n",
       "    </tr>\n",
       "    <tr>\n",
       "      <th>2</th>\n",
       "      <td>data scientist</td>\n",
       "      <td>80000-90000</td>\n",
       "      <td>4.8</td>\n",
       "      <td>KnowBe4</td>\n",
       "      <td>501-1000</td>\n",
       "      <td>2010</td>\n",
       "      <td>Private</td>\n",
       "      <td>Security Services</td>\n",
       "      <td>Business Services</td>\n",
       "      <td>80000</td>\n",
       "      <td>...</td>\n",
       "      <td>FL</td>\n",
       "      <td>Clearwater</td>\n",
       "      <td>14.0</td>\n",
       "      <td>3.000000e+08</td>\n",
       "      <td>1</td>\n",
       "      <td>Mid-level</td>\n",
       "      <td>[Python, R, SQL]</td>\n",
       "      <td>[Master, PhD]</td>\n",
       "      <td>3.0</td>\n",
       "      <td>Medium</td>\n",
       "    </tr>\n",
       "    <tr>\n",
       "      <th>3</th>\n",
       "      <td>data scientist</td>\n",
       "      <td>56000-97000</td>\n",
       "      <td>3.8</td>\n",
       "      <td>PNNL</td>\n",
       "      <td>1001-5000</td>\n",
       "      <td>1965</td>\n",
       "      <td>Government</td>\n",
       "      <td>Energy</td>\n",
       "      <td>Oil, Gas, Energy &amp; Utilities</td>\n",
       "      <td>56000</td>\n",
       "      <td>...</td>\n",
       "      <td>WA</td>\n",
       "      <td>Richland</td>\n",
       "      <td>59.0</td>\n",
       "      <td>2.505000e+08</td>\n",
       "      <td>3</td>\n",
       "      <td>Mid-level</td>\n",
       "      <td>[Python, R]</td>\n",
       "      <td>[]</td>\n",
       "      <td>1.0</td>\n",
       "      <td>Medium</td>\n",
       "    </tr>\n",
       "    <tr>\n",
       "      <th>4</th>\n",
       "      <td>data scientist</td>\n",
       "      <td>86000-143000</td>\n",
       "      <td>2.9</td>\n",
       "      <td>Affinity Solutions</td>\n",
       "      <td>51-200</td>\n",
       "      <td>1998</td>\n",
       "      <td>Private</td>\n",
       "      <td>Advertising &amp; Marketing</td>\n",
       "      <td>Business Services</td>\n",
       "      <td>86000</td>\n",
       "      <td>...</td>\n",
       "      <td>NY</td>\n",
       "      <td>New York</td>\n",
       "      <td>26.0</td>\n",
       "      <td>NaN</td>\n",
       "      <td>3</td>\n",
       "      <td>Mid-level</td>\n",
       "      <td>[Python, R, SQL]</td>\n",
       "      <td>[]</td>\n",
       "      <td>NaN</td>\n",
       "      <td>Medium</td>\n",
       "    </tr>\n",
       "  </tbody>\n",
       "</table>\n",
       "<p>5 rows × 22 columns</p>\n",
       "</div>"
      ],
      "text/plain": [
       "         JobTitle SalaryEstimate  Rating  \\\n",
       "0  data scientist   53000-91000      3.8   \n",
       "1  data scientist  63000-112000      3.4   \n",
       "2  data scientist   80000-90000      4.8   \n",
       "3  data scientist   56000-97000      3.8   \n",
       "4  data scientist  86000-143000      2.9   \n",
       "\n",
       "                             CompanyName CompanySize  FoundedYear  \\\n",
       "0                      Tecolote Research    501-1000         1973   \n",
       "1  University of Maryland Medical System     10000++         1984   \n",
       "2                                KnowBe4    501-1000         2010   \n",
       "3                                   PNNL   1001-5000         1965   \n",
       "4                     Affinity Solutions      51-200         1998   \n",
       "\n",
       "        OwnershipType                          Industry  \\\n",
       "0             Private               Aerospace & Defense   \n",
       "1  Other Organization  Health Care Services & Hospitals   \n",
       "2             Private                 Security Services   \n",
       "3          Government                            Energy   \n",
       "4             Private           Advertising & Marketing   \n",
       "\n",
       "                         Sector  MinSalary  ...  state         City  \\\n",
       "0           Aerospace & Defense      53000  ...     NM  Albuquerque   \n",
       "1                   Health Care      63000  ...     MD    Linthicum   \n",
       "2             Business Services      80000  ...     FL   Clearwater   \n",
       "3  Oil, Gas, Energy & Utilities      56000  ...     WA     Richland   \n",
       "4             Business Services      86000  ...     NY     New York   \n",
       "\n",
       "  CompanyAge AverageRevenue  NumberOfCompetitors  Experience_Level  \\\n",
       "0       51.0   7.500000e+07                    1         Mid-level   \n",
       "1       40.0   3.500000e+09                    1         Mid-level   \n",
       "2       14.0   3.000000e+08                    1         Mid-level   \n",
       "3       59.0   2.505000e+08                    3         Mid-level   \n",
       "4       26.0            NaN                    3         Mid-level   \n",
       "\n",
       "           RequiredSkills      EducationLevel YearsofExperience SalaryCategory  \n",
       "0             [Python, R]  [Bachelor, Master]               NaN            Low  \n",
       "1  [Python, R, Java, C++]            [Master]               3.0         Medium  \n",
       "2        [Python, R, SQL]       [Master, PhD]               3.0         Medium  \n",
       "3             [Python, R]                  []               1.0         Medium  \n",
       "4        [Python, R, SQL]                  []               NaN         Medium  \n",
       "\n",
       "[5 rows x 22 columns]"
      ]
     },
     "execution_count": 272,
     "metadata": {},
     "output_type": "execute_result"
    }
   ],
   "source": [
    "df.head()"
   ]
  },
  {
   "cell_type": "code",
   "execution_count": 273,
   "metadata": {},
   "outputs": [
    {
     "name": "stdout",
     "output_type": "stream",
     "text": [
      "<class 'pandas.core.frame.DataFrame'>\n",
      "Index: 742 entries, 0 to 955\n",
      "Data columns (total 22 columns):\n",
      " #   Column               Non-Null Count  Dtype   \n",
      "---  ------               --------------  -----   \n",
      " 0   JobTitle             742 non-null    object  \n",
      " 1   SalaryEstimate       742 non-null    object  \n",
      " 2   Rating               742 non-null    float64 \n",
      " 3   CompanyName          742 non-null    category\n",
      " 4   CompanySize          741 non-null    object  \n",
      " 5   FoundedYear          742 non-null    int64   \n",
      " 6   OwnershipType        742 non-null    category\n",
      " 7   Industry             742 non-null    category\n",
      " 8   Sector               742 non-null    category\n",
      " 9   MinSalary            742 non-null    int64   \n",
      " 10  MaxSalary            742 non-null    int64   \n",
      " 11  AverageSalary        742 non-null    int64   \n",
      " 12  state                742 non-null    object  \n",
      " 13  City                 742 non-null    object  \n",
      " 14  CompanyAge           692 non-null    float64 \n",
      " 15  AverageRevenue       538 non-null    float64 \n",
      " 16  NumberOfCompetitors  742 non-null    int64   \n",
      " 17  Experience_Level     742 non-null    object  \n",
      " 18  RequiredSkills       742 non-null    object  \n",
      " 19  EducationLevel       742 non-null    object  \n",
      " 20  YearsofExperience    542 non-null    float64 \n",
      " 21  SalaryCategory       742 non-null    category\n",
      "dtypes: category(5), float64(4), int64(5), object(8)\n",
      "memory usage: 123.3+ KB\n"
     ]
    }
   ],
   "source": [
    "df.info()"
   ]
  },
  {
   "cell_type": "code",
   "execution_count": null,
   "metadata": {},
   "outputs": [],
   "source": [
    "#handling missing values"
   ]
  },
  {
   "cell_type": "code",
   "execution_count": 275,
   "metadata": {},
   "outputs": [],
   "source": [
    "df.replace(-1, np.nan, inplace=True)"
   ]
  },
  {
   "cell_type": "code",
   "execution_count": 276,
   "metadata": {},
   "outputs": [
    {
     "name": "stdout",
     "output_type": "stream",
     "text": [
      "['Rating', 'CompanySize', 'FoundedYear', 'CompanyAge', 'AverageRevenue', 'YearsofExperience']\n"
     ]
    }
   ],
   "source": [
    "columns_with_nan = df.columns[df.isna().any()].tolist()\n",
    "\n",
    "print(columns_with_nan)"
   ]
  },
  {
   "cell_type": "code",
   "execution_count": 278,
   "metadata": {},
   "outputs": [
    {
     "name": "stdout",
     "output_type": "stream",
     "text": [
      "Rating                11\n",
      "CompanySize            1\n",
      "FoundedYear           50\n",
      "CompanyAge            50\n",
      "AverageRevenue       204\n",
      "YearsofExperience    200\n",
      "dtype: int64\n"
     ]
    }
   ],
   "source": [
    "# Identifying columns with missing values and their count\n",
    "missing_values = df.isnull().sum()\n",
    "\n",
    "# Filtering only columns that have missing values\n",
    "columns_with_missing = missing_values[missing_values > 0]\n",
    "print(columns_with_missing)"
   ]
  },
  {
   "cell_type": "code",
   "execution_count": 280,
   "metadata": {},
   "outputs": [],
   "source": [
    "import warnings\n",
    "import seaborn as sns\n",
    "\n",
    "# Suppress warnings\n",
    "warnings.filterwarnings(\"ignore\", category=FutureWarning)\n",
    "warnings.filterwarnings(\"ignore\", category=UserWarning)\n",
    "\n",
    "# Set a custom color palette\n",
    "custom_colors = [\"#D72638\", \"#3F88C5\", \"#140F2D\", \"#F49D37\"]\n",
    "sns.set_palette(custom_colors)\n",
    "\n",
    "# Set a base style\n",
    "sns.set_style(\"whitegrid\")\n",
    "\n",
    "# Customize specific style parameters\n",
    "custom_params = {\n",
    "    \"axes.spines.right\": False,\n",
    "    \"axes.spines.top\": False,\n",
    "    \"axes.grid\": True,\n",
    "    \"grid.linestyle\": \"--\",\n",
    "    \"grid.color\": \"#cccccc\",\n",
    "    \"axes.facecolor\": \"#f0f0f0\",\n",
    "    \"axes.labelsize\": 14,\n",
    "    \"axes.titlesize\": 16,\n",
    "    \"xtick.labelsize\": 12,\n",
    "    \"ytick.labelsize\": 12\n",
    "}\n",
    "sns.set_context(\"notebook\", rc=custom_params)"
   ]
  },
  {
   "cell_type": "code",
   "execution_count": null,
   "metadata": {},
   "outputs": [],
   "source": [
    "#1. Rating"
   ]
  },
  {
   "cell_type": "code",
   "execution_count": 281,
   "metadata": {},
   "outputs": [
    {
     "data": {
      "image/png": "[encoded data removed]",
      "text/plain": [
       "<Figure size 1000x600 with 1 Axes>"
      ]
     },
     "metadata": {},
     "output_type": "display_data"
    }
   ],
   "source": [
    "plt.figure(figsize=(10, 6))\n",
    "sns.histplot(x='Rating', data=df, bins=30, kde=True, edgecolor='black', color=custom_colors[2])\n",
    "\n",
    "\n",
    "plt.title('Distribution of Ratings', fontsize=16)\n",
    "plt.xlabel('Rating', fontsize=14)\n",
    "plt.ylabel('Frequency', fontsize=14)\n",
    "plt.show()"
   ]
  },
  {
   "cell_type": "code",
   "execution_count": 282,
   "metadata": {},
   "outputs": [],
   "source": [
    "#The median is generally more robust to skewness and outliers compared to the mean.\n",
    "#robust in statistics and data analysis refers to the ability of a method or measure to remain effective and reliable under various conditions\n",
    "df['Rating'].fillna(df['Rating'].median(), inplace=True)"
   ]
  },
  {
   "cell_type": "markdown",
   "metadata": {},
   "source": [
    "#2. company size"
   ]
  },
  {
   "cell_type": "code",
   "execution_count": 283,
   "metadata": {},
   "outputs": [
    {
     "data": {
      "text/plain": [
       "CompanySize\n",
       "1001-5000     150\n",
       "501-1000      134\n",
       "10000++       130\n",
       "201-500       117\n",
       "51-200         94\n",
       "5001-10000     76\n",
       "1-50           31\n",
       "Unknown         9\n",
       "Name: count, dtype: int64"
      ]
     },
     "execution_count": 283,
     "metadata": {},
     "output_type": "execute_result"
    }
   ],
   "source": [
    "df['CompanySize'].value_counts()"
   ]
  },
  {
   "cell_type": "code",
   "execution_count": 284,
   "metadata": {},
   "outputs": [],
   "source": [
    "df['CompanySize'].fillna('Unknown', inplace=True)"
   ]
  },
  {
   "cell_type": "markdown",
   "metadata": {},
   "source": [
    "3. Founded year"
   ]
  },
  {
   "cell_type": "code",
   "execution_count": 285,
   "metadata": {},
   "outputs": [
    {
     "data": {
      "image/png": "[encoded data removed]",
      "text/plain": [
       "<Figure size 1000x600 with 1 Axes>"
      ]
     },
     "metadata": {},
     "output_type": "display_data"
    }
   ],
   "source": [
    "plt.figure(figsize=(10, 6))\n",
    "sns.histplot(x='FoundedYear', data=df, bins=30, kde=True, color=custom_colors[0], edgecolor='black')\n",
    "\n",
    "plt.title('Distribution of FoundedYear', fontsize=16)\n",
    "plt.xlabel('FoundedYear', fontsize=14)\n",
    "plt.ylabel('Frequency', fontsize=14)\n",
    "plt.show()"
   ]
  },
  {
   "cell_type": "code",
   "execution_count": 286,
   "metadata": {},
   "outputs": [],
   "source": [
    "df['FoundedYear'].fillna(df['FoundedYear'].median(), inplace=True)"
   ]
  },
  {
   "cell_type": "markdown",
   "metadata": {},
   "source": [
    "4. CompanyAge"
   ]
  },
  {
   "cell_type": "code",
   "execution_count": 287,
   "metadata": {},
   "outputs": [],
   "source": [
    "df['CompanyAge'].fillna(2024 - df['FoundedYear'], inplace=True)"
   ]
  },
  {
   "cell_type": "markdown",
   "metadata": {},
   "source": [
    "4. YearsofExperience"
   ]
  },
  {
   "cell_type": "code",
   "execution_count": 290,
   "metadata": {},
   "outputs": [
    {
     "data": {
      "image/png": "[encoded data removed]",
      "text/plain": [
       "<Figure size 1000x600 with 1 Axes>"
      ]
     },
     "metadata": {},
     "output_type": "display_data"
    }
   ],
   "source": [
    "plt.figure(figsize=(10, 6))\n",
    "sns.histplot(x='YearsofExperience', data=df, bins=30, kde=True, color=custom_colors[3], edgecolor='black')\n",
    "\n",
    "\n",
    "plt.title('Distribution of YearsExperience', fontsize=16)\n",
    "plt.xlabel('YearsExperience', fontsize=14)\n",
    "plt.ylabel('Frequency', fontsize=14)\n",
    "plt.show()"
   ]
  },
  {
   "cell_type": "code",
   "execution_count": 296,
   "metadata": {},
   "outputs": [],
   "source": [
    "from sklearn.impute import KNNImputer\n",
    "knn_imputer = KNNImputer(n_neighbors=5)\n",
    "df[['YearsofExperience']] = knn_imputer.fit_transform(df[['YearsofExperience']])"
   ]
  },
  {
   "cell_type": "markdown",
   "metadata": {},
   "source": [
    "5. AverageRevenue  "
   ]
  },
  {
   "cell_type": "code",
   "execution_count": 292,
   "metadata": {},
   "outputs": [
    {
     "data": {
      "image/png": "[encoded data removed]",
      "text/plain": [
       "<Figure size 1000x600 with 1 Axes>"
      ]
     },
     "metadata": {},
     "output_type": "display_data"
    }
   ],
   "source": [
    "plt.figure(figsize=(10, 6))\n",
    "sns.histplot(x='AverageRevenue', data=df, bins=30, kde=True, color=custom_colors[3], edgecolor='black')\n",
    "\n",
    "\n",
    "plt.title('Distribution of AverageRevenue ', fontsize=16)\n",
    "plt.xlabel('AverageRevenue', fontsize=14)\n",
    "plt.ylabel('Frequency', fontsize=14)\n",
    "plt.show()"
   ]
  },
  {
   "cell_type": "code",
   "execution_count": 297,
   "metadata": {},
   "outputs": [],
   "source": [
    "knn_imputer = KNNImputer(n_neighbors=5)\n",
    "df[[ 'AverageRevenue']] = knn_imputer.fit_transform(df[[ 'AverageRevenue']])"
   ]
  },
  {
   "cell_type": "code",
   "execution_count": 298,
   "metadata": {},
   "outputs": [],
   "source": [
    "df['OwnershipType'].replace('-1', df['OwnershipType'].mode()[0], inplace=True)\n",
    "df['Sector'].replace('-1', df['Sector'].mode()[0], inplace=True)\n"
   ]
  },
  {
   "cell_type": "code",
   "execution_count": 300,
   "metadata": {},
   "outputs": [
    {
     "data": {
      "text/plain": [
       "JobTitle               0\n",
       "SalaryEstimate         0\n",
       "Rating                 0\n",
       "CompanyName            0\n",
       "CompanySize            0\n",
       "FoundedYear            0\n",
       "OwnershipType          0\n",
       "Industry               0\n",
       "Sector                 0\n",
       "MinSalary              0\n",
       "MaxSalary              0\n",
       "AverageSalary          0\n",
       "state                  0\n",
       "City                   0\n",
       "CompanyAge             0\n",
       "AverageRevenue         0\n",
       "NumberOfCompetitors    0\n",
       "Experience_Level       0\n",
       "RequiredSkills         0\n",
       "EducationLevel         0\n",
       "YearsofExperience      0\n",
       "SalaryCategory         0\n",
       "dtype: int64"
      ]
     },
     "execution_count": 300,
     "metadata": {},
     "output_type": "execute_result"
    }
   ],
   "source": [
    "df.isnull().sum()"
   ]
  },
  {
   "cell_type": "code",
   "execution_count": 305,
   "metadata": {},
   "outputs": [],
   "source": [
    "df.to_csv('cleaned_glassdoor_jobs.csv',index=False)"
   ]
  },
  {
   "cell_type": "code",
   "execution_count": null,
   "metadata": {},
   "outputs": [],
   "source": []
  }
 ],
 "metadata": {
  "kernelspec": {
   "display_name": "Python 3",
   "language": "python",
   "name": "python3"
  },
  "language_info": {
   "codemirror_mode": {
    "name": "ipython",
    "version": 3
   },
   "file_extension": ".py",
   "mimetype": "text/x-python",
   "name": "python",
   "nbconvert_exporter": "python",
   "pygments_lexer": "ipython3",
   "version": "3.12.4"
  }
 },
 "nbformat": 4,
 "nbformat_minor": 2
}
