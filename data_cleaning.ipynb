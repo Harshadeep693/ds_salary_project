{
 "cells": [
  {
   "cell_type": "code",
   "execution_count": 2,
   "metadata": {},
   "outputs": [],
   "source": [
    "import pandas as pd \n",
    "import matplotlib.pyplot as plt \n",
    "import seaborn as sns "
   ]
  },
  {
   "cell_type": "code",
   "execution_count": 23,
   "metadata": {},
   "outputs": [],
   "source": [
    "df = pd.read_csv('glassdoor_jobs.csv')"
   ]
  },
  {
   "cell_type": "code",
   "execution_count": 24,
   "metadata": {},
   "outputs": [
    {
     "data": {
      "text/html": [
       "<div>\n",
       "<style scoped>\n",
       "    .dataframe tbody tr th:only-of-type {\n",
       "        vertical-align: middle;\n",
       "    }\n",
       "\n",
       "    .dataframe tbody tr th {\n",
       "        vertical-align: top;\n",
       "    }\n",
       "\n",
       "    .dataframe thead th {\n",
       "        text-align: right;\n",
       "    }\n",
       "</style>\n",
       "<table border=\"1\" class=\"dataframe\">\n",
       "  <thead>\n",
       "    <tr style=\"text-align: right;\">\n",
       "      <th></th>\n",
       "      <th>Unnamed: 0</th>\n",
       "      <th>Job Title</th>\n",
       "      <th>Salary Estimate</th>\n",
       "      <th>Job Description</th>\n",
       "      <th>Rating</th>\n",
       "      <th>Company Name</th>\n",
       "      <th>Location</th>\n",
       "      <th>Headquarters</th>\n",
       "      <th>Size</th>\n",
       "      <th>Founded</th>\n",
       "      <th>Type of ownership</th>\n",
       "      <th>Industry</th>\n",
       "      <th>Sector</th>\n",
       "      <th>Revenue</th>\n",
       "      <th>Competitors</th>\n",
       "    </tr>\n",
       "  </thead>\n",
       "  <tbody>\n",
       "    <tr>\n",
       "      <th>0</th>\n",
       "      <td>0</td>\n",
       "      <td>Data Scientist</td>\n",
       "      <td>$53K-$91K (Glassdoor est.)</td>\n",
       "      <td>Data Scientist\\nLocation: Albuquerque, NM\\nEdu...</td>\n",
       "      <td>3.8</td>\n",
       "      <td>Tecolote Research\\n3.8</td>\n",
       "      <td>Albuquerque, NM</td>\n",
       "      <td>Goleta, CA</td>\n",
       "      <td>501 to 1000 employees</td>\n",
       "      <td>1973</td>\n",
       "      <td>Company - Private</td>\n",
       "      <td>Aerospace &amp; Defense</td>\n",
       "      <td>Aerospace &amp; Defense</td>\n",
       "      <td>$50 to $100 million (USD)</td>\n",
       "      <td>-1</td>\n",
       "    </tr>\n",
       "    <tr>\n",
       "      <th>1</th>\n",
       "      <td>1</td>\n",
       "      <td>Healthcare Data Scientist</td>\n",
       "      <td>$63K-$112K (Glassdoor est.)</td>\n",
       "      <td>What You Will Do:\\n\\nI. General Summary\\n\\nThe...</td>\n",
       "      <td>3.4</td>\n",
       "      <td>University of Maryland Medical System\\n3.4</td>\n",
       "      <td>Linthicum, MD</td>\n",
       "      <td>Baltimore, MD</td>\n",
       "      <td>10000+ employees</td>\n",
       "      <td>1984</td>\n",
       "      <td>Other Organization</td>\n",
       "      <td>Health Care Services &amp; Hospitals</td>\n",
       "      <td>Health Care</td>\n",
       "      <td>$2 to $5 billion (USD)</td>\n",
       "      <td>-1</td>\n",
       "    </tr>\n",
       "    <tr>\n",
       "      <th>2</th>\n",
       "      <td>2</td>\n",
       "      <td>Data Scientist</td>\n",
       "      <td>$80K-$90K (Glassdoor est.)</td>\n",
       "      <td>KnowBe4, Inc. is a high growth information sec...</td>\n",
       "      <td>4.8</td>\n",
       "      <td>KnowBe4\\n4.8</td>\n",
       "      <td>Clearwater, FL</td>\n",
       "      <td>Clearwater, FL</td>\n",
       "      <td>501 to 1000 employees</td>\n",
       "      <td>2010</td>\n",
       "      <td>Company - Private</td>\n",
       "      <td>Security Services</td>\n",
       "      <td>Business Services</td>\n",
       "      <td>$100 to $500 million (USD)</td>\n",
       "      <td>-1</td>\n",
       "    </tr>\n",
       "    <tr>\n",
       "      <th>3</th>\n",
       "      <td>3</td>\n",
       "      <td>Data Scientist</td>\n",
       "      <td>$56K-$97K (Glassdoor est.)</td>\n",
       "      <td>*Organization and Job ID**\\nJob ID: 310709\\n\\n...</td>\n",
       "      <td>3.8</td>\n",
       "      <td>PNNL\\n3.8</td>\n",
       "      <td>Richland, WA</td>\n",
       "      <td>Richland, WA</td>\n",
       "      <td>1001 to 5000 employees</td>\n",
       "      <td>1965</td>\n",
       "      <td>Government</td>\n",
       "      <td>Energy</td>\n",
       "      <td>Oil, Gas, Energy &amp; Utilities</td>\n",
       "      <td>$500 million to $1 billion (USD)</td>\n",
       "      <td>Oak Ridge National Laboratory, National Renewa...</td>\n",
       "    </tr>\n",
       "    <tr>\n",
       "      <th>4</th>\n",
       "      <td>4</td>\n",
       "      <td>Data Scientist</td>\n",
       "      <td>$86K-$143K (Glassdoor est.)</td>\n",
       "      <td>Data Scientist\\nAffinity Solutions / Marketing...</td>\n",
       "      <td>2.9</td>\n",
       "      <td>Affinity Solutions\\n2.9</td>\n",
       "      <td>New York, NY</td>\n",
       "      <td>New York, NY</td>\n",
       "      <td>51 to 200 employees</td>\n",
       "      <td>1998</td>\n",
       "      <td>Company - Private</td>\n",
       "      <td>Advertising &amp; Marketing</td>\n",
       "      <td>Business Services</td>\n",
       "      <td>Unknown / Non-Applicable</td>\n",
       "      <td>Commerce Signals, Cardlytics, Yodlee</td>\n",
       "    </tr>\n",
       "  </tbody>\n",
       "</table>\n",
       "</div>"
      ],
      "text/plain": [
       "   Unnamed: 0                  Job Title              Salary Estimate  \\\n",
       "0           0             Data Scientist   $53K-$91K (Glassdoor est.)   \n",
       "1           1  Healthcare Data Scientist  $63K-$112K (Glassdoor est.)   \n",
       "2           2             Data Scientist   $80K-$90K (Glassdoor est.)   \n",
       "3           3             Data Scientist   $56K-$97K (Glassdoor est.)   \n",
       "4           4             Data Scientist  $86K-$143K (Glassdoor est.)   \n",
       "\n",
       "                                     Job Description  Rating  \\\n",
       "0  Data Scientist\\nLocation: Albuquerque, NM\\nEdu...     3.8   \n",
       "1  What You Will Do:\\n\\nI. General Summary\\n\\nThe...     3.4   \n",
       "2  KnowBe4, Inc. is a high growth information sec...     4.8   \n",
       "3  *Organization and Job ID**\\nJob ID: 310709\\n\\n...     3.8   \n",
       "4  Data Scientist\\nAffinity Solutions / Marketing...     2.9   \n",
       "\n",
       "                                 Company Name         Location  \\\n",
       "0                      Tecolote Research\\n3.8  Albuquerque, NM   \n",
       "1  University of Maryland Medical System\\n3.4    Linthicum, MD   \n",
       "2                                KnowBe4\\n4.8   Clearwater, FL   \n",
       "3                                   PNNL\\n3.8     Richland, WA   \n",
       "4                     Affinity Solutions\\n2.9     New York, NY   \n",
       "\n",
       "     Headquarters                    Size  Founded   Type of ownership  \\\n",
       "0      Goleta, CA   501 to 1000 employees     1973   Company - Private   \n",
       "1   Baltimore, MD        10000+ employees     1984  Other Organization   \n",
       "2  Clearwater, FL   501 to 1000 employees     2010   Company - Private   \n",
       "3    Richland, WA  1001 to 5000 employees     1965          Government   \n",
       "4    New York, NY     51 to 200 employees     1998   Company - Private   \n",
       "\n",
       "                           Industry                        Sector  \\\n",
       "0               Aerospace & Defense           Aerospace & Defense   \n",
       "1  Health Care Services & Hospitals                   Health Care   \n",
       "2                 Security Services             Business Services   \n",
       "3                            Energy  Oil, Gas, Energy & Utilities   \n",
       "4           Advertising & Marketing             Business Services   \n",
       "\n",
       "                            Revenue  \\\n",
       "0         $50 to $100 million (USD)   \n",
       "1            $2 to $5 billion (USD)   \n",
       "2        $100 to $500 million (USD)   \n",
       "3  $500 million to $1 billion (USD)   \n",
       "4          Unknown / Non-Applicable   \n",
       "\n",
       "                                         Competitors  \n",
       "0                                                 -1  \n",
       "1                                                 -1  \n",
       "2                                                 -1  \n",
       "3  Oak Ridge National Laboratory, National Renewa...  \n",
       "4               Commerce Signals, Cardlytics, Yodlee  "
      ]
     },
     "execution_count": 24,
     "metadata": {},
     "output_type": "execute_result"
    }
   ],
   "source": [
    "df.head()"
   ]
  },
  {
   "cell_type": "code",
   "execution_count": 25,
   "metadata": {},
   "outputs": [
    {
     "data": {
      "text/plain": [
       "(956, 15)"
      ]
     },
     "execution_count": 25,
     "metadata": {},
     "output_type": "execute_result"
    }
   ],
   "source": [
    "df.shape"
   ]
  },
  {
   "cell_type": "code",
   "execution_count": 26,
   "metadata": {},
   "outputs": [
    {
     "name": "stdout",
     "output_type": "stream",
     "text": [
      "['$53K-$91K (Glassdoor est.)', '$63K-$112K (Glassdoor est.)', '$80K-$90K (Glassdoor est.)', '$56K-$97K (Glassdoor est.)', '$86K-$143K (Glassdoor est.)', '$71K-$119K (Glassdoor est.)', '$54K-$93K (Glassdoor est.)', '$86K-$142K (Glassdoor est.)', '$38K-$84K (Glassdoor est.)', '$120K-$160K (Glassdoor est.)', '$126K-$201K (Glassdoor est.)', '$64K-$106K (Glassdoor est.)', '$106K-$172K (Glassdoor est.)', '$46K-$85K (Glassdoor est.)', '$83K-$144K (Glassdoor est.)', '$102K-$190K (Glassdoor est.)', '$67K-$137K (Glassdoor est.)', '$118K-$189K (Glassdoor est.)', '$110K-$175K (Glassdoor est.)', '$64K-$111K (Glassdoor est.)', '$81K-$130K (Glassdoor est.)', '$73K-$119K (Glassdoor est.)', '$86K-$139K (Glassdoor est.)', '$63K-$105K (Glassdoor est.)', '-1', '$109K-$177K (Glassdoor est.)', '$63K-$110K (Glassdoor est.)', '$75K-$124K (Glassdoor est.)', '$34K-$61K (Glassdoor est.)', '$63K-$105K (Glassdoor est.)', '$80K-$90K (Glassdoor est.)', '$56K-$97K (Glassdoor est.)', '$72K-$120K (Glassdoor est.)', '$86K-$143K (Glassdoor est.)', '$93K-$149K (Glassdoor est.)', '$85K-$140K (Glassdoor est.)', '$77K-$135K (Glassdoor est.)', '$82K-$132K (Glassdoor est.)', '$83K-$137K (Glassdoor est.)', '$115K-$180K (Glassdoor est.)', '$74K-$138K (Glassdoor est.)', '$64K-$112K (Glassdoor est.)', '-1', '$68K-$129K (Glassdoor est.)', '$110K-$175K (Glassdoor est.)', '$52K-$113K (Glassdoor est.)', '$110K-$150K(Employer est.)', '-1', 'Employer Provided Salary:$150K-$160K', '$158K-$211K (Glassdoor est.)', '$20K-$39K (Glassdoor est.)', '$56K-$117K (Glassdoor est.)', '$63K-$99K (Glassdoor est.)', '-1', '$68K-$114K (Glassdoor est.)', '$86K-$143K (Glassdoor est.)', '$41K-$95K (Glassdoor est.)', '$86K-$144K (Glassdoor est.)', '$80K-$139K (Glassdoor est.)', '$56K-$95K (Glassdoor est.)', '$120K-$189K (Glassdoor est.)', '$111K-$176K (Glassdoor est.)', '$54K-$93K (Glassdoor est.)', '$71K-$119K (Glassdoor est.)', '-1', '$82K-$132K (Glassdoor est.)', '$84K-$146K (Glassdoor est.)', '$107K-$172K (Glassdoor est.)', '$49K-$85K (Glassdoor est.)', '-1', '$61K-$109K (Glassdoor est.)', '-1', '$88K-$148K (Glassdoor est.)', '$60K-$99K (Glassdoor est.)', '-1', '$41K-$72K (Glassdoor est.)', '$96K-$161K (Glassdoor est.)', '$65K-$130K (Glassdoor est.)', '$52K-$81K (Glassdoor est.)', '$139K-$220K (Glassdoor est.)', '$50K-$102K (Glassdoor est.)', '$85K-$139K (Glassdoor est.)', '$74K-$122K (Glassdoor est.)', '$99K-$157K (Glassdoor est.)', '$79K-$222K (Glassdoor est.)', '$57K-$118K (Glassdoor est.)', '$83K-$137K (Glassdoor est.)', '$86K-$141K (Glassdoor est.)', '$94K-$154K (Glassdoor est.)', '$37K-$76K (Glassdoor est.)', '$100K-$160K (Glassdoor est.)', '$55K-$100K (Glassdoor est.)', '$60K-$114K (Glassdoor est.)', '$39K-$68K (Glassdoor est.)', '$106K-$172K (Glassdoor est.)', '$86K-$142K (Glassdoor est.)', '$64K-$107K (Glassdoor est.)', '$31K-$65K (Glassdoor est.)', '-1', '$34K-$62K (Glassdoor est.)', '-1', '$117K-$231K (Glassdoor est.)', '$64K-$106K (Glassdoor est.)', '-1', '$79K-$134K (Glassdoor est.)', '$52K-$93K (Glassdoor est.)', '$55K-$116K (Glassdoor est.)', '$72K-$123K (Glassdoor est.)', '$74K-$124K (Glassdoor est.)', '$40K-$73K (Glassdoor est.)', '$102K-$164K (Glassdoor est.)', '-1', '$89K-$153K (Glassdoor est.)', '$61K-$110K (Glassdoor est.)', '-1', '-1', '$65K-$110K (Glassdoor est.)', '$200K-$275K(Employer est.)', '$68K-$123K (Glassdoor est.)', '$80K-$129K (Glassdoor est.)', '$41K-$72K (Glassdoor est.)', '-1', '$39K-$71K (Glassdoor est.)', '$38K-$85K (Glassdoor est.)', '$121K-$193K (Glassdoor est.)', '$54K-$102K (Glassdoor est.)', '$83K-$144K (Glassdoor est.)', '$120K-$160K (Glassdoor est.)', '$102K-$163K (Glassdoor est.)', '$76K-$140K (Glassdoor est.)', '$60K-$101K (Glassdoor est.)', '$82K-$133K (Glassdoor est.)', '$65K-$125K (Glassdoor est.)', '-1', '-1', '-1', '$91K-$148K (Glassdoor est.)', '$95K-$173K (Glassdoor est.)', '$77K-$124K (Glassdoor est.)', '$80K-$135K (Glassdoor est.)', '$85K-$159K (Glassdoor est.)', '$80K-$105K(Employer est.)', '$43K-$81K (Glassdoor est.)', '$29K-$50K (Glassdoor est.)', '-1', '$82K-$133K (Glassdoor est.)', '$26K-$55K (Glassdoor est.)', '$61K-$118K (Glassdoor est.)', '$60K-$102K (Glassdoor est.)', '-1', '$112K-$182K (Glassdoor est.)', '-1', '$64K-$106K (Glassdoor est.)', '$51K-$112K (Glassdoor est.)', '$113K-$223K (Glassdoor est.)', '-1', '$72K-$129K (Glassdoor est.)', '$71K-$123K (Glassdoor est.)', '$64K-$106K (Glassdoor est.)', '$118K-$189K (Glassdoor est.)', '-1', 'Employer Provided Salary:$120K-$145K', '$80K-$120K (Glassdoor est.)', '-1', '$80K-$130K (Glassdoor est.)', '-1', '$59K-$115K (Glassdoor est.)', '$71K-$136K (Glassdoor est.)', '$81K-$167K (Glassdoor est.)', '$49K-$85K (Glassdoor est.)', '$60K-$114K (Glassdoor est.)', '$71K-$204K (Glassdoor est.)', '$75K-$125K (Glassdoor est.)', '-1', '$77K-$136K (Glassdoor est.)', '$74K-$123K (Glassdoor est.)', '-1', '$44K-$78K (Glassdoor est.)', '$65K-$148K (Glassdoor est.)', '$59K-$110K (Glassdoor est.)', '$85K-$134K (Glassdoor est.)', '$124K-$204K (Glassdoor est.)', '$131K-$207K (Glassdoor est.)', '$110K-$174K (Glassdoor est.)', '-1', '$52K-$101K (Glassdoor est.)', '-1', '$81K-$133K (Glassdoor est.)', '$132K-$211K (Glassdoor est.)', '-1', '$73K-$119K (Glassdoor est.)', '$110K-$175K (Glassdoor est.)', '$74K-$140K (Glassdoor est.)', '$100K-$190K (Glassdoor est.)', '$43K-$80K (Glassdoor est.)', '-1', '-1', '$17-$24 Per Hour(Glassdoor est.)', '$91K-$149K (Glassdoor est.)', '$42K-$82K (Glassdoor est.)', '$116K-$185K (Glassdoor est.)', '$59K-$116K (Glassdoor est.)', '$48K-$95K (Glassdoor est.)', '$31K-$72K (Glassdoor est.)', '$105K-$198K (Glassdoor est.)', '$55K-$100K (Glassdoor est.)', '$98K-$182K (Glassdoor est.)', '$73K-$124K (Glassdoor est.)', 'Employer Provided Salary:$200K-$250K', '$21-$34 Per Hour(Glassdoor est.)', '$117K-$206K (Glassdoor est.)', '$111K-$183K (Glassdoor est.)', '$44K-$78K (Glassdoor est.)', '$81K-$159K (Glassdoor est.)', '-1', '$83K-$166K (Glassdoor est.)', '$114K-$182K (Glassdoor est.)', '$42K-$76K (Glassdoor est.)', '-1', '-1', '-1', '$114K-$179K (Glassdoor est.)', '-1', '$60K-$123K (Glassdoor est.)', '$100K-$166K (Glassdoor est.)', '$108K-$173K (Glassdoor est.)', '$48K-$93K (Glassdoor est.)', '-1', '$54K-$115K (Glassdoor est.)', '$60K-$127K (Glassdoor est.)', '$90K-$179K (Glassdoor est.)', '-1', '-1', '$138K-$224K (Glassdoor est.)', '$54K-$115K (Glassdoor est.)', '$190K-$220K(Employer est.)', '-1', '-1', '-1', '$35K-$62K (Glassdoor est.)', '$18-$25 Per Hour(Glassdoor est.)', '-1', '$39K-$66K (Glassdoor est.)', '$81K-$167K (Glassdoor est.)', '-1', '$42K-$86K (Glassdoor est.)', '$69K-$127K (Glassdoor est.)', '$21-$34 Per Hour(Glassdoor est.)', '$40K-$68K (Glassdoor est.)', '-1', '$49K-$113K (Glassdoor est.)', '$75K-$140K (Glassdoor est.)', '-1', '$86K-$139K (Glassdoor est.)', '$66K-$112K (Glassdoor est.)', '$76K-$125K (Glassdoor est.)', '$44K-$86K (Glassdoor est.)', '$15-$25 Per Hour(Glassdoor est.)', '$53K-$92K (Glassdoor est.)', '$44K-$78K (Glassdoor est.)', '$85K-$134K (Glassdoor est.)', '-1', '$59K-$110K (Glassdoor est.)', '$64K-$111K (Glassdoor est.)', '$65K-$120K (Glassdoor est.)', '$60K-$103K (Glassdoor est.)', '$53K-$105K (Glassdoor est.)', '$124K-$204K (Glassdoor est.)', '$131K-$207K (Glassdoor est.)', '$110K-$174K (Glassdoor est.)', '$33K-$62K (Glassdoor est.)', '-1', '-1', '$52K-$101K (Glassdoor est.)', '$48K-$90K (Glassdoor est.)', '$34K-$64K (Glassdoor est.)', '$132K-$211K (Glassdoor est.)', '$81K-$133K (Glassdoor est.)', '$42K-$76K (Glassdoor est.)', '-1', '-1', '$66K-$111K (Glassdoor est.)', '$74K-$140K (Glassdoor est.)', '-1', '$63K-$110K (Glassdoor est.)', '$63K-$105K (Glassdoor est.)', '-1', '-1', '$91K-$138K (Glassdoor est.)', '$100K-$190K (Glassdoor est.)', '$62K-$114K (Glassdoor est.)', '$71K-$129K (Glassdoor est.)', '$43K-$80K (Glassdoor est.)', '$74K-$119K (Glassdoor est.)', '-1', '$55K-$97K (Glassdoor est.)', '$15K-$16K(Employer est.)', '-1', '-1', '$61K-$106K (Glassdoor est.)', '$91K-$149K (Glassdoor est.)', '-1', '$127K-$199K (Glassdoor est.)', '-1', '-1', '$74K-$126K (Glassdoor est.)', '$33K-$72K (Glassdoor est.)', '$17-$24 Per Hour(Glassdoor est.)', '$37K-$63K (Glassdoor est.)', '$67K-$119K (Glassdoor est.)', '$72K-$117K (Glassdoor est.)', '$116K-$185K (Glassdoor est.)', '$78K-$126K (Glassdoor est.)', '$42K-$82K (Glassdoor est.)', '$59K-$116K (Glassdoor est.)', '-1', '$63K-$105K (Glassdoor est.)', '$109K-$177K (Glassdoor est.)', '$116K-$194K (Glassdoor est.)', '$48K-$95K (Glassdoor est.)', '$83K-$133K (Glassdoor est.)', '-1', '$105K-$198K (Glassdoor est.)', '$31K-$72K (Glassdoor est.)', '$98K-$182K (Glassdoor est.)', '$55K-$100K (Glassdoor est.)', '$45K-$82K (Glassdoor est.)', '-1', '$83K-$135K (Glassdoor est.)', '-1', '$70K-$122K (Glassdoor est.)', 'Employer Provided Salary:$200K-$250K', '$70K-$132K (Glassdoor est.)', '$73K-$124K (Glassdoor est.)', '$54K-$101K (Glassdoor est.)', '$117K-$206K (Glassdoor est.)', '-1', '$21-$34 Per Hour(Glassdoor est.)', '-1', '$111K-$183K (Glassdoor est.)', '-1', '$68K-$112K (Glassdoor est.)', '$42K-$74K (Glassdoor est.)', '-1', '$44K-$78K (Glassdoor est.)', '-1', '$81K-$159K (Glassdoor est.)', '$95K-$161K (Glassdoor est.)', '$75K-$124K (Glassdoor est.)', '$72K-$120K (Glassdoor est.)', '$76K-$126K (Glassdoor est.)', '$114K-$182K (Glassdoor est.)', '$108K-$176K (Glassdoor est.)', '$130K-$208K (Glassdoor est.)', '$83K-$166K (Glassdoor est.)', '$42K-$76K (Glassdoor est.)', '$37K-$68K (Glassdoor est.)', '$52K-$99K (Glassdoor est.)', '$105K-$173K (Glassdoor est.)', '-1', '-1', '-1', '$71K-$134K (Glassdoor est.)', '-1', '$39K-$82K (Glassdoor est.)', '-1', '$114K-$179K (Glassdoor est.)', '$88K-$162K (Glassdoor est.)', '$60K-$102K (Glassdoor est.)', '$100K-$166K (Glassdoor est.)', '$55K-$99K (Glassdoor est.)', '$67K-$117K (Glassdoor est.)', '$92K-$150K (Glassdoor est.)', '-1', '-1', '$116K-$209K (Glassdoor est.)', '$38K-$82K (Glassdoor est.)', 'Employer Provided Salary:$85K-$90K', '-1', '$62K-$119K (Glassdoor est.)', '$86K-$143K (Glassdoor est.)', '$93K-$149K (Glassdoor est.)', '$84K-$136K (Glassdoor est.)', '$60K-$123K (Glassdoor est.)', '$52K-$89K (Glassdoor est.)', '-1', '$48K-$93K (Glassdoor est.)', '$56K-$97K (Glassdoor est.)', '$65K-$119K (Glassdoor est.)', '-1', '$108K-$173K (Glassdoor est.)', '$63K-$101K (Glassdoor est.)', '$54K-$115K (Glassdoor est.)', '-1', '$90K-$179K (Glassdoor est.)', '-1', '$127K-$202K (Glassdoor est.)', '$31K-$57K (Glassdoor est.)', '$60K-$127K (Glassdoor est.)', '$75K-$143K (Glassdoor est.)', '$105K-$194K (Glassdoor est.)', '$45K-$86K (Glassdoor est.)', '-1', '$95K-$154K (Glassdoor est.)', '-1', '-1', '$80K-$148K (Glassdoor est.)', '$36K-$62K (Glassdoor est.)', '-1', '$54K-$115K (Glassdoor est.)', '$50K-$92K (Glassdoor est.)', '$67K-$135K (Glassdoor est.)', '$82K-$132K (Glassdoor est.)', '$85K-$140K (Glassdoor est.)', '$138K-$224K (Glassdoor est.)', '$42K-$80K (Glassdoor est.)', '$190K-$220K(Employer est.)', '$68K-$139K (Glassdoor est.)', '-1', '$34K-$92K (Glassdoor est.)', '$54K-$71K (Glassdoor est.)', '$65K-$124K (Glassdoor est.)', '-1', '-1', '-1', '$35K-$62K (Glassdoor est.)', '$109K-$200K (Glassdoor est.)', '$18-$25 Per Hour(Glassdoor est.)', '$61K-$113K (Glassdoor est.)', '$39K-$66K (Glassdoor est.)', '$43K-$86K (Glassdoor est.)', '$74K-$149K (Glassdoor est.)', '-1', '$113K-$196K (Glassdoor est.)', '$81K-$167K (Glassdoor est.)', '$97K-$160K (Glassdoor est.)', '-1', '$24-$39 Per Hour(Glassdoor est.)', '-1', '-1', '-1', '-1', '$42K-$86K (Glassdoor est.)', '$69K-$127K (Glassdoor est.)', '$110K-$175K (Glassdoor est.)', '-1', '$102K-$172K (Glassdoor est.)', '$74K-$124K (Glassdoor est.)', '$40K-$68K (Glassdoor est.)', '$108K-$171K (Glassdoor est.)', '$76K-$142K (Glassdoor est.)', '-1', '$202K-$306K (Glassdoor est.)', '-1', '$49K-$97K (Glassdoor est.)', '$49K-$113K (Glassdoor est.)', '$21-$34 Per Hour(Glassdoor est.)', '-1', '$65K-$134K (Glassdoor est.)', '$32K-$59K (Glassdoor est.)', '-1', '$87K-$158K (Glassdoor est.)', '$107K-$173K (Glassdoor est.)', '$56K-$99K (Glassdoor est.)', 'Employer Provided Salary:$25-$28 Per Hour', '-1', '$80K-$155K (Glassdoor est.)', '$43K-$98K (Glassdoor est.)', '$45K-$78K (Glassdoor est.)', '$44K-$96K (Glassdoor est.)', '$50K-$110K (Glassdoor est.)', '$61K-$119K (Glassdoor est.)', 'Employer Provided Salary:$100K-$140K', '$56K-$91K (Glassdoor est.)', '-1', '-1', '$68K-$114K (Glassdoor est.)', 'Employer Provided Salary:$150K-$160K', '-1', '$101K-$158K (Glassdoor est.)', '-1', '-1', '$125K-$210K (Glassdoor est.)', '$43K-$77K (Glassdoor est.)', '-1', '$139K-$221K (Glassdoor est.)', '$44K-$86K (Glassdoor est.)', '$78K-$147K (Glassdoor est.)', '$65K-$110K (Glassdoor est.)', '$37K-$66K (Glassdoor est.)', '$38K-$64K (Glassdoor est.)', '$43K-$82K (Glassdoor est.)', '$90K-$110K(Employer est.)', '$61K-$109K (Glassdoor est.)', '$93K-$151K (Glassdoor est.)', '$52K-$81K (Glassdoor est.)', '$40K-$101K (Glassdoor est.)', '$97K-$180K (Glassdoor est.)', '$81K-$134K (Glassdoor est.)', '$84K-$157K (Glassdoor est.)', '$49K-$113K (Glassdoor est.)', '$68K-$139K (Glassdoor est.)', '$75K-$140K (Glassdoor est.)', '-1', '-1', '$121K-$203K (Glassdoor est.)', '$52K-$85K (Glassdoor est.)', '$81K-$140K (Glassdoor est.)', '$63K-$99K (Glassdoor est.)', '$110K-$150K(Employer est.)', '$83K-$148K (Glassdoor est.)', '-1', '$60K-$101K (Glassdoor est.)', '-1', '-1', '-1', '$31K-$55K (Glassdoor est.)', '$102K-$178K (Glassdoor est.)', 'Employer Provided Salary:$110K-$130K', '$48K-$85K (Glassdoor est.)', '$66K-$123K (Glassdoor est.)', '$92K-$146K (Glassdoor est.)', '$21-$29 Per Hour(Glassdoor est.)', '$10-$17 Per Hour(Glassdoor est.)', '$150K-$239K (Glassdoor est.)', '$52K-$91K (Glassdoor est.)', '$82K-$129K(Employer est.)', '-1', '$47K-$101K (Glassdoor est.)', '-1', '$49K-$76K (Glassdoor est.)', '-1', '$43K-$88K (Glassdoor est.)', '$124K-$199K (Glassdoor est.)', '$52K-$93K (Glassdoor est.)', '$97K-$181K (Glassdoor est.)', '-1', '$100K-$173K (Glassdoor est.)', '$53K-$96K (Glassdoor est.)', '$65K-$96K (Glassdoor est.)', '$56K-$95K (Glassdoor est.)', '$111K-$176K (Glassdoor est.)', '$75K-$127K (Glassdoor est.)', '$65K-$119K (Glassdoor est.)', '$56K-$97K (Glassdoor est.)', '$108K-$173K (Glassdoor est.)', '$94K-$139K (Glassdoor est.)', '-1', '$176K-$289K (Glassdoor est.)', '$92K-$149K (Glassdoor est.)', '$63K-$101K (Glassdoor est.)', '-1', '$54K-$115K (Glassdoor est.)', '-1', '$118K-$188K (Glassdoor est.)', '$108K-$146K (Glassdoor est.)', '$65K-$106K (Glassdoor est.)', '$55K-$98K (Glassdoor est.)', '$94K-$162K (Glassdoor est.)', '-1', '$63K-$120K (Glassdoor est.)', '$90K-$179K (Glassdoor est.)', '$127K-$202K (Glassdoor est.)', '$60K-$127K (Glassdoor est.)', '-1', '$31K-$57K (Glassdoor est.)', '$105K-$194K (Glassdoor est.)', '$45K-$86K (Glassdoor est.)', '$75K-$143K (Glassdoor est.)', '-1', '$126K-$228K (Glassdoor est.)', '-1', '$80K-$134K (Glassdoor est.)', '$120K-$189K (Glassdoor est.)', '-1', '$85K-$142K (Glassdoor est.)', '$95K-$154K (Glassdoor est.)', '$111K-$176K (Glassdoor est.)', '$87K-$140K (Glassdoor est.)', '$76K-$127K (Glassdoor est.)', '$54K-$92K (Glassdoor est.)', '-1', '$61K-$100K (Glassdoor est.)', '$81K-$140K (Glassdoor est.)', '-1', '$80K-$148K (Glassdoor est.)', '$108K-$171K (Glassdoor est.)', '$112K-$179K (Glassdoor est.)', '$63K-$111K (Glassdoor est.)', '$75K-$126K (Glassdoor est.)', '$110K-$184K (Glassdoor est.)', '$76K-$145K (Glassdoor est.)', '-1', '-1', '$36K-$62K (Glassdoor est.)', '$70K-$118K (Glassdoor est.)', '-1', '$94K-$153K (Glassdoor est.)', '-1', '$54K-$115K (Glassdoor est.)', '$50K-$92K (Glassdoor est.)', '$49K-$97K (Glassdoor est.)', '$67K-$135K (Glassdoor est.)', '$138K-$224K (Glassdoor est.)', '$80K-$139K (Glassdoor est.)', '$158K-$211K (Glassdoor est.)', '$150K-$180K (Glassdoor est.)', '$42K-$80K (Glassdoor est.)', '$190K-$220K(Employer est.)', '$42K-$77K (Glassdoor est.)', '$68K-$139K (Glassdoor est.)', '-1', '-1', '$54K-$71K (Glassdoor est.)', '$34K-$92K (Glassdoor est.)', '-1', '$47K-$85K (Glassdoor est.)', '$65K-$124K (Glassdoor est.)', '-1', '$56K-$95K (Glassdoor est.)', '-1', '-1', '$62K-$112K (Glassdoor est.)', '$107K-$173K (Glassdoor est.)', '$64K-$108K (Glassdoor est.)', '$89K-$144K (Glassdoor est.)', '-1', '$109K-$200K (Glassdoor est.)', '-1', '$61K-$113K (Glassdoor est.)', '$35K-$62K (Glassdoor est.)', '$55K-$105K (Glassdoor est.)', '$18-$25 Per Hour(Glassdoor est.)', '$39K-$66K (Glassdoor est.)', '$135K-$211K (Glassdoor est.)', '$57K-$80K (Glassdoor est.)', '$129K-$215K (Glassdoor est.)', '$86K-$143K (Glassdoor est.)', '$63K-$127K (Glassdoor est.)', '$50K-$89K (Glassdoor est.)', '$43K-$86K (Glassdoor est.)', '-1', '$74K-$149K (Glassdoor est.)', '$71K-$124K (Glassdoor est.)', '$113K-$196K (Glassdoor est.)', '$81K-$167K (Glassdoor est.)', '$69K-$121K (Glassdoor est.)', '$97K-$160K (Glassdoor est.)', '$150K-$238K (Glassdoor est.)', '-1', '-1', '$77K-$132K (Glassdoor est.)', '$24-$39 Per Hour(Glassdoor est.)', '$59K-$112K (Glassdoor est.)', '$35K-$65K (Glassdoor est.)', '$79K-$147K (Glassdoor est.)', '-1', '-1', '$62K-$119K (Glassdoor est.)', '-1', '$119K-$187K (Glassdoor est.)', '$90K-$157K (Glassdoor est.)', '$32K-$62K (Glassdoor est.)', '$42K-$86K (Glassdoor est.)', '$116K-$208K (Glassdoor est.)', '$102K-$172K (Glassdoor est.)', '$69K-$127K (Glassdoor est.)', '-1', '$86K-$144K (Glassdoor est.)', '$102K-$165K (Glassdoor est.)', '$74K-$124K (Glassdoor est.)', '$40K-$68K (Glassdoor est.)', '$76K-$142K (Glassdoor est.)', '$76K-$142K (Glassdoor est.)', '$108K-$171K (Glassdoor est.)', '$202K-$306K (Glassdoor est.)', '$91K-$159K (Glassdoor est.)', '-1', '$80K-$133K (Glassdoor est.)', '$49K-$97K (Glassdoor est.)', '-1', '$49K-$113K (Glassdoor est.)', '$21-$34 Per Hour(Glassdoor est.)', '$65K-$134K (Glassdoor est.)', '-1', '$32K-$59K (Glassdoor est.)', '-1', '$39K-$69K (Glassdoor est.)', '$87K-$158K (Glassdoor est.)', '$27K-$48K (Glassdoor est.)', '$36K-$71K (Glassdoor est.)', '$107K-$173K (Glassdoor est.)', '$56K-$99K (Glassdoor est.)', '-1', 'Employer Provided Salary:$25-$28 Per Hour', '$80K-$155K (Glassdoor est.)', '$43K-$98K (Glassdoor est.)', '$44K-$96K (Glassdoor est.)', '$45K-$78K (Glassdoor est.)', '$50K-$110K (Glassdoor est.)', '$60K-$99K (Glassdoor est.)', '$130K-$206K (Glassdoor est.)', '$61K-$119K (Glassdoor est.)', 'Employer Provided Salary:$100K-$140K', '$99K-$178K (Glassdoor est.)', '$86K-$137K (Glassdoor est.)', '$37K-$100K (Glassdoor est.)', '$58K-$111K (Glassdoor est.)', '$72K-$133K (Glassdoor est.)', '$56K-$91K (Glassdoor est.)', '-1', '$61K-$126K (Glassdoor est.)', '$95K-$160K (Glassdoor est.)', '-1', '$53K-$91K (Glassdoor est.)', '$101K-$158K (Glassdoor est.)', '-1', '-1', '$33K-$61K (Glassdoor est.)', '$44K-$86K (Glassdoor est.)', '-1', '$43K-$77K (Glassdoor est.)', '$125K-$210K (Glassdoor est.)', '$44K-$86K (Glassdoor est.)', '-1', '$69K-$119K (Glassdoor est.)', '$65K-$110K (Glassdoor est.)', '$67K-$127K (Glassdoor est.)', '$78K-$147K (Glassdoor est.)', '-1', '$66K-$117K (Glassdoor est.)', '$37K-$66K (Glassdoor est.)', '$86K-$143K (Glassdoor est.)', '$84K-$146K (Glassdoor est.)', '$50K-$98K (Glassdoor est.)', '$38K-$64K (Glassdoor est.)', '$90K-$110K(Employer est.)', '$92K-$150K (Glassdoor est.)', '$90K-$153K (Glassdoor est.)', '-1', '$43K-$82K (Glassdoor est.)', 'Employer Provided Salary:$100K-$135K', '$93K-$151K (Glassdoor est.)', '$61K-$109K (Glassdoor est.)', '$42K-$79K (Glassdoor est.)', '$139K-$221K (Glassdoor est.)', '$40K-$101K (Glassdoor est.)', '$84K-$153K (Glassdoor est.)', '$52K-$81K (Glassdoor est.)', '$81K-$134K (Glassdoor est.)', '$97K-$180K (Glassdoor est.)', '$49K-$113K (Glassdoor est.)', '$44K-$73K (Glassdoor est.)', '$75K-$140K (Glassdoor est.)', '$84K-$157K (Glassdoor est.)', '$40K-$87K (Glassdoor est.)', '$68K-$139K (Glassdoor est.)', '$72K-$142K (Glassdoor est.)', '$74K-$137K (Glassdoor est.)', '$57K-$109K (Glassdoor est.)', '-1', '$121K-$203K (Glassdoor est.)', '-1', '$52K-$85K (Glassdoor est.)', '-1', '-1', '$81K-$140K (Glassdoor est.)', '$83K-$148K (Glassdoor est.)', '$59K-$116K (Glassdoor est.)', '$60K-$101K (Glassdoor est.)', '-1', '-1', '-1', '$31K-$55K (Glassdoor est.)', '-1', '-1', '$102K-$178K (Glassdoor est.)', '$136K-$208K (Glassdoor est.)', 'Employer Provided Salary:$110K-$130K', '$48K-$85K (Glassdoor est.)', '$71K-$129K (Glassdoor est.)', '$66K-$123K (Glassdoor est.)', '$171K-$272K (Glassdoor est.)', '$92K-$146K (Glassdoor est.)', '$65K-$126K (Glassdoor est.)', '$150K-$239K (Glassdoor est.)', '$21-$29 Per Hour(Glassdoor est.)', '$10-$17 Per Hour(Glassdoor est.)', '$118K-$228K (Glassdoor est.)', '$82K-$129K(Employer est.)', '$52K-$91K (Glassdoor est.)', '$47K-$101K (Glassdoor est.)', '-1', '-1', '$49K-$76K (Glassdoor est.)', '$43K-$88K (Glassdoor est.)', '-1', '$61K-$109K (Glassdoor est.)', '-1', '$113K-$182K (Glassdoor est.)', '-1', '-1', '$124K-$199K (Glassdoor est.)', '$58K-$104K (Glassdoor est.)', '$52K-$93K (Glassdoor est.)', '-1', '$97K-$181K (Glassdoor est.)', '$100K-$173K (Glassdoor est.)', '$58K-$108K (Glassdoor est.)', '$81K-$161K (Glassdoor est.)', '$53K-$96K (Glassdoor est.)', '$61K-$110K (Glassdoor est.)', '$65K-$96K (Glassdoor est.)', '-1', '-1', '$115K-$220K (Glassdoor est.)', '$71K-$144K (Glassdoor est.)', '$32K-$57K (Glassdoor est.)', '$79K-$136K (Glassdoor est.)', 'Employer Provided Salary:$120K-$145K', '$50K-$89K (Glassdoor est.)', '$68K-$129K (Glassdoor est.)', '$48K-$113K (Glassdoor est.)', '$27-$47 Per Hour(Glassdoor est.)', '$74K-$124K (Glassdoor est.)', '$68K-$125K (Glassdoor est.)', '$39K-$67K (Glassdoor est.)', '$71K-$135K (Glassdoor est.)', '$107K-$172K (Glassdoor est.)', '$49K-$85K (Glassdoor est.)', '$54K-$71K (Glassdoor est.)', '$61K-$123K (Glassdoor est.)', '$47K-$85K (Glassdoor est.)', '-1', '-1', '-1', '$65K-$124K (Glassdoor est.)', '$87K-$141K (Glassdoor est.)', '$56K-$95K (Glassdoor est.)', '$71K-$121K (Glassdoor est.)', '$62K-$112K (Glassdoor est.)', '$64K-$108K (Glassdoor est.)', '-1', '-1', '-1', '$89K-$144K (Glassdoor est.)', '-1', '-1', '$109K-$200K (Glassdoor est.)', '-1', '-1', '$35K-$62K (Glassdoor est.)', '$61K-$113K (Glassdoor est.)', '$55K-$105K (Glassdoor est.)', '$18-$25 Per Hour(Glassdoor est.)', '$135K-$211K (Glassdoor est.)', '$39K-$66K (Glassdoor est.)', '$57K-$80K (Glassdoor est.)', '$63K-$127K (Glassdoor est.)', '$50K-$89K (Glassdoor est.)', '$82K-$132K (Glassdoor est.)', '$85K-$139K (Glassdoor est.)', '-1', '$72K-$121K (Glassdoor est.)', '$74K-$149K (Glassdoor est.)', '-1', '$113K-$196K (Glassdoor est.)', '$69K-$121K (Glassdoor est.)', '$71K-$124K (Glassdoor est.)', '$97K-$160K (Glassdoor est.)', '$81K-$167K (Glassdoor est.)', '$150K-$238K (Glassdoor est.)', '-1', '-1', '-1', '$24-$39 Per Hour(Glassdoor est.)', '-1', '$35K-$65K (Glassdoor est.)', '$77K-$132K (Glassdoor est.)', '$51K-$88K (Glassdoor est.)', '$101K-$141K (Glassdoor est.)', '$59K-$112K (Glassdoor est.)', '-1', '$79K-$147K (Glassdoor est.)', '$79K-$127K (Glassdoor est.)', '-1', '$62K-$119K (Glassdoor est.)', '$119K-$187K (Glassdoor est.)', '-1', '-1', '-1', '-1', '$81K-$132K (Glassdoor est.)', 'Employer Provided Salary:$120K-$140K', '-1', '$90K-$157K (Glassdoor est.)', '$63K-$110K (Glassdoor est.)', '$42K-$86K (Glassdoor est.)', '$32K-$62K (Glassdoor est.)', '$116K-$208K (Glassdoor est.)', '$107K-$173K (Glassdoor est.)', '$65K-$113K (Glassdoor est.)', '$69K-$127K (Glassdoor est.)', '-1', '$102K-$172K (Glassdoor est.)', '-1', '-1', '$74K-$124K (Glassdoor est.)', '-1', '$40K-$68K (Glassdoor est.)', '$76K-$142K (Glassdoor est.)', '$76K-$142K (Glassdoor est.)', '$108K-$171K (Glassdoor est.)', '$202K-$306K (Glassdoor est.)', '$91K-$159K (Glassdoor est.)', '-1', '$80K-$133K (Glassdoor est.)', '-1', '-1', '$21-$34 Per Hour(Glassdoor est.)', '$49K-$97K (Glassdoor est.)', '$49K-$113K (Glassdoor est.)', '-1', '-1', '$96K-$161K (Glassdoor est.)', '-1', '$65K-$134K (Glassdoor est.)', '-1', '$59K-$125K (Glassdoor est.)', '$32K-$59K (Glassdoor est.)', '$87K-$158K (Glassdoor est.)', '$27K-$48K (Glassdoor est.)', '$39K-$69K (Glassdoor est.)', '$36K-$71K (Glassdoor est.)', '$107K-$173K (Glassdoor est.)', '$56K-$99K (Glassdoor est.)', 'Employer Provided Salary:$25-$28 Per Hour', '-1', '$80K-$155K (Glassdoor est.)', '$43K-$98K (Glassdoor est.)', '$45K-$78K (Glassdoor est.)', '$50K-$110K (Glassdoor est.)', '$44K-$96K (Glassdoor est.)', 'Employer Provided Salary:$100K-$140K', '$61K-$119K (Glassdoor est.)', '$80K-$142K (Glassdoor est.)', '$99K-$178K (Glassdoor est.)', '$37K-$100K (Glassdoor est.)', '$62K-$113K (Glassdoor est.)', '$86K-$137K (Glassdoor est.)', '$58K-$111K (Glassdoor est.)', '$72K-$133K (Glassdoor est.)', '$56K-$91K (Glassdoor est.)', '$95K-$160K (Glassdoor est.)', '-1', '$61K-$126K (Glassdoor est.)']\n"
     ]
    }
   ],
   "source": [
    "print(df['Salary Estimate'].tolist())"
   ]
  },
  {
   "cell_type": "code",
   "execution_count": 27,
   "metadata": {},
   "outputs": [],
   "source": [
    "df['hourly'] = df['Salary Estimate'].apply(lambda x: 1 if 'per hour' in x.lower() else 0)\n",
    "df['employer_provided'] = df['Salary Estimate'].apply(lambda x: 1 if 'employer provided salary:' in x.lower() else 0)"
   ]
  },
  {
   "cell_type": "code",
   "execution_count": 28,
   "metadata": {},
   "outputs": [],
   "source": [
    "df = df[df['Salary Estimate'] != '-1']"
   ]
  },
  {
   "cell_type": "code",
   "execution_count": 29,
   "metadata": {},
   "outputs": [
    {
     "data": {
      "text/plain": [
       "(742, 17)"
      ]
     },
     "execution_count": 29,
     "metadata": {},
     "output_type": "execute_result"
    }
   ],
   "source": [
    "df.shape"
   ]
  },
  {
   "cell_type": "code",
   "execution_count": 30,
   "metadata": {},
   "outputs": [],
   "source": [
    "salary = df['Salary Estimate'].apply(lambda x: x.split('(')[0])\n",
    "#removing k and $[d(dollars)]\n",
    "minus_Kd = salary.apply(lambda x: x.replace('K','000').replace('$',''))"
   ]
  },
  {
   "cell_type": "code",
   "execution_count": 32,
   "metadata": {},
   "outputs": [],
   "source": [
    "min_hr = minus_Kd.apply(lambda x: x.lower().replace('per hour','').replace('employer provided salary:',''))"
   ]
  },
  {
   "cell_type": "code",
   "execution_count": null,
   "metadata": {},
   "outputs": [],
   "source": [
    "for i in range(len(df)):\n",
    "    if(df['hourly']==1):\n",
    "        "
   ]
  },
  {
   "cell_type": "code",
   "execution_count": 33,
   "metadata": {},
   "outputs": [],
   "source": [
    "df['min_salary'] = min_hr.apply(lambda x: int(x.split('-')[0]))\n",
    "df['max_salary'] = min_hr.apply(lambda x: int(x.split('-')[1]))\n"
   ]
  },
  {
   "cell_type": "code",
   "execution_count": 34,
   "metadata": {},
   "outputs": [
    {
     "name": "stdout",
     "output_type": "stream",
     "text": [
      "[53000, 63000, 80000, 56000, 86000, 71000, 54000, 86000, 38000, 120000, 126000, 64000, 106000, 46000, 83000, 102000, 67000, 118000, 110000, 64000, 81000, 73000, 86000, 63000, 109000, 63000, 75000, 34000, 63000, 80000, 56000, 72000, 86000, 93000, 85000, 77000, 82000, 83000, 115000, 74000, 64000, 68000, 110000, 52000, 110000, 150000, 158000, 20000, 56000, 63000, 68000, 86000, 41000, 86000, 80000, 56000, 120000, 111000, 54000, 71000, 82000, 84000, 107000, 49000, 61000, 88000, 60000, 41000, 96000, 65000, 52000, 139000, 50000, 85000, 74000, 99000, 79000, 57000, 83000, 86000, 94000, 37000, 100000, 55000, 60000, 39000, 106000, 86000, 64000, 31000, 34000, 117000, 64000, 79000, 52000, 55000, 72000, 74000, 40000, 102000, 89000, 61000, 65000, 200000, 68000, 80000, 41000, 39000, 38000, 121000, 54000, 83000, 120000, 102000, 76000, 60000, 82000, 65000, 91000, 95000, 77000, 80000, 85000, 80000, 43000, 29000, 82000, 26000, 61000, 60000, 112000, 64000, 51000, 113000, 72000, 71000, 64000, 118000, 120000, 80000, 80000, 59000, 71000, 81000, 49000, 60000, 71000, 75000, 77000, 74000, 44000, 65000, 59000, 85000, 124000, 131000, 110000, 52000, 81000, 132000, 73000, 110000, 74000, 100000, 43000, 17, 91000, 42000, 116000, 59000, 48000, 31000, 105000, 55000, 98000, 73000, 200000, 21, 117000, 111000, 44000, 81000, 83000, 114000, 42000, 114000, 60000, 100000, 108000, 48000, 54000, 60000, 90000, 138000, 54000, 190000, 35000, 18, 39000, 81000, 42000, 69000, 21, 40000, 49000, 75000, 86000, 66000, 76000, 44000, 15, 53000, 44000, 85000, 59000, 64000, 65000, 60000, 53000, 124000, 131000, 110000, 33000, 52000, 48000, 34000, 132000, 81000, 42000, 66000, 74000, 63000, 63000, 91000, 100000, 62000, 71000, 43000, 74000, 55000, 15000, 61000, 91000, 127000, 74000, 33000, 17, 37000, 67000, 72000, 116000, 78000, 42000, 59000, 63000, 109000, 116000, 48000, 83000, 105000, 31000, 98000, 55000, 45000, 83000, 70000, 200000, 70000, 73000, 54000, 117000, 21, 111000, 68000, 42000, 44000, 81000, 95000, 75000, 72000, 76000, 114000, 108000, 130000, 83000, 42000, 37000, 52000, 105000, 71000, 39000, 114000, 88000, 60000, 100000, 55000, 67000, 92000, 116000, 38000, 85000, 62000, 86000, 93000, 84000, 60000, 52000, 48000, 56000, 65000, 108000, 63000, 54000, 90000, 127000, 31000, 60000, 75000, 105000, 45000, 95000, 80000, 36000, 54000, 50000, 67000, 82000, 85000, 138000, 42000, 190000, 68000, 34000, 54000, 65000, 35000, 109000, 18, 61000, 39000, 43000, 74000, 113000, 81000, 97000, 24, 42000, 69000, 110000, 102000, 74000, 40000, 108000, 76000, 202000, 49000, 49000, 21, 65000, 32000, 87000, 107000, 56000, 25, 80000, 43000, 45000, 44000, 50000, 61000, 100000, 56000, 68000, 150000, 101000, 125000, 43000, 139000, 44000, 78000, 65000, 37000, 38000, 43000, 90000, 61000, 93000, 52000, 40000, 97000, 81000, 84000, 49000, 68000, 75000, 121000, 52000, 81000, 63000, 110000, 83000, 60000, 31000, 102000, 110000, 48000, 66000, 92000, 21, 10, 150000, 52000, 82000, 47000, 49000, 43000, 124000, 52000, 97000, 100000, 53000, 65000, 56000, 111000, 75000, 65000, 56000, 108000, 94000, 176000, 92000, 63000, 54000, 118000, 108000, 65000, 55000, 94000, 63000, 90000, 127000, 60000, 31000, 105000, 45000, 75000, 126000, 80000, 120000, 85000, 95000, 111000, 87000, 76000, 54000, 61000, 81000, 80000, 108000, 112000, 63000, 75000, 110000, 76000, 36000, 70000, 94000, 54000, 50000, 49000, 67000, 138000, 80000, 158000, 150000, 42000, 190000, 42000, 68000, 54000, 34000, 47000, 65000, 56000, 62000, 107000, 64000, 89000, 109000, 61000, 35000, 55000, 18, 39000, 135000, 57000, 129000, 86000, 63000, 50000, 43000, 74000, 71000, 113000, 81000, 69000, 97000, 150000, 77000, 24, 59000, 35000, 79000, 62000, 119000, 90000, 32000, 42000, 116000, 102000, 69000, 86000, 102000, 74000, 40000, 76000, 76000, 108000, 202000, 91000, 80000, 49000, 49000, 21, 65000, 32000, 39000, 87000, 27000, 36000, 107000, 56000, 25, 80000, 43000, 44000, 45000, 50000, 60000, 130000, 61000, 100000, 99000, 86000, 37000, 58000, 72000, 56000, 61000, 95000, 53000, 101000, 33000, 44000, 43000, 125000, 44000, 69000, 65000, 67000, 78000, 66000, 37000, 86000, 84000, 50000, 38000, 90000, 92000, 90000, 43000, 100000, 93000, 61000, 42000, 139000, 40000, 84000, 52000, 81000, 97000, 49000, 44000, 75000, 84000, 40000, 68000, 72000, 74000, 57000, 121000, 52000, 81000, 83000, 59000, 60000, 31000, 102000, 136000, 110000, 48000, 71000, 66000, 171000, 92000, 65000, 150000, 21, 10, 118000, 82000, 52000, 47000, 49000, 43000, 61000, 113000, 124000, 58000, 52000, 97000, 100000, 58000, 81000, 53000, 61000, 65000, 115000, 71000, 32000, 79000, 120000, 50000, 68000, 48000, 27, 74000, 68000, 39000, 71000, 107000, 49000, 54000, 61000, 47000, 65000, 87000, 56000, 71000, 62000, 64000, 89000, 109000, 35000, 61000, 55000, 18, 135000, 39000, 57000, 63000, 50000, 82000, 85000, 72000, 74000, 113000, 69000, 71000, 97000, 81000, 150000, 24, 35000, 77000, 51000, 101000, 59000, 79000, 79000, 62000, 119000, 81000, 120000, 90000, 63000, 42000, 32000, 116000, 107000, 65000, 69000, 102000, 74000, 40000, 76000, 76000, 108000, 202000, 91000, 80000, 21, 49000, 49000, 96000, 65000, 59000, 32000, 87000, 27000, 39000, 36000, 107000, 56000, 25, 80000, 43000, 45000, 50000, 44000, 100000, 61000, 80000, 99000, 37000, 62000, 86000, 58000, 72000, 56000, 95000, 61000]\n"
     ]
    }
   ],
   "source": [
    "print(df['min_salary'].tolist())"
   ]
  },
  {
   "cell_type": "code",
   "execution_count": 40,
   "metadata": {},
   "outputs": [],
   "source": [
    "df['min_salary']=df.apply(lambda x: x['min_salary']*2080 if x['hourly']==1 else x['min_salary'],axis=1)\n",
    "df['max_salary']=df.apply(lambda x: x['max_salary']*2080 if x['hourly']==1 else x['max_salary'],axis=1)"
   ]
  },
  {
   "cell_type": "code",
   "execution_count": 41,
   "metadata": {},
   "outputs": [
    {
     "name": "stdout",
     "output_type": "stream",
     "text": [
      "[53000, 63000, 80000, 56000, 86000, 71000, 54000, 86000, 38000, 120000, 126000, 64000, 106000, 46000, 83000, 102000, 67000, 118000, 110000, 64000, 81000, 73000, 86000, 63000, 109000, 63000, 75000, 34000, 63000, 80000, 56000, 72000, 86000, 93000, 85000, 77000, 82000, 83000, 115000, 74000, 64000, 68000, 110000, 52000, 110000, 150000, 158000, 20000, 56000, 63000, 68000, 86000, 41000, 86000, 80000, 56000, 120000, 111000, 54000, 71000, 82000, 84000, 107000, 49000, 61000, 88000, 60000, 41000, 96000, 65000, 52000, 139000, 50000, 85000, 74000, 99000, 79000, 57000, 83000, 86000, 94000, 37000, 100000, 55000, 60000, 39000, 106000, 86000, 64000, 31000, 34000, 117000, 64000, 79000, 52000, 55000, 72000, 74000, 40000, 102000, 89000, 61000, 65000, 200000, 68000, 80000, 41000, 39000, 38000, 121000, 54000, 83000, 120000, 102000, 76000, 60000, 82000, 65000, 91000, 95000, 77000, 80000, 85000, 80000, 43000, 29000, 82000, 26000, 61000, 60000, 112000, 64000, 51000, 113000, 72000, 71000, 64000, 118000, 120000, 80000, 80000, 59000, 71000, 81000, 49000, 60000, 71000, 75000, 77000, 74000, 44000, 65000, 59000, 85000, 124000, 131000, 110000, 52000, 81000, 132000, 73000, 110000, 74000, 100000, 43000, 73548800, 91000, 42000, 116000, 59000, 48000, 31000, 105000, 55000, 98000, 73000, 200000, 90854400, 117000, 111000, 44000, 81000, 83000, 114000, 42000, 114000, 60000, 100000, 108000, 48000, 54000, 60000, 90000, 138000, 54000, 190000, 35000, 77875200, 39000, 81000, 42000, 69000, 90854400, 40000, 49000, 75000, 86000, 66000, 76000, 44000, 64896000, 53000, 44000, 85000, 59000, 64000, 65000, 60000, 53000, 124000, 131000, 110000, 33000, 52000, 48000, 34000, 132000, 81000, 42000, 66000, 74000, 63000, 63000, 91000, 100000, 62000, 71000, 43000, 74000, 55000, 15000, 61000, 91000, 127000, 74000, 33000, 73548800, 37000, 67000, 72000, 116000, 78000, 42000, 59000, 63000, 109000, 116000, 48000, 83000, 105000, 31000, 98000, 55000, 45000, 83000, 70000, 200000, 70000, 73000, 54000, 117000, 90854400, 111000, 68000, 42000, 44000, 81000, 95000, 75000, 72000, 76000, 114000, 108000, 130000, 83000, 42000, 37000, 52000, 105000, 71000, 39000, 114000, 88000, 60000, 100000, 55000, 67000, 92000, 116000, 38000, 85000, 62000, 86000, 93000, 84000, 60000, 52000, 48000, 56000, 65000, 108000, 63000, 54000, 90000, 127000, 31000, 60000, 75000, 105000, 45000, 95000, 80000, 36000, 54000, 50000, 67000, 82000, 85000, 138000, 42000, 190000, 68000, 34000, 54000, 65000, 35000, 109000, 77875200, 61000, 39000, 43000, 74000, 113000, 81000, 97000, 103833600, 42000, 69000, 110000, 102000, 74000, 40000, 108000, 76000, 202000, 49000, 49000, 90854400, 65000, 32000, 87000, 107000, 56000, 108160000, 80000, 43000, 45000, 44000, 50000, 61000, 100000, 56000, 68000, 150000, 101000, 125000, 43000, 139000, 44000, 78000, 65000, 37000, 38000, 43000, 90000, 61000, 93000, 52000, 40000, 97000, 81000, 84000, 49000, 68000, 75000, 121000, 52000, 81000, 63000, 110000, 83000, 60000, 31000, 102000, 110000, 48000, 66000, 92000, 90854400, 43264000, 150000, 52000, 82000, 47000, 49000, 43000, 124000, 52000, 97000, 100000, 53000, 65000, 56000, 111000, 75000, 65000, 56000, 108000, 94000, 176000, 92000, 63000, 54000, 118000, 108000, 65000, 55000, 94000, 63000, 90000, 127000, 60000, 31000, 105000, 45000, 75000, 126000, 80000, 120000, 85000, 95000, 111000, 87000, 76000, 54000, 61000, 81000, 80000, 108000, 112000, 63000, 75000, 110000, 76000, 36000, 70000, 94000, 54000, 50000, 49000, 67000, 138000, 80000, 158000, 150000, 42000, 190000, 42000, 68000, 54000, 34000, 47000, 65000, 56000, 62000, 107000, 64000, 89000, 109000, 61000, 35000, 55000, 77875200, 39000, 135000, 57000, 129000, 86000, 63000, 50000, 43000, 74000, 71000, 113000, 81000, 69000, 97000, 150000, 77000, 103833600, 59000, 35000, 79000, 62000, 119000, 90000, 32000, 42000, 116000, 102000, 69000, 86000, 102000, 74000, 40000, 76000, 76000, 108000, 202000, 91000, 80000, 49000, 49000, 90854400, 65000, 32000, 39000, 87000, 27000, 36000, 107000, 56000, 108160000, 80000, 43000, 44000, 45000, 50000, 60000, 130000, 61000, 100000, 99000, 86000, 37000, 58000, 72000, 56000, 61000, 95000, 53000, 101000, 33000, 44000, 43000, 125000, 44000, 69000, 65000, 67000, 78000, 66000, 37000, 86000, 84000, 50000, 38000, 90000, 92000, 90000, 43000, 100000, 93000, 61000, 42000, 139000, 40000, 84000, 52000, 81000, 97000, 49000, 44000, 75000, 84000, 40000, 68000, 72000, 74000, 57000, 121000, 52000, 81000, 83000, 59000, 60000, 31000, 102000, 136000, 110000, 48000, 71000, 66000, 171000, 92000, 65000, 150000, 90854400, 43264000, 118000, 82000, 52000, 47000, 49000, 43000, 61000, 113000, 124000, 58000, 52000, 97000, 100000, 58000, 81000, 53000, 61000, 65000, 115000, 71000, 32000, 79000, 120000, 50000, 68000, 48000, 116812800, 74000, 68000, 39000, 71000, 107000, 49000, 54000, 61000, 47000, 65000, 87000, 56000, 71000, 62000, 64000, 89000, 109000, 35000, 61000, 55000, 77875200, 135000, 39000, 57000, 63000, 50000, 82000, 85000, 72000, 74000, 113000, 69000, 71000, 97000, 81000, 150000, 103833600, 35000, 77000, 51000, 101000, 59000, 79000, 79000, 62000, 119000, 81000, 120000, 90000, 63000, 42000, 32000, 116000, 107000, 65000, 69000, 102000, 74000, 40000, 76000, 76000, 108000, 202000, 91000, 80000, 90854400, 49000, 49000, 96000, 65000, 59000, 32000, 87000, 27000, 39000, 36000, 107000, 56000, 108160000, 80000, 43000, 45000, 50000, 44000, 100000, 61000, 80000, 99000, 37000, 62000, 86000, 58000, 72000, 56000, 95000, 61000]\n"
     ]
    }
   ],
   "source": [
    "print(df['min_salary'].tolist())"
   ]
  },
  {
   "cell_type": "code",
   "execution_count": 43,
   "metadata": {},
   "outputs": [
    {
     "name": "stdout",
     "output_type": "stream",
     "text": [
      "int64\n",
      "float64\n"
     ]
    },
    {
     "data": {
      "text/plain": [
       "(742,)"
      ]
     },
     "execution_count": 43,
     "metadata": {},
     "output_type": "execute_result"
    }
   ],
   "source": [
    "print(df['min_salary'].dtype)\n",
    "print(df['avg_salary'].dtype)\n",
    "df['min_salary'].shape"
   ]
  },
  {
   "cell_type": "code",
   "execution_count": 36,
   "metadata": {},
   "outputs": [
    {
     "data": {
      "text/plain": [
       "(742,)"
      ]
     },
     "execution_count": 36,
     "metadata": {},
     "output_type": "execute_result"
    }
   ],
   "source": [
    "df['min_salary']"
   ]
  },
  {
   "cell_type": "code",
   "execution_count": 45,
   "metadata": {},
   "outputs": [
    {
     "name": "stdout",
     "output_type": "stream",
     "text": [
      "0\n"
     ]
    }
   ],
   "source": [
    "print((df['max_salary']==0).sum())"
   ]
  },
  {
   "cell_type": "code",
   "execution_count": null,
   "metadata": {},
   "outputs": [],
   "source": [
    "#company name text only(as it contains rating )"
   ]
  },
  {
   "cell_type": "code",
   "execution_count": 49,
   "metadata": {},
   "outputs": [],
   "source": [
    "df['company_txt'] = df.apply(lambda x: x['Company Name'] if x['Rating'] <0 else x['Company Name'][:-4], axis = 1)\n",
    "#-4 (for num,.,num,\\n)"
   ]
  },
  {
   "cell_type": "code",
   "execution_count": 50,
   "metadata": {},
   "outputs": [
    {
     "data": {
      "text/html": [
       "<div>\n",
       "<style scoped>\n",
       "    .dataframe tbody tr th:only-of-type {\n",
       "        vertical-align: middle;\n",
       "    }\n",
       "\n",
       "    .dataframe tbody tr th {\n",
       "        vertical-align: top;\n",
       "    }\n",
       "\n",
       "    .dataframe thead th {\n",
       "        text-align: right;\n",
       "    }\n",
       "</style>\n",
       "<table border=\"1\" class=\"dataframe\">\n",
       "  <thead>\n",
       "    <tr style=\"text-align: right;\">\n",
       "      <th></th>\n",
       "      <th>Unnamed: 0</th>\n",
       "      <th>Job Title</th>\n",
       "      <th>Salary Estimate</th>\n",
       "      <th>Job Description</th>\n",
       "      <th>Rating</th>\n",
       "      <th>Company Name</th>\n",
       "      <th>Location</th>\n",
       "      <th>Headquarters</th>\n",
       "      <th>Size</th>\n",
       "      <th>Founded</th>\n",
       "      <th>...</th>\n",
       "      <th>Industry</th>\n",
       "      <th>Sector</th>\n",
       "      <th>Revenue</th>\n",
       "      <th>Competitors</th>\n",
       "      <th>hourly</th>\n",
       "      <th>employer_provided</th>\n",
       "      <th>min_salary</th>\n",
       "      <th>max_salary</th>\n",
       "      <th>avg_salary</th>\n",
       "      <th>company_txt</th>\n",
       "    </tr>\n",
       "  </thead>\n",
       "  <tbody>\n",
       "    <tr>\n",
       "      <th>0</th>\n",
       "      <td>0</td>\n",
       "      <td>Data Scientist</td>\n",
       "      <td>$53K-$91K (Glassdoor est.)</td>\n",
       "      <td>Data Scientist\\nLocation: Albuquerque, NM\\nEdu...</td>\n",
       "      <td>3.8</td>\n",
       "      <td>Tecolote Research\\n3.8</td>\n",
       "      <td>Albuquerque, NM</td>\n",
       "      <td>Goleta, CA</td>\n",
       "      <td>501 to 1000 employees</td>\n",
       "      <td>1973</td>\n",
       "      <td>...</td>\n",
       "      <td>Aerospace &amp; Defense</td>\n",
       "      <td>Aerospace &amp; Defense</td>\n",
       "      <td>$50 to $100 million (USD)</td>\n",
       "      <td>-1</td>\n",
       "      <td>0</td>\n",
       "      <td>0</td>\n",
       "      <td>53000</td>\n",
       "      <td>91000</td>\n",
       "      <td>72000.0</td>\n",
       "      <td>Tecolote Research</td>\n",
       "    </tr>\n",
       "    <tr>\n",
       "      <th>1</th>\n",
       "      <td>1</td>\n",
       "      <td>Healthcare Data Scientist</td>\n",
       "      <td>$63K-$112K (Glassdoor est.)</td>\n",
       "      <td>What You Will Do:\\n\\nI. General Summary\\n\\nThe...</td>\n",
       "      <td>3.4</td>\n",
       "      <td>University of Maryland Medical System\\n3.4</td>\n",
       "      <td>Linthicum, MD</td>\n",
       "      <td>Baltimore, MD</td>\n",
       "      <td>10000+ employees</td>\n",
       "      <td>1984</td>\n",
       "      <td>...</td>\n",
       "      <td>Health Care Services &amp; Hospitals</td>\n",
       "      <td>Health Care</td>\n",
       "      <td>$2 to $5 billion (USD)</td>\n",
       "      <td>-1</td>\n",
       "      <td>0</td>\n",
       "      <td>0</td>\n",
       "      <td>63000</td>\n",
       "      <td>112000</td>\n",
       "      <td>87500.0</td>\n",
       "      <td>University of Maryland Medical System</td>\n",
       "    </tr>\n",
       "    <tr>\n",
       "      <th>2</th>\n",
       "      <td>2</td>\n",
       "      <td>Data Scientist</td>\n",
       "      <td>$80K-$90K (Glassdoor est.)</td>\n",
       "      <td>KnowBe4, Inc. is a high growth information sec...</td>\n",
       "      <td>4.8</td>\n",
       "      <td>KnowBe4\\n4.8</td>\n",
       "      <td>Clearwater, FL</td>\n",
       "      <td>Clearwater, FL</td>\n",
       "      <td>501 to 1000 employees</td>\n",
       "      <td>2010</td>\n",
       "      <td>...</td>\n",
       "      <td>Security Services</td>\n",
       "      <td>Business Services</td>\n",
       "      <td>$100 to $500 million (USD)</td>\n",
       "      <td>-1</td>\n",
       "      <td>0</td>\n",
       "      <td>0</td>\n",
       "      <td>80000</td>\n",
       "      <td>90000</td>\n",
       "      <td>85000.0</td>\n",
       "      <td>KnowBe4</td>\n",
       "    </tr>\n",
       "    <tr>\n",
       "      <th>3</th>\n",
       "      <td>3</td>\n",
       "      <td>Data Scientist</td>\n",
       "      <td>$56K-$97K (Glassdoor est.)</td>\n",
       "      <td>*Organization and Job ID**\\nJob ID: 310709\\n\\n...</td>\n",
       "      <td>3.8</td>\n",
       "      <td>PNNL\\n3.8</td>\n",
       "      <td>Richland, WA</td>\n",
       "      <td>Richland, WA</td>\n",
       "      <td>1001 to 5000 employees</td>\n",
       "      <td>1965</td>\n",
       "      <td>...</td>\n",
       "      <td>Energy</td>\n",
       "      <td>Oil, Gas, Energy &amp; Utilities</td>\n",
       "      <td>$500 million to $1 billion (USD)</td>\n",
       "      <td>Oak Ridge National Laboratory, National Renewa...</td>\n",
       "      <td>0</td>\n",
       "      <td>0</td>\n",
       "      <td>56000</td>\n",
       "      <td>97000</td>\n",
       "      <td>76500.0</td>\n",
       "      <td>PNNL</td>\n",
       "    </tr>\n",
       "    <tr>\n",
       "      <th>4</th>\n",
       "      <td>4</td>\n",
       "      <td>Data Scientist</td>\n",
       "      <td>$86K-$143K (Glassdoor est.)</td>\n",
       "      <td>Data Scientist\\nAffinity Solutions / Marketing...</td>\n",
       "      <td>2.9</td>\n",
       "      <td>Affinity Solutions\\n2.9</td>\n",
       "      <td>New York, NY</td>\n",
       "      <td>New York, NY</td>\n",
       "      <td>51 to 200 employees</td>\n",
       "      <td>1998</td>\n",
       "      <td>...</td>\n",
       "      <td>Advertising &amp; Marketing</td>\n",
       "      <td>Business Services</td>\n",
       "      <td>Unknown / Non-Applicable</td>\n",
       "      <td>Commerce Signals, Cardlytics, Yodlee</td>\n",
       "      <td>0</td>\n",
       "      <td>0</td>\n",
       "      <td>86000</td>\n",
       "      <td>143000</td>\n",
       "      <td>114500.0</td>\n",
       "      <td>Affinity Solutions</td>\n",
       "    </tr>\n",
       "  </tbody>\n",
       "</table>\n",
       "<p>5 rows × 21 columns</p>\n",
       "</div>"
      ],
      "text/plain": [
       "   Unnamed: 0                  Job Title              Salary Estimate  \\\n",
       "0           0             Data Scientist   $53K-$91K (Glassdoor est.)   \n",
       "1           1  Healthcare Data Scientist  $63K-$112K (Glassdoor est.)   \n",
       "2           2             Data Scientist   $80K-$90K (Glassdoor est.)   \n",
       "3           3             Data Scientist   $56K-$97K (Glassdoor est.)   \n",
       "4           4             Data Scientist  $86K-$143K (Glassdoor est.)   \n",
       "\n",
       "                                     Job Description  Rating  \\\n",
       "0  Data Scientist\\nLocation: Albuquerque, NM\\nEdu...     3.8   \n",
       "1  What You Will Do:\\n\\nI. General Summary\\n\\nThe...     3.4   \n",
       "2  KnowBe4, Inc. is a high growth information sec...     4.8   \n",
       "3  *Organization and Job ID**\\nJob ID: 310709\\n\\n...     3.8   \n",
       "4  Data Scientist\\nAffinity Solutions / Marketing...     2.9   \n",
       "\n",
       "                                 Company Name         Location  \\\n",
       "0                      Tecolote Research\\n3.8  Albuquerque, NM   \n",
       "1  University of Maryland Medical System\\n3.4    Linthicum, MD   \n",
       "2                                KnowBe4\\n4.8   Clearwater, FL   \n",
       "3                                   PNNL\\n3.8     Richland, WA   \n",
       "4                     Affinity Solutions\\n2.9     New York, NY   \n",
       "\n",
       "     Headquarters                    Size  Founded  ...  \\\n",
       "0      Goleta, CA   501 to 1000 employees     1973  ...   \n",
       "1   Baltimore, MD        10000+ employees     1984  ...   \n",
       "2  Clearwater, FL   501 to 1000 employees     2010  ...   \n",
       "3    Richland, WA  1001 to 5000 employees     1965  ...   \n",
       "4    New York, NY     51 to 200 employees     1998  ...   \n",
       "\n",
       "                           Industry                        Sector  \\\n",
       "0               Aerospace & Defense           Aerospace & Defense   \n",
       "1  Health Care Services & Hospitals                   Health Care   \n",
       "2                 Security Services             Business Services   \n",
       "3                            Energy  Oil, Gas, Energy & Utilities   \n",
       "4           Advertising & Marketing             Business Services   \n",
       "\n",
       "                            Revenue  \\\n",
       "0         $50 to $100 million (USD)   \n",
       "1            $2 to $5 billion (USD)   \n",
       "2        $100 to $500 million (USD)   \n",
       "3  $500 million to $1 billion (USD)   \n",
       "4          Unknown / Non-Applicable   \n",
       "\n",
       "                                         Competitors hourly  \\\n",
       "0                                                 -1      0   \n",
       "1                                                 -1      0   \n",
       "2                                                 -1      0   \n",
       "3  Oak Ridge National Laboratory, National Renewa...      0   \n",
       "4               Commerce Signals, Cardlytics, Yodlee      0   \n",
       "\n",
       "   employer_provided  min_salary  max_salary  avg_salary  \\\n",
       "0                  0       53000       91000     72000.0   \n",
       "1                  0       63000      112000     87500.0   \n",
       "2                  0       80000       90000     85000.0   \n",
       "3                  0       56000       97000     76500.0   \n",
       "4                  0       86000      143000    114500.0   \n",
       "\n",
       "                             company_txt  \n",
       "0                      Tecolote Research  \n",
       "1  University of Maryland Medical System  \n",
       "2                                KnowBe4  \n",
       "3                                   PNNL  \n",
       "4                     Affinity Solutions  \n",
       "\n",
       "[5 rows x 21 columns]"
      ]
     },
     "execution_count": 50,
     "metadata": {},
     "output_type": "execute_result"
    }
   ],
   "source": [
    "df.head()"
   ]
  },
  {
   "cell_type": "code",
   "execution_count": 51,
   "metadata": {},
   "outputs": [],
   "source": [
    "df['job_state']=df['Location'].apply(lambda x: x.split(',')[1])"
   ]
  },
  {
   "cell_type": "code",
   "execution_count": 55,
   "metadata": {},
   "outputs": [
    {
     "data": {
      "text/plain": [
       "job_state\n",
       "CA             151\n",
       "MA             103\n",
       "NY              72\n",
       "VA              41\n",
       "IL              40\n",
       "MD              35\n",
       "PA              33\n",
       "TX              28\n",
       "WA              21\n",
       "NC              21\n",
       "NJ              17\n",
       "FL              16\n",
       "OH              14\n",
       "TN              13\n",
       "DC              11\n",
       "CO              11\n",
       "IN              10\n",
       "WI              10\n",
       "UT              10\n",
       "AZ               9\n",
       "MO               9\n",
       "AL               8\n",
       "DE               6\n",
       "KY               6\n",
       "MI               6\n",
       "GA               6\n",
       "IA               5\n",
       "CT               5\n",
       "NE               4\n",
       "OR               4\n",
       "LA               4\n",
       "NM               3\n",
       "KS               3\n",
       "MN               2\n",
       "ID               2\n",
       "Los Angeles      1\n",
       "RI               1\n",
       "SC               1\n",
       "Name: count, dtype: int64"
      ]
     },
     "execution_count": 55,
     "metadata": {},
     "output_type": "execute_result"
    }
   ],
   "source": [
    "df.job_state.value_counts()"
   ]
  },
  {
   "cell_type": "code",
   "execution_count": 79,
   "metadata": {},
   "outputs": [],
   "source": [
    "df['job_state']=df['job_state'].apply(lambda x:x.strip() if x.strip().lower()!='los angeles' else 'CA')"
   ]
  },
  {
   "cell_type": "code",
   "execution_count": 80,
   "metadata": {},
   "outputs": [
    {
     "data": {
      "text/plain": [
       "job_state\n",
       "CA    152\n",
       "MA    103\n",
       "NY     72\n",
       "VA     41\n",
       "IL     40\n",
       "MD     35\n",
       "PA     33\n",
       "TX     28\n",
       "WA     21\n",
       "NC     21\n",
       "NJ     17\n",
       "FL     16\n",
       "OH     14\n",
       "TN     13\n",
       "DC     11\n",
       "CO     11\n",
       "IN     10\n",
       "UT     10\n",
       "WI     10\n",
       "AZ      9\n",
       "MO      9\n",
       "AL      8\n",
       "GA      6\n",
       "MI      6\n",
       "KY      6\n",
       "DE      6\n",
       "IA      5\n",
       "CT      5\n",
       "OR      4\n",
       "NE      4\n",
       "LA      4\n",
       "NM      3\n",
       "KS      3\n",
       "MN      2\n",
       "ID      2\n",
       "RI      1\n",
       "SC      1\n",
       "Name: count, dtype: int64"
      ]
     },
     "execution_count": 80,
     "metadata": {},
     "output_type": "execute_result"
    }
   ],
   "source": [
    "df.job_state.value_counts()"
   ]
  },
  {
   "cell_type": "code",
   "execution_count": 59,
   "metadata": {},
   "outputs": [],
   "source": [
    "#whether headquaters is in same state or not\n",
    "df['same_state']=df.apply(lambda x: 1 if x.Location==x.Headquarters else 0,axis=1)"
   ]
  },
  {
   "cell_type": "code",
   "execution_count": 60,
   "metadata": {},
   "outputs": [
    {
     "data": {
      "text/html": [
       "<div>\n",
       "<style scoped>\n",
       "    .dataframe tbody tr th:only-of-type {\n",
       "        vertical-align: middle;\n",
       "    }\n",
       "\n",
       "    .dataframe tbody tr th {\n",
       "        vertical-align: top;\n",
       "    }\n",
       "\n",
       "    .dataframe thead th {\n",
       "        text-align: right;\n",
       "    }\n",
       "</style>\n",
       "<table border=\"1\" class=\"dataframe\">\n",
       "  <thead>\n",
       "    <tr style=\"text-align: right;\">\n",
       "      <th></th>\n",
       "      <th>Unnamed: 0</th>\n",
       "      <th>Job Title</th>\n",
       "      <th>Salary Estimate</th>\n",
       "      <th>Job Description</th>\n",
       "      <th>Rating</th>\n",
       "      <th>Company Name</th>\n",
       "      <th>Location</th>\n",
       "      <th>Headquarters</th>\n",
       "      <th>Size</th>\n",
       "      <th>Founded</th>\n",
       "      <th>...</th>\n",
       "      <th>Revenue</th>\n",
       "      <th>Competitors</th>\n",
       "      <th>hourly</th>\n",
       "      <th>employer_provided</th>\n",
       "      <th>min_salary</th>\n",
       "      <th>max_salary</th>\n",
       "      <th>avg_salary</th>\n",
       "      <th>company_txt</th>\n",
       "      <th>job_state</th>\n",
       "      <th>same_state</th>\n",
       "    </tr>\n",
       "  </thead>\n",
       "  <tbody>\n",
       "    <tr>\n",
       "      <th>0</th>\n",
       "      <td>0</td>\n",
       "      <td>Data Scientist</td>\n",
       "      <td>$53K-$91K (Glassdoor est.)</td>\n",
       "      <td>Data Scientist\\nLocation: Albuquerque, NM\\nEdu...</td>\n",
       "      <td>3.8</td>\n",
       "      <td>Tecolote Research\\n3.8</td>\n",
       "      <td>Albuquerque, NM</td>\n",
       "      <td>Goleta, CA</td>\n",
       "      <td>501 to 1000 employees</td>\n",
       "      <td>1973</td>\n",
       "      <td>...</td>\n",
       "      <td>$50 to $100 million (USD)</td>\n",
       "      <td>-1</td>\n",
       "      <td>0</td>\n",
       "      <td>0</td>\n",
       "      <td>53000</td>\n",
       "      <td>91000</td>\n",
       "      <td>72000.0</td>\n",
       "      <td>Tecolote Research</td>\n",
       "      <td>NM</td>\n",
       "      <td>0</td>\n",
       "    </tr>\n",
       "    <tr>\n",
       "      <th>1</th>\n",
       "      <td>1</td>\n",
       "      <td>Healthcare Data Scientist</td>\n",
       "      <td>$63K-$112K (Glassdoor est.)</td>\n",
       "      <td>What You Will Do:\\n\\nI. General Summary\\n\\nThe...</td>\n",
       "      <td>3.4</td>\n",
       "      <td>University of Maryland Medical System\\n3.4</td>\n",
       "      <td>Linthicum, MD</td>\n",
       "      <td>Baltimore, MD</td>\n",
       "      <td>10000+ employees</td>\n",
       "      <td>1984</td>\n",
       "      <td>...</td>\n",
       "      <td>$2 to $5 billion (USD)</td>\n",
       "      <td>-1</td>\n",
       "      <td>0</td>\n",
       "      <td>0</td>\n",
       "      <td>63000</td>\n",
       "      <td>112000</td>\n",
       "      <td>87500.0</td>\n",
       "      <td>University of Maryland Medical System</td>\n",
       "      <td>MD</td>\n",
       "      <td>0</td>\n",
       "    </tr>\n",
       "    <tr>\n",
       "      <th>2</th>\n",
       "      <td>2</td>\n",
       "      <td>Data Scientist</td>\n",
       "      <td>$80K-$90K (Glassdoor est.)</td>\n",
       "      <td>KnowBe4, Inc. is a high growth information sec...</td>\n",
       "      <td>4.8</td>\n",
       "      <td>KnowBe4\\n4.8</td>\n",
       "      <td>Clearwater, FL</td>\n",
       "      <td>Clearwater, FL</td>\n",
       "      <td>501 to 1000 employees</td>\n",
       "      <td>2010</td>\n",
       "      <td>...</td>\n",
       "      <td>$100 to $500 million (USD)</td>\n",
       "      <td>-1</td>\n",
       "      <td>0</td>\n",
       "      <td>0</td>\n",
       "      <td>80000</td>\n",
       "      <td>90000</td>\n",
       "      <td>85000.0</td>\n",
       "      <td>KnowBe4</td>\n",
       "      <td>FL</td>\n",
       "      <td>1</td>\n",
       "    </tr>\n",
       "    <tr>\n",
       "      <th>3</th>\n",
       "      <td>3</td>\n",
       "      <td>Data Scientist</td>\n",
       "      <td>$56K-$97K (Glassdoor est.)</td>\n",
       "      <td>*Organization and Job ID**\\nJob ID: 310709\\n\\n...</td>\n",
       "      <td>3.8</td>\n",
       "      <td>PNNL\\n3.8</td>\n",
       "      <td>Richland, WA</td>\n",
       "      <td>Richland, WA</td>\n",
       "      <td>1001 to 5000 employees</td>\n",
       "      <td>1965</td>\n",
       "      <td>...</td>\n",
       "      <td>$500 million to $1 billion (USD)</td>\n",
       "      <td>Oak Ridge National Laboratory, National Renewa...</td>\n",
       "      <td>0</td>\n",
       "      <td>0</td>\n",
       "      <td>56000</td>\n",
       "      <td>97000</td>\n",
       "      <td>76500.0</td>\n",
       "      <td>PNNL</td>\n",
       "      <td>WA</td>\n",
       "      <td>1</td>\n",
       "    </tr>\n",
       "    <tr>\n",
       "      <th>4</th>\n",
       "      <td>4</td>\n",
       "      <td>Data Scientist</td>\n",
       "      <td>$86K-$143K (Glassdoor est.)</td>\n",
       "      <td>Data Scientist\\nAffinity Solutions / Marketing...</td>\n",
       "      <td>2.9</td>\n",
       "      <td>Affinity Solutions\\n2.9</td>\n",
       "      <td>New York, NY</td>\n",
       "      <td>New York, NY</td>\n",
       "      <td>51 to 200 employees</td>\n",
       "      <td>1998</td>\n",
       "      <td>...</td>\n",
       "      <td>Unknown / Non-Applicable</td>\n",
       "      <td>Commerce Signals, Cardlytics, Yodlee</td>\n",
       "      <td>0</td>\n",
       "      <td>0</td>\n",
       "      <td>86000</td>\n",
       "      <td>143000</td>\n",
       "      <td>114500.0</td>\n",
       "      <td>Affinity Solutions</td>\n",
       "      <td>NY</td>\n",
       "      <td>1</td>\n",
       "    </tr>\n",
       "  </tbody>\n",
       "</table>\n",
       "<p>5 rows × 23 columns</p>\n",
       "</div>"
      ],
      "text/plain": [
       "   Unnamed: 0                  Job Title              Salary Estimate  \\\n",
       "0           0             Data Scientist   $53K-$91K (Glassdoor est.)   \n",
       "1           1  Healthcare Data Scientist  $63K-$112K (Glassdoor est.)   \n",
       "2           2             Data Scientist   $80K-$90K (Glassdoor est.)   \n",
       "3           3             Data Scientist   $56K-$97K (Glassdoor est.)   \n",
       "4           4             Data Scientist  $86K-$143K (Glassdoor est.)   \n",
       "\n",
       "                                     Job Description  Rating  \\\n",
       "0  Data Scientist\\nLocation: Albuquerque, NM\\nEdu...     3.8   \n",
       "1  What You Will Do:\\n\\nI. General Summary\\n\\nThe...     3.4   \n",
       "2  KnowBe4, Inc. is a high growth information sec...     4.8   \n",
       "3  *Organization and Job ID**\\nJob ID: 310709\\n\\n...     3.8   \n",
       "4  Data Scientist\\nAffinity Solutions / Marketing...     2.9   \n",
       "\n",
       "                                 Company Name         Location  \\\n",
       "0                      Tecolote Research\\n3.8  Albuquerque, NM   \n",
       "1  University of Maryland Medical System\\n3.4    Linthicum, MD   \n",
       "2                                KnowBe4\\n4.8   Clearwater, FL   \n",
       "3                                   PNNL\\n3.8     Richland, WA   \n",
       "4                     Affinity Solutions\\n2.9     New York, NY   \n",
       "\n",
       "     Headquarters                    Size  Founded  ...  \\\n",
       "0      Goleta, CA   501 to 1000 employees     1973  ...   \n",
       "1   Baltimore, MD        10000+ employees     1984  ...   \n",
       "2  Clearwater, FL   501 to 1000 employees     2010  ...   \n",
       "3    Richland, WA  1001 to 5000 employees     1965  ...   \n",
       "4    New York, NY     51 to 200 employees     1998  ...   \n",
       "\n",
       "                            Revenue  \\\n",
       "0         $50 to $100 million (USD)   \n",
       "1            $2 to $5 billion (USD)   \n",
       "2        $100 to $500 million (USD)   \n",
       "3  $500 million to $1 billion (USD)   \n",
       "4          Unknown / Non-Applicable   \n",
       "\n",
       "                                         Competitors hourly employer_provided  \\\n",
       "0                                                 -1      0                 0   \n",
       "1                                                 -1      0                 0   \n",
       "2                                                 -1      0                 0   \n",
       "3  Oak Ridge National Laboratory, National Renewa...      0                 0   \n",
       "4               Commerce Signals, Cardlytics, Yodlee      0                 0   \n",
       "\n",
       "  min_salary  max_salary  avg_salary                            company_txt  \\\n",
       "0      53000       91000     72000.0                      Tecolote Research   \n",
       "1      63000      112000     87500.0  University of Maryland Medical System   \n",
       "2      80000       90000     85000.0                                KnowBe4   \n",
       "3      56000       97000     76500.0                                   PNNL   \n",
       "4      86000      143000    114500.0                     Affinity Solutions   \n",
       "\n",
       "   job_state  same_state  \n",
       "0         NM           0  \n",
       "1         MD           0  \n",
       "2         FL           1  \n",
       "3         WA           1  \n",
       "4         NY           1  \n",
       "\n",
       "[5 rows x 23 columns]"
      ]
     },
     "execution_count": 60,
     "metadata": {},
     "output_type": "execute_result"
    }
   ],
   "source": [
    "df.head()"
   ]
  },
  {
   "cell_type": "code",
   "execution_count": null,
   "metadata": {},
   "outputs": [],
   "source": [
    "#age of company()"
   ]
  },
  {
   "cell_type": "code",
   "execution_count": 61,
   "metadata": {},
   "outputs": [
    {
     "name": "stdout",
     "output_type": "stream",
     "text": [
      "[1973, 1984, 2010, 1965, 1998, 2000, 2008, 2005, 2014, 2009, 2011, 1968, 1962, 2012, 1781, 1995, 2011, 2011, 2010, 1915, 2012, 2013, 1995, 1935, 2012, 1849, 1952, 1852, 1849, 2010, 1965, 1997, 1996, 1996, 1974, 2008, 1969, 2010, 1870, 1985, 2008, -1, 2010, 2015, 1993, -1, 1958, 1986, 1999, 1925, 1984, 1912, 2002, 1863, 1939, 1870, 2012, 2016, 2008, 2000, 1885, 2011, 2006, 1965, 1948, 2006, 2003, 1999, -1, 1939, 2015, 1927, 1978, 2010, 1860, 1939, 2011, 2000, 2017, 1995, 2016, 1997, 1942, 2008, 2002, 1948, 1962, 2005, 2008, 1996, 1999, 1990, 1968, 2003, 1988, 1996, 1958, 2010, 2001, 2007, 2012, 1992, 2015, 1935, 1997, 1994, 2012, 2010, 1977, 2006, 2019, 1781, 2009, 2015, 1982, 1937, 2000, 1996, 1997, 2000, 1999, 1878, 2015, 1993, 1986, 2000, 1966, 2017, 1958, 2008, 2012, 1958, 1971, 1997, 2007, 1943, 1968, 2011, 2017, 2008, 2011, -1, 2013, 1984, 1965, 2000, 2011, 1987, 1945, 1965, 2010, 2008, 2005, 1846, 1851, 1976, 1996, 1781, 1981, 1970, 2013, 2010, -1, 2010, 1993, 2017, 1951, 2013, 1982, 1967, 2006, 2006, 1781, 2014, 1781, 1982, 2017, 1935, 1781, 1948, 1961, 1984, 2008, 2009, 1996, 1852, -1, 2015, 2013, -1, 2014, 2002, 2013, 2007, 2014, 2010, 1986, 1977, -1, 1984, 1996, 1958, 1935, 1964, 1961, 2005, 1995, 1995, 1925, 2002, 1930, 1999, 2010, 1846, 2005, 1992, 1997, 1958, 1981, 1851, 1976, 1996, -1, 1781, 2013, 1984, 1970, 1981, 1996, 2019, -1, 1849, 1935, 1992, 2010, 2006, 2001, 1993, 1999, 1992, 1966, 2010, 1951, 1976, 1939, 1917, 2017, 1883, 2006, 1887, 1982, 2004, 2013, 1967, 1849, 2012, -1, 2006, 2000, 1781, 2006, 1781, 2014, 2004, -1, 1850, 2017, 2008, 1982, 1948, 1781, 1935, 1948, 1997, 1902, 1961, 1984, 1744, 1952, 1997, 2003, 2009, 2012, 2007, 2008, 1996, 1987, 1982, 1863, 1781, 1929, 1852, 1976, 1851, 2015, 1996, 1968, 1996, 1982, 1947, -1, 2015, 1996, 1996, 1993, -1, 1968, -1, 1965, 1851, 2013, 1969, 2014, 2013, 2008, 1991, 2002, 2015, 2010, 2007, 2017, 1998, 1937, 2014, 1989, 1851, 1969, 1974, 2007, 1928, 2010, 1875, 1851, 1981, 2013, 1986, 2010, 1977, 1973, -1, 2003, -1, 1781, 1984, 2008, 1966, 1996, 1958, 2010, 1913, 1915, 1964, 1984, 1999, 1912, 2012, 1961, 1935, 1875, 1989, 1996, 1968, 1958, 1976, 1875, 2006, 2011, 2015, 2015, 1988, -1, 1984, 1984, -1, 1851, 1849, 1870, 2009, 2002, 1990, 2010, 1912, 1972, 1856, 1981, 2004, 2012, 1995, 2002, 2010, 1943, 2008, 1961, 1875, 2005, 2007, 1969, 1978, 1925, 1993, -1, 1965, 1992, 2003, -1, 1983, 2006, 1965, 1996, 2000, 1912, 1947, -1, 1875, 1922, 1958, 1989, 2003, 2008, 2007, 2002, 1875, 1870, 2016, 2014, 1851, 1965, 2013, 1812, 1999, 2016, 1969, 2014, 2007, 2008, 2010, 1976, 1992, -1, 2013, 2008, 2002, 1991, 2010, 2007, 2015, 1988, 2010, 2012, -1, 2017, -1, -1, 1969, 1935, 2016, -1, 1998, -1, 2011, 2007, 1885, 1967, 1914, 1937, -1, 1999, 2014, 1989, 1939, 1851, 2007, 1939, 1958, 2014, 1928, 2010, 2006, 1875, 1981, 1851, 1980, 2013, 2012, 1954, 1913, 2006, 2012, 2010, 1973, 1986, 2002, 1977, -1, 1939, 1997, 2001, 1912, 1913, 1958, 2003, -1, 2007, 1781, 1984, 2011, 2008, 2006, 2005, 1966, 2008, -1, 1997, 1830, 2008, 1988, 2010, 1996, 1982, 1913, 1958, 1863, 1870, 1915, 1964, 2004, 1999, 1984, 1912, 1975, 1996, 2012, 1961, 1935, 1875, 1989, 1852, 1996, 1977, 2002, 1968, 1958, 1976, 1875, 2006, 2015, 2011, 2015, 2003, 2014, 1988, -1, 2008, 2017, 1851, 1830, 2006, 1984, 1967, -1, -1, 1851, 1977, 2014, 1870, 1849, 2002, 2012, 2010, 2012, 1990, 1851, 1912, 1996, 2011, -1, 1972, 1981, 1996, 2006, 1856, -1, 2012, 2004, 2002, 2009, 2002, 2017, 1995, 1943, 2010, 1961, 1925, 2005, 2008, 2007, 1875, 1981, -1, 1972, 2007, 1969, 1978, -1, 1994, 1965, 1992, 2003, 1849, -1, 1983, 1994, 2006, 2011, 1965, 1995, 1912, 1996, 2000, 1973, -1, 1947, 1875, 1922, 1958, 1948, 1913, 1989, 1899, 2003, 2008, 2007, 2008, 1991, 2002, 2002, 1875, 1991, 1984, 1979, 1889, -1, 1994, 1970, 1961, 2008, 1922, 2008, 1912, 2011, 2006, 1965, 1981, 1913, 1980, 2013, 1989, 2012, -1, 1954, 2006, 2012, 2010, 1986, 1973, 2002, 1977, 1939, -1, 1997, 1913, 1958, 1885, 2010, 1997, -1, 1781, 2011, 2007, 2008, 1984, 2006, 1966, -1, 2005, 1969, 1997, 2008, 1997, 2005, 1830, 2008, 1958, 2011, 1988, 1999, 1996, 2010, 1982, 1913, -1, 1958, 1913, 1915, 1964, 2004, 1999, 1984, 1912, 1975, 1996, 1935, 2012, 1961, -1, 1875, 2006, 1989, 1996, 1977, 1852, 2002, 1968, 1958, 1976, 1875, 2006, 2011, 2015, 2015, -1, 1988, 2007, 2008, 1851, 2011, 2017, 1830, 2006, 1984, -1, 1967]\n"
     ]
    }
   ],
   "source": [
    "print(df['Founded'].tolist())\n"
   ]
  },
  {
   "cell_type": "code",
   "execution_count": 62,
   "metadata": {},
   "outputs": [],
   "source": [
    "#if founded year is not known it has -1 value\n",
    "df['age']=df.Founded.apply(lambda x: x if x<1 else 2024-x)"
   ]
  },
  {
   "cell_type": "code",
   "execution_count": 63,
   "metadata": {},
   "outputs": [
    {
     "name": "stdout",
     "output_type": "stream",
     "text": [
      "[51, 40, 14, 59, 26, 24, 16, 19, 10, 15, 13, 56, 62, 12, 243, 29, 13, 13, 14, 109, 12, 11, 29, 89, 12, 175, 72, 172, 175, 14, 59, 27, 28, 28, 50, 16, 55, 14, 154, 39, 16, -1, 14, 9, 31, -1, 66, 38, 25, 99, 40, 112, 22, 161, 85, 154, 12, 8, 16, 24, 139, 13, 18, 59, 76, 18, 21, 25, -1, 85, 9, 97, 46, 14, 164, 85, 13, 24, 7, 29, 8, 27, 82, 16, 22, 76, 62, 19, 16, 28, 25, 34, 56, 21, 36, 28, 66, 14, 23, 17, 12, 32, 9, 89, 27, 30, 12, 14, 47, 18, 5, 243, 15, 9, 42, 87, 24, 28, 27, 24, 25, 146, 9, 31, 38, 24, 58, 7, 66, 16, 12, 66, 53, 27, 17, 81, 56, 13, 7, 16, 13, -1, 11, 40, 59, 24, 13, 37, 79, 59, 14, 16, 19, 178, 173, 48, 28, 243, 43, 54, 11, 14, -1, 14, 31, 7, 73, 11, 42, 57, 18, 18, 243, 10, 243, 42, 7, 89, 243, 76, 63, 40, 16, 15, 28, 172, -1, 9, 11, -1, 10, 22, 11, 17, 10, 14, 38, 47, -1, 40, 28, 66, 89, 60, 63, 19, 29, 29, 99, 22, 94, 25, 14, 178, 19, 32, 27, 66, 43, 173, 48, 28, -1, 243, 11, 40, 54, 43, 28, 5, -1, 175, 89, 32, 14, 18, 23, 31, 25, 32, 58, 14, 73, 48, 85, 107, 7, 141, 18, 137, 42, 20, 11, 57, 175, 12, -1, 18, 24, 243, 18, 243, 10, 20, -1, 174, 7, 16, 42, 76, 243, 89, 76, 27, 122, 63, 40, 280, 72, 27, 21, 15, 12, 17, 16, 28, 37, 42, 161, 243, 95, 172, 48, 173, 9, 28, 56, 28, 42, 77, -1, 9, 28, 28, 31, -1, 56, -1, 59, 173, 11, 55, 10, 11, 16, 33, 22, 9, 14, 17, 7, 26, 87, 10, 35, 173, 55, 50, 17, 96, 14, 149, 173, 43, 11, 38, 14, 47, 51, -1, 21, -1, 243, 40, 16, 58, 28, 66, 14, 111, 109, 60, 40, 25, 112, 12, 63, 89, 149, 35, 28, 56, 66, 48, 149, 18, 13, 9, 9, 36, -1, 40, 40, -1, 173, 175, 154, 15, 22, 34, 14, 112, 52, 168, 43, 20, 12, 29, 22, 14, 81, 16, 63, 149, 19, 17, 55, 46, 99, 31, -1, 59, 32, 21, -1, 41, 18, 59, 28, 24, 112, 77, -1, 149, 102, 66, 35, 21, 16, 17, 22, 149, 154, 8, 10, 173, 59, 11, 212, 25, 8, 55, 10, 17, 16, 14, 48, 32, -1, 11, 16, 22, 33, 14, 17, 9, 36, 14, 12, -1, 7, -1, -1, 55, 89, 8, -1, 26, -1, 13, 17, 139, 57, 110, 87, -1, 25, 10, 35, 85, 173, 17, 85, 66, 10, 96, 14, 18, 149, 43, 173, 44, 11, 12, 70, 111, 18, 12, 14, 51, 38, 22, 47, -1, 85, 27, 23, 112, 111, 66, 21, -1, 17, 243, 40, 13, 16, 18, 19, 58, 16, -1, 27, 194, 16, 36, 14, 28, 42, 111, 66, 161, 154, 109, 60, 20, 25, 40, 112, 49, 28, 12, 63, 89, 149, 35, 172, 28, 47, 22, 56, 66, 48, 149, 18, 9, 13, 9, 21, 10, 36, -1, 16, 7, 173, 194, 18, 40, 57, -1, -1, 173, 47, 10, 154, 175, 22, 12, 14, 12, 34, 173, 112, 28, 13, -1, 52, 43, 28, 18, 168, -1, 12, 20, 22, 15, 22, 7, 29, 81, 14, 63, 99, 19, 16, 17, 149, 43, -1, 52, 17, 55, 46, -1, 30, 59, 32, 21, 175, -1, 41, 30, 18, 13, 59, 29, 112, 28, 24, 51, -1, 77, 149, 102, 66, 76, 111, 35, 125, 21, 16, 17, 16, 33, 22, 22, 149, 33, 40, 45, 135, -1, 30, 54, 63, 16, 102, 16, 112, 13, 18, 59, 43, 111, 44, 11, 35, 12, -1, 70, 18, 12, 14, 38, 51, 22, 47, 85, -1, 27, 111, 66, 139, 14, 27, -1, 243, 13, 17, 16, 40, 18, 58, -1, 19, 55, 27, 16, 27, 19, 194, 16, 66, 13, 36, 25, 28, 14, 42, 111, -1, 66, 111, 109, 60, 20, 25, 40, 112, 49, 28, 89, 12, 63, -1, 149, 18, 35, 28, 47, 172, 22, 56, 66, 48, 149, 18, 13, 9, 9, -1, 36, 17, 16, 173, 13, 7, 194, 18, 40, -1, 57]\n"
     ]
    }
   ],
   "source": [
    "print(df['age'].tolist())"
   ]
  },
  {
   "cell_type": "code",
   "execution_count": 67,
   "metadata": {},
   "outputs": [
    {
     "name": "stdout",
     "output_type": "stream",
     "text": [
      "Data Scientist\n",
      "Location: Albuquerque, NM\n",
      "Education Required: Bachelor’s degree required, preferably in math, engineering, business, or the sciences.\n",
      "Skills Required:\n",
      "Bachelor’s Degree in relevant field, e.g., math, data analysis, database, computer science, Artificial Intelligence (AI); three years’ experience credit for Master’s degree; five years’ experience credit for a Ph.D\n",
      "Applicant should be proficient in the use of Power BI, Tableau, Python, MATLAB, Microsoft Word, PowerPoint, Excel, and working knowledge of MS Access, LMS, SAS, data visualization tools, and have a strong algorithmic aptitude\n",
      "Excellent verbal and written communication skills, and quantitative analytical skills are required\n",
      "Applicant must be able to work in a team environment\n",
      "U.S. citizenship and ability to obtain a DoD Secret Clearance required\n",
      "Responsibilities: The applicant will be responsible for formulating analytical solutions to complex data problems; creating data analytic models to improve data metrics; analyzing customer behavior and trends; delivering insights to stakeholders, as well as designing and crafting reports, dashboards, models, and algorithms to make data insights actionable; selecting features, building and optimizing classifiers using machine learning techniques; data mining using state-of-the-art methods, extending organization’s data with third party sources of information when needed; enhancing data collection procedures to include information that is relevant for building analytic systems; processing, cleansing, and verifying the integrity of data used for analysis; doing ad-hoc analysis and presenting results in a clear manner; and creating automated anomaly detection systems and constant tracking of its performance.\n",
      "Benefits:\n",
      "We offer competitive salaries commensurate with education and experience. We have an excellent benefits package that includes:\n",
      "Comprehensive health, dental, life, long and short term disability insurance\n",
      "100% Company funded Retirement Plans\n",
      "Generous vacation, holiday and sick pay plans\n",
      "Tuition assistance\n",
      "\n",
      "Benefits are provided to employees regularly working a minimum of 30 hours per week.\n",
      "\n",
      "Tecolote Research is a private, employee-owned corporation where people are our primary resource. Our investments in technology and training give our employees the tools to ensure our clients are provided the solutions they need, and our very high employee retention rate and stable workforce is an added value to our customers. Apply now to connect with a company that invests in you.\n"
     ]
    }
   ],
   "source": [
    "#job Description\n",
    "print(df['Job Description'][0])"
   ]
  },
  {
   "cell_type": "code",
   "execution_count": null,
   "metadata": {},
   "outputs": [],
   "source": [
    "#checking some tools required for job like python or r etc..."
   ]
  },
  {
   "cell_type": "code",
   "execution_count": 68,
   "metadata": {},
   "outputs": [
    {
     "data": {
      "text/plain": [
       "py\n",
       "1    392\n",
       "0    350\n",
       "Name: count, dtype: int64"
      ]
     },
     "execution_count": 68,
     "metadata": {},
     "output_type": "execute_result"
    }
   ],
   "source": [
    "#python\n",
    "df['py']=df['Job Description'].apply(lambda x: 1 if 'python' in x.lower() else 0)\n",
    "df['py'].value_counts()"
   ]
  },
  {
   "cell_type": "code",
   "execution_count": 69,
   "metadata": {},
   "outputs": [
    {
     "data": {
      "text/plain": [
       "r\n",
       "0    740\n",
       "1      2\n",
       "Name: count, dtype: int64"
      ]
     },
     "execution_count": 69,
     "metadata": {},
     "output_type": "execute_result"
    }
   ],
   "source": [
    "#r-studio\n",
    "df['r']=df['Job Description'].apply(lambda x: 1 if 'r studio' in x.lower() or 'r-studio' in x.lower() else 0)\n",
    "df.r.value_counts()"
   ]
  },
  {
   "cell_type": "code",
   "execution_count": 70,
   "metadata": {},
   "outputs": [
    {
     "data": {
      "text/plain": [
       "excel\n",
       "1    388\n",
       "0    354\n",
       "Name: count, dtype: int64"
      ]
     },
     "execution_count": 70,
     "metadata": {},
     "output_type": "execute_result"
    }
   ],
   "source": [
    "#excel\n",
    "df['excel'] = df['Job Description'].apply(lambda x: 1 if 'excel' in x.lower() else 0)\n",
    "df['excel'].value_counts()"
   ]
  },
  {
   "cell_type": "code",
   "execution_count": 71,
   "metadata": {},
   "outputs": [
    {
     "data": {
      "text/plain": [
       "aws\n",
       "0    566\n",
       "1    176\n",
       "Name: count, dtype: int64"
      ]
     },
     "execution_count": 71,
     "metadata": {},
     "output_type": "execute_result"
    }
   ],
   "source": [
    "#aws \n",
    "df['aws'] = df['Job Description'].apply(lambda x: 1 if 'aws' in x.lower() else 0)\n",
    "df['aws'].value_counts()"
   ]
  },
  {
   "cell_type": "code",
   "execution_count": 72,
   "metadata": {},
   "outputs": [
    {
     "data": {
      "text/plain": [
       "spark\n",
       "0    575\n",
       "1    167\n",
       "Name: count, dtype: int64"
      ]
     },
     "execution_count": 72,
     "metadata": {},
     "output_type": "execute_result"
    }
   ],
   "source": [
    "#spark \n",
    "df['spark'] = df['Job Description'].apply(lambda x: 1 if 'spark' in x.lower() else 0)\n",
    "df['spark'].value_counts()"
   ]
  },
  {
   "cell_type": "code",
   "execution_count": 73,
   "metadata": {},
   "outputs": [
    {
     "data": {
      "text/html": [
       "<div>\n",
       "<style scoped>\n",
       "    .dataframe tbody tr th:only-of-type {\n",
       "        vertical-align: middle;\n",
       "    }\n",
       "\n",
       "    .dataframe tbody tr th {\n",
       "        vertical-align: top;\n",
       "    }\n",
       "\n",
       "    .dataframe thead th {\n",
       "        text-align: right;\n",
       "    }\n",
       "</style>\n",
       "<table border=\"1\" class=\"dataframe\">\n",
       "  <thead>\n",
       "    <tr style=\"text-align: right;\">\n",
       "      <th></th>\n",
       "      <th>Unnamed: 0</th>\n",
       "      <th>Job Title</th>\n",
       "      <th>Salary Estimate</th>\n",
       "      <th>Job Description</th>\n",
       "      <th>Rating</th>\n",
       "      <th>Company Name</th>\n",
       "      <th>Location</th>\n",
       "      <th>Headquarters</th>\n",
       "      <th>Size</th>\n",
       "      <th>Founded</th>\n",
       "      <th>...</th>\n",
       "      <th>avg_salary</th>\n",
       "      <th>company_txt</th>\n",
       "      <th>job_state</th>\n",
       "      <th>same_state</th>\n",
       "      <th>age</th>\n",
       "      <th>py</th>\n",
       "      <th>r</th>\n",
       "      <th>excel</th>\n",
       "      <th>aws</th>\n",
       "      <th>spark</th>\n",
       "    </tr>\n",
       "  </thead>\n",
       "  <tbody>\n",
       "    <tr>\n",
       "      <th>0</th>\n",
       "      <td>0</td>\n",
       "      <td>Data Scientist</td>\n",
       "      <td>$53K-$91K (Glassdoor est.)</td>\n",
       "      <td>Data Scientist\\nLocation: Albuquerque, NM\\nEdu...</td>\n",
       "      <td>3.8</td>\n",
       "      <td>Tecolote Research\\n3.8</td>\n",
       "      <td>Albuquerque, NM</td>\n",
       "      <td>Goleta, CA</td>\n",
       "      <td>501 to 1000 employees</td>\n",
       "      <td>1973</td>\n",
       "      <td>...</td>\n",
       "      <td>72000.0</td>\n",
       "      <td>Tecolote Research</td>\n",
       "      <td>NM</td>\n",
       "      <td>0</td>\n",
       "      <td>51</td>\n",
       "      <td>1</td>\n",
       "      <td>0</td>\n",
       "      <td>1</td>\n",
       "      <td>0</td>\n",
       "      <td>0</td>\n",
       "    </tr>\n",
       "    <tr>\n",
       "      <th>1</th>\n",
       "      <td>1</td>\n",
       "      <td>Healthcare Data Scientist</td>\n",
       "      <td>$63K-$112K (Glassdoor est.)</td>\n",
       "      <td>What You Will Do:\\n\\nI. General Summary\\n\\nThe...</td>\n",
       "      <td>3.4</td>\n",
       "      <td>University of Maryland Medical System\\n3.4</td>\n",
       "      <td>Linthicum, MD</td>\n",
       "      <td>Baltimore, MD</td>\n",
       "      <td>10000+ employees</td>\n",
       "      <td>1984</td>\n",
       "      <td>...</td>\n",
       "      <td>87500.0</td>\n",
       "      <td>University of Maryland Medical System</td>\n",
       "      <td>MD</td>\n",
       "      <td>0</td>\n",
       "      <td>40</td>\n",
       "      <td>1</td>\n",
       "      <td>0</td>\n",
       "      <td>0</td>\n",
       "      <td>0</td>\n",
       "      <td>0</td>\n",
       "    </tr>\n",
       "    <tr>\n",
       "      <th>2</th>\n",
       "      <td>2</td>\n",
       "      <td>Data Scientist</td>\n",
       "      <td>$80K-$90K (Glassdoor est.)</td>\n",
       "      <td>KnowBe4, Inc. is a high growth information sec...</td>\n",
       "      <td>4.8</td>\n",
       "      <td>KnowBe4\\n4.8</td>\n",
       "      <td>Clearwater, FL</td>\n",
       "      <td>Clearwater, FL</td>\n",
       "      <td>501 to 1000 employees</td>\n",
       "      <td>2010</td>\n",
       "      <td>...</td>\n",
       "      <td>85000.0</td>\n",
       "      <td>KnowBe4</td>\n",
       "      <td>FL</td>\n",
       "      <td>1</td>\n",
       "      <td>14</td>\n",
       "      <td>1</td>\n",
       "      <td>0</td>\n",
       "      <td>1</td>\n",
       "      <td>0</td>\n",
       "      <td>1</td>\n",
       "    </tr>\n",
       "    <tr>\n",
       "      <th>3</th>\n",
       "      <td>3</td>\n",
       "      <td>Data Scientist</td>\n",
       "      <td>$56K-$97K (Glassdoor est.)</td>\n",
       "      <td>*Organization and Job ID**\\nJob ID: 310709\\n\\n...</td>\n",
       "      <td>3.8</td>\n",
       "      <td>PNNL\\n3.8</td>\n",
       "      <td>Richland, WA</td>\n",
       "      <td>Richland, WA</td>\n",
       "      <td>1001 to 5000 employees</td>\n",
       "      <td>1965</td>\n",
       "      <td>...</td>\n",
       "      <td>76500.0</td>\n",
       "      <td>PNNL</td>\n",
       "      <td>WA</td>\n",
       "      <td>1</td>\n",
       "      <td>59</td>\n",
       "      <td>1</td>\n",
       "      <td>0</td>\n",
       "      <td>0</td>\n",
       "      <td>0</td>\n",
       "      <td>0</td>\n",
       "    </tr>\n",
       "    <tr>\n",
       "      <th>4</th>\n",
       "      <td>4</td>\n",
       "      <td>Data Scientist</td>\n",
       "      <td>$86K-$143K (Glassdoor est.)</td>\n",
       "      <td>Data Scientist\\nAffinity Solutions / Marketing...</td>\n",
       "      <td>2.9</td>\n",
       "      <td>Affinity Solutions\\n2.9</td>\n",
       "      <td>New York, NY</td>\n",
       "      <td>New York, NY</td>\n",
       "      <td>51 to 200 employees</td>\n",
       "      <td>1998</td>\n",
       "      <td>...</td>\n",
       "      <td>114500.0</td>\n",
       "      <td>Affinity Solutions</td>\n",
       "      <td>NY</td>\n",
       "      <td>1</td>\n",
       "      <td>26</td>\n",
       "      <td>1</td>\n",
       "      <td>0</td>\n",
       "      <td>1</td>\n",
       "      <td>0</td>\n",
       "      <td>0</td>\n",
       "    </tr>\n",
       "  </tbody>\n",
       "</table>\n",
       "<p>5 rows × 29 columns</p>\n",
       "</div>"
      ],
      "text/plain": [
       "   Unnamed: 0                  Job Title              Salary Estimate  \\\n",
       "0           0             Data Scientist   $53K-$91K (Glassdoor est.)   \n",
       "1           1  Healthcare Data Scientist  $63K-$112K (Glassdoor est.)   \n",
       "2           2             Data Scientist   $80K-$90K (Glassdoor est.)   \n",
       "3           3             Data Scientist   $56K-$97K (Glassdoor est.)   \n",
       "4           4             Data Scientist  $86K-$143K (Glassdoor est.)   \n",
       "\n",
       "                                     Job Description  Rating  \\\n",
       "0  Data Scientist\\nLocation: Albuquerque, NM\\nEdu...     3.8   \n",
       "1  What You Will Do:\\n\\nI. General Summary\\n\\nThe...     3.4   \n",
       "2  KnowBe4, Inc. is a high growth information sec...     4.8   \n",
       "3  *Organization and Job ID**\\nJob ID: 310709\\n\\n...     3.8   \n",
       "4  Data Scientist\\nAffinity Solutions / Marketing...     2.9   \n",
       "\n",
       "                                 Company Name         Location  \\\n",
       "0                      Tecolote Research\\n3.8  Albuquerque, NM   \n",
       "1  University of Maryland Medical System\\n3.4    Linthicum, MD   \n",
       "2                                KnowBe4\\n4.8   Clearwater, FL   \n",
       "3                                   PNNL\\n3.8     Richland, WA   \n",
       "4                     Affinity Solutions\\n2.9     New York, NY   \n",
       "\n",
       "     Headquarters                    Size  Founded  ... avg_salary  \\\n",
       "0      Goleta, CA   501 to 1000 employees     1973  ...    72000.0   \n",
       "1   Baltimore, MD        10000+ employees     1984  ...    87500.0   \n",
       "2  Clearwater, FL   501 to 1000 employees     2010  ...    85000.0   \n",
       "3    Richland, WA  1001 to 5000 employees     1965  ...    76500.0   \n",
       "4    New York, NY     51 to 200 employees     1998  ...   114500.0   \n",
       "\n",
       "                             company_txt job_state same_state age  py  r  \\\n",
       "0                      Tecolote Research        NM          0  51   1  0   \n",
       "1  University of Maryland Medical System        MD          0  40   1  0   \n",
       "2                                KnowBe4        FL          1  14   1  0   \n",
       "3                                   PNNL        WA          1  59   1  0   \n",
       "4                     Affinity Solutions        NY          1  26   1  0   \n",
       "\n",
       "   excel  aws  spark  \n",
       "0      1    0      0  \n",
       "1      0    0      0  \n",
       "2      1    0      1  \n",
       "3      0    0      0  \n",
       "4      1    0      0  \n",
       "\n",
       "[5 rows x 29 columns]"
      ]
     },
     "execution_count": 73,
     "metadata": {},
     "output_type": "execute_result"
    }
   ],
   "source": [
    "df.head()"
   ]
  },
  {
   "cell_type": "code",
   "execution_count": 74,
   "metadata": {},
   "outputs": [
    {
     "data": {
      "text/plain": [
       "Index(['Unnamed: 0', 'Job Title', 'Salary Estimate', 'Job Description',\n",
       "       'Rating', 'Company Name', 'Location', 'Headquarters', 'Size', 'Founded',\n",
       "       'Type of ownership', 'Industry', 'Sector', 'Revenue', 'Competitors',\n",
       "       'hourly', 'employer_provided', 'min_salary', 'max_salary', 'avg_salary',\n",
       "       'company_txt', 'job_state', 'same_state', 'age', 'py', 'r', 'excel',\n",
       "       'aws', 'spark'],\n",
       "      dtype='object')"
      ]
     },
     "execution_count": 74,
     "metadata": {},
     "output_type": "execute_result"
    }
   ],
   "source": [
    "df.columns"
   ]
  },
  {
   "cell_type": "code",
   "execution_count": 75,
   "metadata": {},
   "outputs": [],
   "source": [
    "df=df.drop('Unnamed: 0',axis=1)"
   ]
  },
  {
   "cell_type": "code",
   "execution_count": 77,
   "metadata": {},
   "outputs": [
    {
     "data": {
      "text/html": [
       "<div>\n",
       "<style scoped>\n",
       "    .dataframe tbody tr th:only-of-type {\n",
       "        vertical-align: middle;\n",
       "    }\n",
       "\n",
       "    .dataframe tbody tr th {\n",
       "        vertical-align: top;\n",
       "    }\n",
       "\n",
       "    .dataframe thead th {\n",
       "        text-align: right;\n",
       "    }\n",
       "</style>\n",
       "<table border=\"1\" class=\"dataframe\">\n",
       "  <thead>\n",
       "    <tr style=\"text-align: right;\">\n",
       "      <th></th>\n",
       "      <th>Job Title</th>\n",
       "      <th>Salary Estimate</th>\n",
       "      <th>Job Description</th>\n",
       "      <th>Rating</th>\n",
       "      <th>Company Name</th>\n",
       "      <th>Location</th>\n",
       "      <th>Headquarters</th>\n",
       "      <th>Size</th>\n",
       "      <th>Founded</th>\n",
       "      <th>Type of ownership</th>\n",
       "      <th>...</th>\n",
       "      <th>avg_salary</th>\n",
       "      <th>company_txt</th>\n",
       "      <th>job_state</th>\n",
       "      <th>same_state</th>\n",
       "      <th>age</th>\n",
       "      <th>py</th>\n",
       "      <th>r</th>\n",
       "      <th>excel</th>\n",
       "      <th>aws</th>\n",
       "      <th>spark</th>\n",
       "    </tr>\n",
       "  </thead>\n",
       "  <tbody>\n",
       "    <tr>\n",
       "      <th>0</th>\n",
       "      <td>Data Scientist</td>\n",
       "      <td>$53K-$91K (Glassdoor est.)</td>\n",
       "      <td>Data Scientist\\nLocation: Albuquerque, NM\\nEdu...</td>\n",
       "      <td>3.8</td>\n",
       "      <td>Tecolote Research\\n3.8</td>\n",
       "      <td>Albuquerque, NM</td>\n",
       "      <td>Goleta, CA</td>\n",
       "      <td>501 to 1000 employees</td>\n",
       "      <td>1973</td>\n",
       "      <td>Company - Private</td>\n",
       "      <td>...</td>\n",
       "      <td>72000.0</td>\n",
       "      <td>Tecolote Research</td>\n",
       "      <td>NM</td>\n",
       "      <td>0</td>\n",
       "      <td>51</td>\n",
       "      <td>1</td>\n",
       "      <td>0</td>\n",
       "      <td>1</td>\n",
       "      <td>0</td>\n",
       "      <td>0</td>\n",
       "    </tr>\n",
       "    <tr>\n",
       "      <th>1</th>\n",
       "      <td>Healthcare Data Scientist</td>\n",
       "      <td>$63K-$112K (Glassdoor est.)</td>\n",
       "      <td>What You Will Do:\\n\\nI. General Summary\\n\\nThe...</td>\n",
       "      <td>3.4</td>\n",
       "      <td>University of Maryland Medical System\\n3.4</td>\n",
       "      <td>Linthicum, MD</td>\n",
       "      <td>Baltimore, MD</td>\n",
       "      <td>10000+ employees</td>\n",
       "      <td>1984</td>\n",
       "      <td>Other Organization</td>\n",
       "      <td>...</td>\n",
       "      <td>87500.0</td>\n",
       "      <td>University of Maryland Medical System</td>\n",
       "      <td>MD</td>\n",
       "      <td>0</td>\n",
       "      <td>40</td>\n",
       "      <td>1</td>\n",
       "      <td>0</td>\n",
       "      <td>0</td>\n",
       "      <td>0</td>\n",
       "      <td>0</td>\n",
       "    </tr>\n",
       "    <tr>\n",
       "      <th>2</th>\n",
       "      <td>Data Scientist</td>\n",
       "      <td>$80K-$90K (Glassdoor est.)</td>\n",
       "      <td>KnowBe4, Inc. is a high growth information sec...</td>\n",
       "      <td>4.8</td>\n",
       "      <td>KnowBe4\\n4.8</td>\n",
       "      <td>Clearwater, FL</td>\n",
       "      <td>Clearwater, FL</td>\n",
       "      <td>501 to 1000 employees</td>\n",
       "      <td>2010</td>\n",
       "      <td>Company - Private</td>\n",
       "      <td>...</td>\n",
       "      <td>85000.0</td>\n",
       "      <td>KnowBe4</td>\n",
       "      <td>FL</td>\n",
       "      <td>1</td>\n",
       "      <td>14</td>\n",
       "      <td>1</td>\n",
       "      <td>0</td>\n",
       "      <td>1</td>\n",
       "      <td>0</td>\n",
       "      <td>1</td>\n",
       "    </tr>\n",
       "    <tr>\n",
       "      <th>3</th>\n",
       "      <td>Data Scientist</td>\n",
       "      <td>$56K-$97K (Glassdoor est.)</td>\n",
       "      <td>*Organization and Job ID**\\nJob ID: 310709\\n\\n...</td>\n",
       "      <td>3.8</td>\n",
       "      <td>PNNL\\n3.8</td>\n",
       "      <td>Richland, WA</td>\n",
       "      <td>Richland, WA</td>\n",
       "      <td>1001 to 5000 employees</td>\n",
       "      <td>1965</td>\n",
       "      <td>Government</td>\n",
       "      <td>...</td>\n",
       "      <td>76500.0</td>\n",
       "      <td>PNNL</td>\n",
       "      <td>WA</td>\n",
       "      <td>1</td>\n",
       "      <td>59</td>\n",
       "      <td>1</td>\n",
       "      <td>0</td>\n",
       "      <td>0</td>\n",
       "      <td>0</td>\n",
       "      <td>0</td>\n",
       "    </tr>\n",
       "    <tr>\n",
       "      <th>4</th>\n",
       "      <td>Data Scientist</td>\n",
       "      <td>$86K-$143K (Glassdoor est.)</td>\n",
       "      <td>Data Scientist\\nAffinity Solutions / Marketing...</td>\n",
       "      <td>2.9</td>\n",
       "      <td>Affinity Solutions\\n2.9</td>\n",
       "      <td>New York, NY</td>\n",
       "      <td>New York, NY</td>\n",
       "      <td>51 to 200 employees</td>\n",
       "      <td>1998</td>\n",
       "      <td>Company - Private</td>\n",
       "      <td>...</td>\n",
       "      <td>114500.0</td>\n",
       "      <td>Affinity Solutions</td>\n",
       "      <td>NY</td>\n",
       "      <td>1</td>\n",
       "      <td>26</td>\n",
       "      <td>1</td>\n",
       "      <td>0</td>\n",
       "      <td>1</td>\n",
       "      <td>0</td>\n",
       "      <td>0</td>\n",
       "    </tr>\n",
       "  </tbody>\n",
       "</table>\n",
       "<p>5 rows × 28 columns</p>\n",
       "</div>"
      ],
      "text/plain": [
       "                   Job Title              Salary Estimate  \\\n",
       "0             Data Scientist   $53K-$91K (Glassdoor est.)   \n",
       "1  Healthcare Data Scientist  $63K-$112K (Glassdoor est.)   \n",
       "2             Data Scientist   $80K-$90K (Glassdoor est.)   \n",
       "3             Data Scientist   $56K-$97K (Glassdoor est.)   \n",
       "4             Data Scientist  $86K-$143K (Glassdoor est.)   \n",
       "\n",
       "                                     Job Description  Rating  \\\n",
       "0  Data Scientist\\nLocation: Albuquerque, NM\\nEdu...     3.8   \n",
       "1  What You Will Do:\\n\\nI. General Summary\\n\\nThe...     3.4   \n",
       "2  KnowBe4, Inc. is a high growth information sec...     4.8   \n",
       "3  *Organization and Job ID**\\nJob ID: 310709\\n\\n...     3.8   \n",
       "4  Data Scientist\\nAffinity Solutions / Marketing...     2.9   \n",
       "\n",
       "                                 Company Name         Location  \\\n",
       "0                      Tecolote Research\\n3.8  Albuquerque, NM   \n",
       "1  University of Maryland Medical System\\n3.4    Linthicum, MD   \n",
       "2                                KnowBe4\\n4.8   Clearwater, FL   \n",
       "3                                   PNNL\\n3.8     Richland, WA   \n",
       "4                     Affinity Solutions\\n2.9     New York, NY   \n",
       "\n",
       "     Headquarters                    Size  Founded   Type of ownership  ...  \\\n",
       "0      Goleta, CA   501 to 1000 employees     1973   Company - Private  ...   \n",
       "1   Baltimore, MD        10000+ employees     1984  Other Organization  ...   \n",
       "2  Clearwater, FL   501 to 1000 employees     2010   Company - Private  ...   \n",
       "3    Richland, WA  1001 to 5000 employees     1965          Government  ...   \n",
       "4    New York, NY     51 to 200 employees     1998   Company - Private  ...   \n",
       "\n",
       "  avg_salary                            company_txt job_state same_state  age  \\\n",
       "0    72000.0                      Tecolote Research        NM          0   51   \n",
       "1    87500.0  University of Maryland Medical System        MD          0   40   \n",
       "2    85000.0                                KnowBe4        FL          1   14   \n",
       "3    76500.0                                   PNNL        WA          1   59   \n",
       "4   114500.0                     Affinity Solutions        NY          1   26   \n",
       "\n",
       "   py  r  excel  aws spark  \n",
       "0   1  0      1    0     0  \n",
       "1   1  0      0    0     0  \n",
       "2   1  0      1    0     1  \n",
       "3   1  0      0    0     0  \n",
       "4   1  0      1    0     0  \n",
       "\n",
       "[5 rows x 28 columns]"
      ]
     },
     "execution_count": 77,
     "metadata": {},
     "output_type": "execute_result"
    }
   ],
   "source": [
    "df.head()"
   ]
  },
  {
   "cell_type": "code",
   "execution_count": 78,
   "metadata": {},
   "outputs": [],
   "source": [
    "df.to_csv('glassdoor_jobs_cleaned.csv',index=False)"
   ]
  },
  {
   "cell_type": "code",
   "execution_count": null,
   "metadata": {},
   "outputs": [],
   "source": []
  }
 ],
 "metadata": {
  "kernelspec": {
   "display_name": "Python 3",
   "language": "python",
   "name": "python3"
  },
  "language_info": {
   "codemirror_mode": {
    "name": "ipython",
    "version": 3
   },
   "file_extension": ".py",
   "mimetype": "text/x-python",
   "name": "python",
   "nbconvert_exporter": "python",
   "pygments_lexer": "ipython3",
   "version": "3.12.4"
  }
 },
 "nbformat": 4,
 "nbformat_minor": 2
}
